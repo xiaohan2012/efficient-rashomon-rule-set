{
 "cells": [
  {
   "cell_type": "code",
   "execution_count": 5,
   "id": "a74c79e3",
   "metadata": {},
   "outputs": [
    {
     "name": "stdout",
     "output_type": "stream",
     "text": [
      "/u/50/ciaperm1/data/Desktop\n"
     ]
    }
   ],
   "source": [
    "import logging\n",
    "import sys\n",
    "import os\n",
    "%cd ..\n",
    "from bds.meel import approx_mc2, approx_mc2_core\n",
    "from bds.rule import Rule\n",
    "from bds.utils import bin_random , bin_array, randints, solutions_to_dict\n",
    "\n",
    "from bds.bb import BranchAndBoundNaive, BranchAndBoundV1, BranchAndBoundV0\n",
    "from logzero import logger\n",
    "import gmpy2 as gmp\n",
    "from gmpy2 import mpz , mpfr\n",
    "from bds.sat.min_freq import construct_min_freq_program\n",
    "from bds.sat.solver import construct_solver\n",
    "from bds.gf2 import GF\n",
    "from bds.rule import Rule\n",
    "from bds.utils import mpz_set_bits\n",
    "from tests.utils import assert_dict_allclose, assert_close_mpfr\n",
    "\n",
    "from bds.bounds_utils import find_equivalence_classes\n",
    "import numpy as np \n",
    "\n",
    "logger.setLevel(logging.DEBUG)\n",
    "\n",
    "num_pts = 1000\n",
    "\n",
    "ub = 0.8\n",
    "lmbd = .1\n",
    "\n",
    "delta = .8\n",
    "eps = .8\n",
    "\n",
    "show_progres = True\n",
    "rand_seed = 1234"
   ]
  },
  {
   "cell_type": "markdown",
   "id": "1354491f",
   "metadata": {},
   "source": [
    "## This notebook for testing purposes, it only helps with pen-and-paper computation for testing bounds"
   ]
  },
  {
   "cell_type": "code",
   "execution_count": 6,
   "id": "6faf02d0",
   "metadata": {},
   "outputs": [],
   "source": [
    "os.chdir(\"/u/50/ciaperm1/unix/Desktop/sampling-rashomon-decision-set-code\")"
   ]
  },
  {
   "cell_type": "markdown",
   "id": "88bd72cf",
   "metadata": {},
   "source": [
    "## For end2end test "
   ]
  },
  {
   "cell_type": "code",
   "execution_count": 7,
   "id": "d01cc571",
   "metadata": {},
   "outputs": [],
   "source": [
    "rules = [\n",
    "        Rule(\n",
    "            id=1,\n",
    "            name=\"rule-1\",\n",
    "            cardinality=1,\n",
    "            # truthtable=np.array([0, 1, 0, 1, 0], dtype=bool),\n",
    "            truthtable=mpz_set_bits(mpz(), [1, 3])\n",
    "        ),\n",
    "        Rule(\n",
    "            id=2,\n",
    "            name=\"rule-2\",\n",
    "            cardinality=1,\n",
    "            # truthtable=np.array([0, 0, 1, 0, 1], dtype=bool),\n",
    "            truthtable=mpz_set_bits(mpz(), [2, 4])\n",
    "        ),\n",
    "        Rule(\n",
    "            id=3,\n",
    "            name=\"rule-3\",\n",
    "            cardinality=1,\n",
    "            # truthtable=np.array([1, 0, 1, 0, 1], dtype=bool),\n",
    "            truthtable=mpz_set_bits(mpz(), [0, 2, 4])\n",
    "        ),\n",
    "    \n",
    "        Rule(\n",
    "            id=4,\n",
    "            name=\"rule-4\",\n",
    "            cardinality=1,\n",
    "            # truthtable=np.array([1, 0, 1, 0, 1], dtype=bool),\n",
    "            truthtable=mpz_set_bits(mpz(), [0, 2, 4])\n",
    "        ),\n",
    "    \n",
    "    \n",
    "    ]\n",
    "\n",
    "\n",
    "y = np.array([0, 1, 0, 0, 0], dtype=bool)\n",
    "\n",
    "X = np.array( [[1,0,0], [0,1,0], [1,0,1], [0,1,0], [1,0,1]]  )"
   ]
  },
  {
   "cell_type": "code",
   "execution_count": 8,
   "id": "ac6bad81",
   "metadata": {},
   "outputs": [
    {
     "name": "stderr",
     "output_type": "stream",
     "text": [
      "[D 230509 20:10:29 bb:74] calling BranchAndBoundV1 with ub=inf, lmbd=0.100000\n"
     ]
    },
    {
     "name": "stdout",
     "output_type": "stream",
     "text": [
      "5\n"
     ]
    }
   ],
   "source": [
    "ub = float(\"inf\")\n",
    "lmbd = mpfr(lmbd)\n",
    "\n",
    "# the first iteration of the branch and bound\n",
    "bb = BranchAndBoundV1(rules, ub=ub, y=y, lmbd=lmbd)\n",
    "first_elb, data_points2rules, equivalence_classes = find_equivalence_classes(y, rules)\n",
    "bb.reset(first_elb)\n",
    "node, not_captured = bb.queue.pop()\n"
   ]
  },
  {
   "cell_type": "code",
   "execution_count": 9,
   "id": "219fc260",
   "metadata": {},
   "outputs": [
    {
     "data": {
      "text/plain": [
       "[[3, 4], [1], [2, 3, 4], [1], [2, 3, 4]]"
      ]
     },
     "execution_count": 9,
     "metadata": {},
     "output_type": "execute_result"
    }
   ],
   "source": [
    "data_points2rules"
   ]
  },
  {
   "cell_type": "code",
   "execution_count": 11,
   "id": "06c3c306",
   "metadata": {},
   "outputs": [
    {
     "data": {
      "text/plain": [
       "[1]"
      ]
     },
     "execution_count": 11,
     "metadata": {},
     "output_type": "execute_result"
    }
   ],
   "source": [
    "data_points2rules[1]"
   ]
  },
  {
   "cell_type": "code",
   "execution_count": 12,
   "id": "451a28fd",
   "metadata": {},
   "outputs": [
    {
     "data": {
      "text/plain": [
       "{1, 3}"
      ]
     },
     "execution_count": 12,
     "metadata": {},
     "output_type": "execute_result"
    }
   ],
   "source": [
    "example_rule_list = data_points2rules[1]\n",
    "n = mpz_set_bits(gmp.mpz(), example_rule_list)\n",
    "equivalence_classes[n].data_points\n"
   ]
  },
  {
   "cell_type": "code",
   "execution_count": 8,
   "id": "19346f61",
   "metadata": {},
   "outputs": [
    {
     "data": {
      "text/plain": [
       "1"
      ]
     },
     "execution_count": 8,
     "metadata": {},
     "output_type": "execute_result"
    }
   ],
   "source": [
    "equivalence_classes[n].total_positives\n"
   ]
  },
  {
   "cell_type": "code",
   "execution_count": 9,
   "id": "74ab62dd",
   "metadata": {},
   "outputs": [
    {
     "data": {
      "text/plain": [
       "1"
      ]
     },
     "execution_count": 9,
     "metadata": {},
     "output_type": "execute_result"
    }
   ],
   "source": [
    "equivalence_classes[n].total_negatives\n"
   ]
  },
  {
   "cell_type": "code",
   "execution_count": 10,
   "id": "ce732938",
   "metadata": {},
   "outputs": [
    {
     "data": {
      "text/plain": [
       "1"
      ]
     },
     "execution_count": 10,
     "metadata": {},
     "output_type": "execute_result"
    }
   ],
   "source": [
    "equivalence_classes[n].minority_mistakes"
   ]
  },
  {
   "cell_type": "code",
   "execution_count": 11,
   "id": "99364574",
   "metadata": {},
   "outputs": [
    {
     "data": {
      "text/plain": [
       "{mpz(24): <bds.bounds_utils.EquivalentPointClass at 0x7f67bf4f5c40>,\n",
       " mpz(2): <bds.bounds_utils.EquivalentPointClass at 0x7f67bf4f5880>,\n",
       " mpz(28): <bds.bounds_utils.EquivalentPointClass at 0x7f67bf4f56d0>}"
      ]
     },
     "execution_count": 11,
     "metadata": {},
     "output_type": "execute_result"
    }
   ],
   "source": [
    "equivalence_classes"
   ]
  },
  {
   "cell_type": "code",
   "execution_count": 12,
   "id": "290923d8",
   "metadata": {},
   "outputs": [
    {
     "data": {
      "text/plain": [
       "0"
      ]
     },
     "execution_count": 12,
     "metadata": {},
     "output_type": "execute_result"
    }
   ],
   "source": [
    "equivalence_classes[mpz(24)].minority_mistakes"
   ]
  },
  {
   "cell_type": "code",
   "execution_count": 13,
   "id": "07ce0082",
   "metadata": {},
   "outputs": [
    {
     "data": {
      "text/plain": [
       "1"
      ]
     },
     "execution_count": 13,
     "metadata": {},
     "output_type": "execute_result"
    }
   ],
   "source": [
    "equivalence_classes[mpz(2)].minority_mistakes"
   ]
  },
  {
   "cell_type": "code",
   "execution_count": 14,
   "id": "5c810505",
   "metadata": {},
   "outputs": [
    {
     "data": {
      "text/plain": [
       "0"
      ]
     },
     "execution_count": 14,
     "metadata": {},
     "output_type": "execute_result"
    }
   ],
   "source": [
    "equivalence_classes[mpz(28)].minority_mistakes"
   ]
  },
  {
   "cell_type": "code",
   "execution_count": 15,
   "id": "8bfdd478",
   "metadata": {},
   "outputs": [
    {
     "data": {
      "text/plain": [
       "True"
      ]
     },
     "execution_count": 15,
     "metadata": {},
     "output_type": "execute_result"
    }
   ],
   "source": [
    "first_elb == -1/5"
   ]
  },
  {
   "cell_type": "code",
   "execution_count": null,
   "id": "dbfa0579",
   "metadata": {},
   "outputs": [],
   "source": []
  },
  {
   "cell_type": "code",
   "execution_count": 16,
   "id": "f068ac9e",
   "metadata": {},
   "outputs": [
    {
     "name": "stdout",
     "output_type": "stream",
     "text": [
      "0.0\n",
      "1.0\n",
      "1.9999999999999996\n",
      "3.0\n",
      "4.0\n",
      "4.999999999999999\n",
      "5.999999999999999\n",
      "7.0\n",
      "8.0\n"
     ]
    }
   ],
   "source": [
    "lmbd = 0.1\n",
    "for ub in [0.1,0.2,0.3,0.4,0.5,0.6,0.7,0.8,0.9]: \n",
    "    print( ((ub/lmbd) - 1) )"
   ]
  },
  {
   "cell_type": "code",
   "execution_count": 17,
   "id": "4e2e6b5d",
   "metadata": {},
   "outputs": [
    {
     "name": "stdout",
     "output_type": "stream",
     "text": [
      "inf\n"
     ]
    }
   ],
   "source": [
    "lmbd = 0.1\n",
    "for ub in [float(\"inf\")]: \n",
    "    print( ((ub/lmbd) - 1) )"
   ]
  },
  {
   "cell_type": "code",
   "execution_count": 112,
   "id": "d5352160",
   "metadata": {},
   "outputs": [
    {
     "name": "stderr",
     "output_type": "stream",
     "text": [
      "[D 230509 19:54:28 bb:74] calling BranchAndBoundV0 with ub=inf, lmbd=0.1\n"
     ]
    }
   ],
   "source": [
    "lmbd = 0.1\n",
    "ub = float(\"inf\")\n",
    "bb = BranchAndBoundV0(rules, ub=ub, y=y, lmbd=lmbd)\n",
    "feasible_solutions = list(bb.run( return_objective=True))\n",
    "actual = solutions_to_dict(feasible_solutions)\n"
   ]
  },
  {
   "cell_type": "code",
   "execution_count": 113,
   "id": "b23ec09a",
   "metadata": {},
   "outputs": [
    {
     "data": {
      "text/plain": [
       "{(0, 1): mpfr('0.30000000000000004'),\n",
       " (0, 2): mpfr('0.69999999999999996'),\n",
       " (0, 3): mpfr('0.89999999999999991'),\n",
       " (0, 4): mpfr('0.89999999999999991'),\n",
       " (0, 1, 2): mpfr('0.80000000000000004'),\n",
       " (0, 1, 3): mpfr('1.0'),\n",
       " (0, 1, 4): mpfr('1.0'),\n",
       " (0, 2, 3): mpfr('1.0'),\n",
       " (0, 2, 4): mpfr('1.0'),\n",
       " (0, 3, 4): mpfr('1.0'),\n",
       " (0, 2, 3, 4): mpfr('1.0999999999999999'),\n",
       " (0, 1, 2, 3): mpfr('1.1000000000000001'),\n",
       " (0, 1, 2, 4): mpfr('1.1000000000000001'),\n",
       " (0, 1, 3, 4): mpfr('1.1000000000000001'),\n",
       " (0, 1, 2, 3, 4): mpfr('1.2000000000000002')}"
      ]
     },
     "execution_count": 113,
     "metadata": {},
     "output_type": "execute_result"
    }
   ],
   "source": [
    "actual"
   ]
  },
  {
   "cell_type": "code",
   "execution_count": 44,
   "id": "bdcdb58c",
   "metadata": {},
   "outputs": [],
   "source": [
    "expected = {(0, 1): mpfr('0.3'),\n",
    " (0, 2): mpfr('0.7'),\n",
    " (0, 3): mpfr('0.9'),\n",
    " (0, 4): mpfr('0.9'),\n",
    " (0, 1, 2): mpfr('0.8'),\n",
    " (0, 1, 3): mpfr('1.0'),\n",
    " (0, 1, 4): mpfr('1.0'),\n",
    " (0, 2, 3): mpfr('1.0'),\n",
    " (0, 2, 4): mpfr('1.0'),\n",
    " (0, 3, 4): mpfr('1.0'),\n",
    " (0, 2, 3, 4): mpfr('1.1'),\n",
    " (0, 1, 2, 3): mpfr('1.1'),\n",
    " (0, 1, 2, 4): mpfr('1.1'),\n",
    " (0, 1, 3, 4): mpfr('1.1'),\n",
    " (0, 1, 2, 3, 4): mpfr('1.2')}"
   ]
  },
  {
   "cell_type": "code",
   "execution_count": 46,
   "id": "530323ad",
   "metadata": {},
   "outputs": [
    {
     "name": "stderr",
     "output_type": "stream",
     "text": [
      "[D 230509 18:41:07 bb:74] calling BranchAndBoundV0 with ub=0.1, lmbd=0.1\n",
      "[D 230509 18:41:07 bb:74] calling BranchAndBoundV0 with ub=0.2, lmbd=0.1\n",
      "[D 230509 18:41:07 bb:74] calling BranchAndBoundV0 with ub=0.3, lmbd=0.1\n",
      "[D 230509 18:41:07 bb:74] calling BranchAndBoundV0 with ub=0.4, lmbd=0.1\n",
      "[D 230509 18:41:07 bb:74] calling BranchAndBoundV0 with ub=0.5, lmbd=0.1\n",
      "[D 230509 18:41:07 bb:74] calling BranchAndBoundV0 with ub=0.6, lmbd=0.1\n",
      "[D 230509 18:41:07 bb:74] calling BranchAndBoundV0 with ub=0.7, lmbd=0.1\n",
      "[D 230509 18:41:07 bb:74] calling BranchAndBoundV0 with ub=0.8, lmbd=0.1\n",
      "[D 230509 18:41:07 bb:74] calling BranchAndBoundV0 with ub=0.9, lmbd=0.1\n"
     ]
    },
    {
     "name": "stdout",
     "output_type": "stream",
     "text": [
      "ub 0.1\n",
      "threshold 0.0\n",
      "[]\n",
      "[]\n",
      "ub 0.2\n",
      "threshold 1.0\n",
      "[]\n",
      "[]\n",
      "ub 0.3\n",
      "threshold 1.9999999999999996\n",
      "[]\n",
      "[]\n",
      "ub 0.4\n",
      "threshold 3.0\n",
      "[{0, 1}]\n",
      "[{0, 1}]\n",
      "ub 0.5\n",
      "threshold 4.0\n",
      "[{0, 1}]\n",
      "[{0, 1}]\n",
      "ub 0.6\n",
      "threshold 4.999999999999999\n",
      "[{0, 1}]\n",
      "[{0, 1}]\n",
      "ub 0.7\n",
      "threshold 5.999999999999999\n",
      "[{0, 1}, {0, 2}]\n",
      "[{0, 1}, {0, 2}]\n",
      "ub 0.8\n",
      "threshold 7.0\n",
      "[{0, 1}, {0, 2}, {0, 1, 2}]\n",
      "[{0, 1}, {0, 2}, {0, 1, 2}]\n",
      "ub 0.9\n",
      "threshold 8.0\n",
      "[{0, 1}, {0, 2}, {0, 3}, {0, 4}, {0, 1, 2}]\n",
      "[{0, 1}, {0, 2}, {0, 3}, {0, 4}, {0, 1, 2}]\n"
     ]
    }
   ],
   "source": [
    "\n",
    "for ub in [0.1,0.2,0.3,0.4,0.5,0.6,0.7,0.8,0.9]: \n",
    "    print(\"ub \" + str(ub))\n",
    "    print( \"threshold \" + str(((ub/lmbd) - 1) )) \n",
    "    bb = BranchAndBoundV0(rules, ub=ub, y=y, lmbd=lmbd)\n",
    "    feasible_solutions = list(bb.run( return_objective=False))\n",
    "    print(feasible_solutions)\n",
    "    print(feasible_solutions)\n"
   ]
  },
  {
   "cell_type": "code",
   "execution_count": null,
   "id": "362e04d8",
   "metadata": {},
   "outputs": [],
   "source": [
    "expected = {(0, 1): mpfr('0.3'),\n",
    " (0, 2): mpfr('0.7'),\n",
    " (0, 3): mpfr('0.9'),\n",
    " (0, 4): mpfr('0.9'),\n",
    " (0, 1, 2): mpfr('0.8'),\n",
    " (0, 1, 3): mpfr('1.0'),\n",
    " (0, 1, 4): mpfr('1.0'),\n",
    " (0, 2, 3): mpfr('1.0'),\n",
    " (0, 2, 4): mpfr('1.0'),\n",
    " (0, 3, 4): mpfr('1.0'),\n",
    " (0, 2, 3, 4): mpfr('1.1'),\n",
    " (0, 1, 2, 3): mpfr('1.1'),\n",
    " (0, 1, 2, 4): mpfr('1.1'),\n",
    " (0, 1, 3, 4): mpfr('1.1'),\n",
    " (0, 1, 2, 3, 4): mpfr('1.2')}"
   ]
  },
  {
   "cell_type": "code",
   "execution_count": null,
   "id": "39626e1b",
   "metadata": {},
   "outputs": [],
   "source": [
    "## Branch and boundV1 -- speed up "
   ]
  },
  {
   "cell_type": "code",
   "execution_count": 50,
   "id": "ff55afbb",
   "metadata": {},
   "outputs": [
    {
     "name": "stderr",
     "output_type": "stream",
     "text": [
      "[D 230509 18:44:04 bb:74] calling BranchAndBoundV1 with ub=inf, lmbd=0.1\n"
     ]
    }
   ],
   "source": [
    "lmbd = 0.1\n",
    "ub = float(\"inf\")\n",
    "\n",
    "# the first iteration of the branch and bound\n",
    "bb = BranchAndBoundV1(rules, ub=ub, y=y, lmbd=lmbd)\n",
    "feasible_solutions = list(bb.run(X_trn = X, return_objective=True))\n",
    "actual = solutions_to_dict(feasible_solutions)\n",
    "\n"
   ]
  },
  {
   "cell_type": "code",
   "execution_count": 51,
   "id": "0fbd64c3",
   "metadata": {},
   "outputs": [
    {
     "data": {
      "text/plain": [
       "{(0, 1): mpfr('0.30000000000000004'),\n",
       " (0, 2): mpfr('0.69999999999999996'),\n",
       " (0, 3): mpfr('0.89999999999999991'),\n",
       " (0, 4): mpfr('0.89999999999999991'),\n",
       " (0, 1, 2): mpfr('0.80000000000000004'),\n",
       " (0, 1, 3): mpfr('1.0'),\n",
       " (0, 1, 4): mpfr('1.0'),\n",
       " (0, 2, 3): mpfr('1.0'),\n",
       " (0, 2, 4): mpfr('1.0'),\n",
       " (0, 3, 4): mpfr('1.0'),\n",
       " (0, 2, 3, 4): mpfr('1.0999999999999999'),\n",
       " (0, 1, 2, 3): mpfr('1.1000000000000001'),\n",
       " (0, 1, 2, 4): mpfr('1.1000000000000001'),\n",
       " (0, 1, 3, 4): mpfr('1.1000000000000001'),\n",
       " (0, 1, 2, 3, 4): mpfr('1.2000000000000002')}"
      ]
     },
     "execution_count": 51,
     "metadata": {},
     "output_type": "execute_result"
    }
   ],
   "source": [
    "actual"
   ]
  },
  {
   "cell_type": "code",
   "execution_count": 52,
   "id": "b3d83d7b",
   "metadata": {},
   "outputs": [],
   "source": [
    "assert_dict_allclose(actual, expected)"
   ]
  },
  {
   "cell_type": "code",
   "execution_count": 9,
   "id": "3f859989",
   "metadata": {},
   "outputs": [
    {
     "data": {
      "text/plain": [
       "0.7000000000000001"
      ]
     },
     "execution_count": 9,
     "metadata": {},
     "output_type": "execute_result"
    }
   ],
   "source": [
    "2 / 5 + 1 / 5 +  0.1"
   ]
  },
  {
   "cell_type": "code",
   "execution_count": 5,
   "id": "08ba62c9",
   "metadata": {},
   "outputs": [
    {
     "name": "stderr",
     "output_type": "stream",
     "text": [
      "[D 230509 18:51:55 bb:74] calling BranchAndBoundV1 with ub=inf, lmbd=0.1\n"
     ]
    },
    {
     "name": "stdout",
     "output_type": "stream",
     "text": [
      "rule Rule(id=1, name='rule-1', cardinality=1, truthtable=mpz(10))\n",
      "parent rules {0}\n",
      "parent_equivalent_lower_bound 0.2\n",
      "equivalent lower bound after update 0.0\n",
      "lower bound 0.30000000000000004\n",
      "parent lower bound 0.0\n",
      "rule Rule(id=2, name='rule-2', cardinality=1, truthtable=mpz(20))\n",
      "parent rules {0}\n",
      "parent_equivalent_lower_bound 0.2\n",
      "equivalent lower bound after update 0.2\n",
      "lower bound 0.5\n",
      "parent lower bound 0.0\n",
      "rule Rule(id=3, name='rule-3', cardinality=1, truthtable=mpz(21))\n",
      "parent rules {0}\n",
      "parent_equivalent_lower_bound 0.2\n",
      "equivalent lower bound after update 0.2\n",
      "lower bound 0.69999999999999996\n",
      "parent lower bound 0.0\n",
      "rule Rule(id=4, name='rule-4', cardinality=1, truthtable=mpz(21))\n",
      "parent rules {0}\n",
      "parent_equivalent_lower_bound 0.2\n",
      "equivalent lower bound after update 0.2\n",
      "lower bound 0.69999999999999996\n",
      "parent lower bound 0.0\n",
      "rule Rule(id=2, name='rule-2', cardinality=1, truthtable=mpz(20))\n",
      "parent rules {0, 1}\n",
      "parent_equivalent_lower_bound 0.0\n",
      "equivalent lower bound after update 0.0\n",
      "lower bound 0.80000000000000004\n",
      "parent lower bound 0.30000000000000004\n",
      "rule Rule(id=3, name='rule-3', cardinality=1, truthtable=mpz(21))\n",
      "parent rules {0, 1}\n",
      "parent_equivalent_lower_bound 0.0\n",
      "equivalent lower bound after update 0.0\n",
      "lower bound 1.0\n",
      "parent lower bound 0.30000000000000004\n",
      "rule Rule(id=4, name='rule-4', cardinality=1, truthtable=mpz(21))\n",
      "parent rules {0, 1}\n",
      "parent_equivalent_lower_bound 0.0\n",
      "equivalent lower bound after update 0.0\n",
      "lower bound 1.0\n",
      "parent lower bound 0.30000000000000004\n",
      "rule Rule(id=3, name='rule-3', cardinality=1, truthtable=mpz(21))\n",
      "parent rules {0, 2}\n",
      "parent_equivalent_lower_bound 0.2\n",
      "equivalent lower bound after update 0.2\n",
      "lower bound 0.79999999999999993\n",
      "parent lower bound 0.5\n",
      "rule Rule(id=4, name='rule-4', cardinality=1, truthtable=mpz(21))\n",
      "parent rules {0, 2}\n",
      "parent_equivalent_lower_bound 0.2\n",
      "equivalent lower bound after update 0.2\n",
      "lower bound 0.79999999999999993\n",
      "parent lower bound 0.5\n",
      "rule Rule(id=4, name='rule-4', cardinality=1, truthtable=mpz(21))\n",
      "parent rules {0, 3}\n",
      "parent_equivalent_lower_bound 0.2\n",
      "equivalent lower bound after update 0.2\n",
      "lower bound 0.79999999999999993\n",
      "parent lower bound 0.69999999999999996\n",
      "rule Rule(id=4, name='rule-4', cardinality=1, truthtable=mpz(21))\n",
      "parent rules {0, 2, 3}\n",
      "parent_equivalent_lower_bound 0.2\n",
      "equivalent lower bound after update 0.2\n",
      "lower bound 0.89999999999999991\n",
      "parent lower bound 0.79999999999999993\n",
      "rule Rule(id=3, name='rule-3', cardinality=1, truthtable=mpz(21))\n",
      "parent rules {0, 1, 2}\n",
      "parent_equivalent_lower_bound 0.0\n",
      "equivalent lower bound after update 0.0\n",
      "lower bound 1.1000000000000001\n",
      "parent lower bound 0.80000000000000004\n",
      "rule Rule(id=4, name='rule-4', cardinality=1, truthtable=mpz(21))\n",
      "parent rules {0, 1, 2}\n",
      "parent_equivalent_lower_bound 0.0\n",
      "equivalent lower bound after update 0.0\n",
      "lower bound 1.1000000000000001\n",
      "parent lower bound 0.80000000000000004\n",
      "rule Rule(id=4, name='rule-4', cardinality=1, truthtable=mpz(21))\n",
      "parent rules {0, 1, 3}\n",
      "parent_equivalent_lower_bound 0.0\n",
      "equivalent lower bound after update 0.0\n",
      "lower bound 1.1000000000000001\n",
      "parent lower bound 1.0\n",
      "rule Rule(id=4, name='rule-4', cardinality=1, truthtable=mpz(21))\n",
      "parent rules {0, 1, 2, 3}\n",
      "parent_equivalent_lower_bound 0.0\n",
      "equivalent lower bound after update 0.0\n",
      "lower bound 1.2000000000000002\n",
      "parent lower bound 1.1000000000000001\n"
     ]
    }
   ],
   "source": [
    "lmbd = 0.1\n",
    "ub = float(\"inf\")\n",
    "\n",
    "# the first iteration of the branch and bound\n",
    "bb = BranchAndBoundV1(rules, ub=ub, y=y, lmbd=lmbd)\n",
    "feasible_solutions = list(bb.run(X_trn = X, return_objective=True))\n",
    "actual = solutions_to_dict(feasible_solutions)\n",
    "\n"
   ]
  },
  {
   "cell_type": "markdown",
   "id": "f4b75ae8",
   "metadata": {},
   "source": [
    "#### It is correct, let us now consider a more interesting case with more equivalent bound , which actually prunes a lot "
   ]
  },
  {
   "cell_type": "code",
   "execution_count": null,
   "id": "a3f485e9",
   "metadata": {},
   "outputs": [],
   "source": []
  },
  {
   "cell_type": "code",
   "execution_count": 14,
   "id": "655d5783",
   "metadata": {},
   "outputs": [],
   "source": [
    "rules = [\n",
    "        Rule(\n",
    "            id=1,\n",
    "            name=\"rule-1\",\n",
    "            cardinality=1,\n",
    "            # truthtable=np.array([0, 1, 0, 1, 0], dtype=bool),\n",
    "            truthtable=mpz_set_bits(mpz(), [1, 3, 5, 7])\n",
    "        ),\n",
    "        Rule(\n",
    "            id=2,\n",
    "            name=\"rule-2\",\n",
    "            cardinality=1,\n",
    "            # truthtable=np.array([0, 0, 1, 0, 1], dtype=bool),\n",
    "            truthtable=mpz_set_bits(mpz(), [2, 4,8,9])\n",
    "        ),\n",
    "        Rule(\n",
    "            id=3,\n",
    "            name=\"rule-3\",\n",
    "            cardinality=1,\n",
    "            # truthtable=np.array([1, 0, 1, 0, 1], dtype=bool),\n",
    "            truthtable=mpz_set_bits(mpz(), [0, 2, 4,10])\n",
    "        ),\n",
    "    \n",
    "        Rule(\n",
    "            id=4,\n",
    "            name=\"rule-4\",\n",
    "            cardinality=1,\n",
    "            # truthtable=np.array([1, 0, 1, 0, 1], dtype=bool),\n",
    "            truthtable=mpz_set_bits(mpz(), [0, 2, 4, 11])\n",
    "        )\n",
    "      \n",
    "    \n",
    "    ]\n",
    "\n",
    "\n",
    "y = np.array([0, 1, 0, 0, 1, 0 ,1, 1, 1, 0, 1, 1 ], dtype=bool)\n",
    "\n",
    "X = np.array( [[1,0,0], [0,1,0], [1,0,1], [0,1,0], [1,0,1], [1,0,0], [0,1,0], [1,0,1], [0,1,0], [1,0,1], [0,1,0], [1,0,1]]  )"
   ]
  },
  {
   "cell_type": "code",
   "execution_count": 15,
   "id": "ff0c981e",
   "metadata": {},
   "outputs": [
    {
     "data": {
      "text/plain": [
       "[True, False, False, True]"
      ]
     },
     "execution_count": 15,
     "metadata": {},
     "output_type": "execute_result"
    }
   ],
   "source": [
    "[y[i] for i in [1,3,5,7]]"
   ]
  },
  {
   "cell_type": "code",
   "execution_count": 67,
   "id": "1b983285",
   "metadata": {},
   "outputs": [
    {
     "data": {
      "text/plain": [
       "[False, False, True, True, True, False, True, True]"
      ]
     },
     "execution_count": 67,
     "metadata": {},
     "output_type": "execute_result"
    }
   ],
   "source": [
    "[y[i] for i in range(len(y)) if i not in [1,3,5,7]]"
   ]
  },
  {
   "cell_type": "code",
   "execution_count": 77,
   "id": "3ded5114",
   "metadata": {},
   "outputs": [
    {
     "name": "stdout",
     "output_type": "stream",
     "text": [
      "24\n",
      "2\n",
      "28\n",
      "0\n",
      "4\n",
      "8\n",
      "16\n"
     ]
    }
   ],
   "source": [
    "for k in equivalence_classes: \n",
    "    print(k)"
   ]
  },
  {
   "cell_type": "code",
   "execution_count": 72,
   "id": "ad6b3666",
   "metadata": {},
   "outputs": [
    {
     "data": {
      "text/plain": [
       "2"
      ]
     },
     "execution_count": 72,
     "metadata": {},
     "output_type": "execute_result"
    }
   ],
   "source": [
    "equivalence_classes[mpz(2)].minority_mistakes"
   ]
  },
  {
   "cell_type": "code",
   "execution_count": 108,
   "id": "3442ebd9",
   "metadata": {},
   "outputs": [
    {
     "data": {
      "text/plain": [
       "12"
      ]
     },
     "execution_count": 108,
     "metadata": {},
     "output_type": "execute_result"
    }
   ],
   "source": [
    "len(data_points2rules)\n"
   ]
  },
  {
   "cell_type": "code",
   "execution_count": 79,
   "id": "f0785861",
   "metadata": {},
   "outputs": [
    {
     "data": {
      "text/plain": [
       "[2, 3, 4]"
      ]
     },
     "execution_count": 79,
     "metadata": {},
     "output_type": "execute_result"
    }
   ],
   "source": [
    "data_points2rules[4]\n"
   ]
  },
  {
   "cell_type": "code",
   "execution_count": 80,
   "id": "f7f0bd87",
   "metadata": {},
   "outputs": [
    {
     "data": {
      "text/plain": [
       "[2]"
      ]
     },
     "execution_count": 80,
     "metadata": {},
     "output_type": "execute_result"
    }
   ],
   "source": [
    "data_points2rules[8]\n"
   ]
  },
  {
   "cell_type": "code",
   "execution_count": 81,
   "id": "331af38a",
   "metadata": {},
   "outputs": [
    {
     "data": {
      "text/plain": [
       "[2]"
      ]
     },
     "execution_count": 81,
     "metadata": {},
     "output_type": "execute_result"
    }
   ],
   "source": [
    "data_points2rules[9]"
   ]
  },
  {
   "cell_type": "code",
   "execution_count": 89,
   "id": "b6456495",
   "metadata": {},
   "outputs": [],
   "source": [
    "mpzOutb = mpz_set_bits(gmp.mpz(),[2])"
   ]
  },
  {
   "cell_type": "code",
   "execution_count": 90,
   "id": "723c5bea",
   "metadata": {},
   "outputs": [
    {
     "data": {
      "text/plain": [
       "mpz(4)"
      ]
     },
     "execution_count": 90,
     "metadata": {},
     "output_type": "execute_result"
    }
   ],
   "source": [
    "mpzOutb"
   ]
  },
  {
   "cell_type": "code",
   "execution_count": 88,
   "id": "a8d50764",
   "metadata": {},
   "outputs": [],
   "source": [
    "mpzOutb = mpz_set_bits(gmp.mpz(),[2])"
   ]
  },
  {
   "cell_type": "code",
   "execution_count": 92,
   "id": "2f49548a",
   "metadata": {},
   "outputs": [
    {
     "data": {
      "text/plain": [
       "{mpz(24): <bds.bounds_utils.EquivalentPointClass at 0x7f35d5e69d30>,\n",
       " mpz(2): <bds.bounds_utils.EquivalentPointClass at 0x7f35d5db9670>,\n",
       " mpz(28): <bds.bounds_utils.EquivalentPointClass at 0x7f35d5db9f10>,\n",
       " mpz(0): <bds.bounds_utils.EquivalentPointClass at 0x7f35d5dc50a0>,\n",
       " mpz(4): <bds.bounds_utils.EquivalentPointClass at 0x7f35d5cd5910>,\n",
       " mpz(8): <bds.bounds_utils.EquivalentPointClass at 0x7f35d5cd5a90>,\n",
       " mpz(16): <bds.bounds_utils.EquivalentPointClass at 0x7f35d98cf2e0>}"
      ]
     },
     "execution_count": 92,
     "metadata": {},
     "output_type": "execute_result"
    }
   ],
   "source": [
    "equivalence_classes"
   ]
  },
  {
   "cell_type": "code",
   "execution_count": 74,
   "id": "ad049b71",
   "metadata": {},
   "outputs": [
    {
     "data": {
      "text/plain": [
       "0.16333333333333336"
      ]
     },
     "execution_count": 74,
     "metadata": {},
     "output_type": "execute_result"
    }
   ],
   "source": [
    "0.33 - 2 / 12"
   ]
  },
  {
   "cell_type": "code",
   "execution_count": 60,
   "id": "68a6a543",
   "metadata": {},
   "outputs": [],
   "source": [
    "assert len(y) == len(X)"
   ]
  },
  {
   "cell_type": "code",
   "execution_count": 61,
   "id": "bd804a98",
   "metadata": {},
   "outputs": [],
   "source": [
    "first_elb, data_points2rules, equivalence_classes = find_equivalence_classes(X, y, rules)"
   ]
  },
  {
   "cell_type": "code",
   "execution_count": 62,
   "id": "e0ee2bad",
   "metadata": {},
   "outputs": [
    {
     "data": {
      "text/plain": [
       "0.3333333333333333"
      ]
     },
     "execution_count": 62,
     "metadata": {},
     "output_type": "execute_result"
    }
   ],
   "source": [
    "first_elb"
   ]
  },
  {
   "cell_type": "code",
   "execution_count": null,
   "id": "f5765be3",
   "metadata": {},
   "outputs": [],
   "source": []
  },
  {
   "cell_type": "code",
   "execution_count": 75,
   "id": "515eb9ec",
   "metadata": {},
   "outputs": [
    {
     "data": {
      "text/plain": [
       "0.26666666666666666"
      ]
     },
     "execution_count": 75,
     "metadata": {},
     "output_type": "execute_result"
    }
   ],
   "source": [
    "2 / 12 + 0.1 \n"
   ]
  },
  {
   "cell_type": "code",
   "execution_count": 17,
   "id": "05de55b4",
   "metadata": {},
   "outputs": [
    {
     "name": "stderr",
     "output_type": "stream",
     "text": [
      "[D 230509 20:14:54 bb:74] calling BranchAndBoundV1 with ub=0.7, lmbd=0.1\n"
     ]
    },
    {
     "name": "stdout",
     "output_type": "stream",
     "text": [
      "12\n"
     ]
    }
   ],
   "source": [
    "lmbd = 0.1\n",
    "ub = 0.7\n",
    "\n",
    "# the first iteration of the branch and bound\n",
    "bb = BranchAndBoundV1(rules, ub=ub, y=y, lmbd=lmbd)\n",
    "feasible_solutions = list(bb.run(return_objective=True))\n",
    "actual = solutions_to_dict(feasible_solutions)\n",
    "\n"
   ]
  },
  {
   "cell_type": "code",
   "execution_count": 18,
   "id": "d3888168",
   "metadata": {},
   "outputs": [
    {
     "data": {
      "text/plain": [
       "{(0, 1): mpfr('0.68333333333333335'),\n",
       " (0, 2): mpfr('0.68333333333333335'),\n",
       " (0, 3): mpfr('0.68333333333333335'),\n",
       " (0, 4): mpfr('0.68333333333333335'),\n",
       " (0, 3, 4): mpfr('0.69999999999999996')}"
      ]
     },
     "execution_count": 18,
     "metadata": {},
     "output_type": "execute_result"
    }
   ],
   "source": [
    "actual"
   ]
  },
  {
   "cell_type": "code",
   "execution_count": 104,
   "id": "56f4844b",
   "metadata": {},
   "outputs": [
    {
     "name": "stderr",
     "output_type": "stream",
     "text": [
      "[D 230509 19:38:14 bb:74] calling BranchAndBoundV0 with ub=0.7, lmbd=0.1\n"
     ]
    }
   ],
   "source": [
    "lmbd = 0.1\n",
    "ub = 0.7\n",
    "\n",
    "# the first iteration of the branch and bound\n",
    "bb = BranchAndBoundV0(rules, ub=ub, y=y, lmbd=lmbd)\n",
    "feasible_solutions = list(bb.run(return_objective=True))\n",
    "actual = solutions_to_dict(feasible_solutions)\n"
   ]
  },
  {
   "cell_type": "code",
   "execution_count": 105,
   "id": "9fb0a831",
   "metadata": {},
   "outputs": [
    {
     "data": {
      "text/plain": [
       "{(0, 1): mpfr('0.68333333333333335'),\n",
       " (0, 2): mpfr('0.68333333333333335'),\n",
       " (0, 3): mpfr('0.68333333333333335'),\n",
       " (0, 4): mpfr('0.68333333333333335'),\n",
       " (0, 3, 4): mpfr('0.69999999999999996')}"
      ]
     },
     "execution_count": 105,
     "metadata": {},
     "output_type": "execute_result"
    }
   ],
   "source": [
    "actual"
   ]
  },
  {
   "cell_type": "code",
   "execution_count": null,
   "id": "895f3e7d",
   "metadata": {},
   "outputs": [],
   "source": []
  }
 ],
 "metadata": {
  "kernelspec": {
   "display_name": "Python 3 (ipykernel)",
   "language": "python",
   "name": "python3"
  },
  "language_info": {
   "codemirror_mode": {
    "name": "ipython",
    "version": 3
   },
   "file_extension": ".py",
   "mimetype": "text/x-python",
   "name": "python",
   "nbconvert_exporter": "python",
   "pygments_lexer": "ipython3",
   "version": "3.9.16"
  }
 },
 "nbformat": 4,
 "nbformat_minor": 5
}
