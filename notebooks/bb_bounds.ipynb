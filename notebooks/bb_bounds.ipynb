{
 "cells": [
  {
   "cell_type": "code",
   "execution_count": null,
   "id": "82a4a891",
   "metadata": {},
   "outputs": [],
   "source": [
    "import logging\n",
    "import os\n",
    "import sys\n",
    "\n",
    "import gmpy2 as gmp\n",
    "\n",
    "# from bds.bounds_utils import find_equivalence_classes\n",
    "import numpy as np\n",
    "from gmpy2 import mpfr, mpz\n",
    "from logzero import logger\n",
    "\n",
    "from bds.bb import BranchAndBoundNaive  # , BranchAndBoundV1, BranchAndBoundV0\n",
    "from bds.gf2 import GF\n",
    "from bds.meel import approx_mc2, approx_mc2_core\n",
    "from bds.rule import Rule\n",
    "from bds.sat.min_freq import construct_min_freq_program\n",
    "from bds.sat.solver import construct_solver\n",
    "from bds.utils import bin_array, bin_random, mpz_set_bits, randints, solutions_to_dict\n",
    "from tests.utils import assert_close_mpfr, assert_dict_allclose\n",
    "\n",
    "%cd ..\n",
    "\n",
    "\n",
    "\n",
    "logger.setLevel(logging.DEBUG)\n",
    "\n",
    "num_pts = 1000\n",
    "\n",
    "ub = 0.8\n",
    "lmbd = 0.1\n",
    "\n",
    "delta = 0.8\n",
    "eps = 0.8\n",
    "\n",
    "show_progres = True\n",
    "rand_seed = 1234"
   ]
  },
  {
   "cell_type": "markdown",
   "id": "ecff6f64",
   "metadata": {},
   "source": [
    "## This notebook for testing purposes, it only helps with pen-and-paper computation for testing bounds"
   ]
  },
  {
   "cell_type": "code",
   "execution_count": null,
   "id": "d6a50625",
   "metadata": {},
   "outputs": [],
   "source": [
    "os.chdir(\"/u/50/ciaperm1/unix/Desktop/sampling-rashomon-decision-set-code\")"
   ]
  },
  {
   "cell_type": "markdown",
   "id": "79d25078",
   "metadata": {},
   "source": [
    "## For end2end test "
   ]
  },
  {
   "cell_type": "code",
   "execution_count": null,
   "id": "a0e131bd",
   "metadata": {},
   "outputs": [],
   "source": [
    "rules = [\n",
    "    Rule(\n",
    "        id=1,\n",
    "        name=\"rule-1\",\n",
    "        cardinality=1,\n",
    "        # truthtable=np.array([0, 1, 0, 1, 0], dtype=bool),\n",
    "        truthtable=mpz_set_bits(mpz(), [1, 3]),\n",
    "    ),\n",
    "    Rule(\n",
    "        id=2,\n",
    "        name=\"rule-2\",\n",
    "        cardinality=1,\n",
    "        # truthtable=np.array([0, 0, 1, 0, 1], dtype=bool),\n",
    "        truthtable=mpz_set_bits(mpz(), [2, 4]),\n",
    "    ),\n",
    "    Rule(\n",
    "        id=3,\n",
    "        name=\"rule-3\",\n",
    "        cardinality=1,\n",
    "        # truthtable=np.array([1, 0, 1, 0, 1], dtype=bool),\n",
    "        truthtable=mpz_set_bits(mpz(), [0, 2, 4]),\n",
    "    ),\n",
    "    Rule(\n",
    "        id=4,\n",
    "        name=\"rule-4\",\n",
    "        cardinality=1,\n",
    "        # truthtable=np.array([1, 0, 1, 0, 1], dtype=bool),\n",
    "        truthtable=mpz_set_bits(mpz(), [0, 2, 4]),\n",
    "    ),\n",
    "]\n",
    "\n",
    "\n",
    "y = np.array([0, 1, 0, 0, 0], dtype=bool)\n",
    "\n",
    "X = np.array([[1, 0, 0], [0, 1, 0], [1, 0, 1], [0, 1, 0], [1, 0, 1]])"
   ]
  },
  {
   "cell_type": "code",
   "execution_count": null,
   "id": "a20a4d9c",
   "metadata": {},
   "outputs": [],
   "source": [
    "ub = float(\"inf\")\n",
    "lmbd = mpfr(lmbd)\n",
    "\n",
    "# the first iteration of the branch and bound\n",
    "bb = BranchAndBoundNaive(rules, ub=ub, y=y, lmbd=lmbd)\n",
    "first_elb, data_points2rules, equivalence_classes = find_equivalence_classes(y, rules)\n",
    "bb.reset(first_elb)\n",
    "node, not_captured = bb.queue.pop()"
   ]
  },
  {
   "cell_type": "code",
   "execution_count": null,
   "id": "910383d3",
   "metadata": {},
   "outputs": [],
   "source": [
    "data_points2rules"
   ]
  },
  {
   "cell_type": "code",
   "execution_count": null,
   "id": "96436252",
   "metadata": {},
   "outputs": [],
   "source": [
    "data_points2rules[1]"
   ]
  },
  {
   "cell_type": "code",
   "execution_count": null,
   "id": "d92f393b",
   "metadata": {},
   "outputs": [],
   "source": [
    "example_rule_list = data_points2rules[1]\n",
    "n = mpz_set_bits(gmp.mpz(), example_rule_list)\n",
    "equivalence_classes[n].data_points"
   ]
  },
  {
   "cell_type": "code",
   "execution_count": null,
   "id": "b7d4de27",
   "metadata": {},
   "outputs": [],
   "source": [
    "equivalence_classes[n].total_positives"
   ]
  },
  {
   "cell_type": "code",
   "execution_count": null,
   "id": "1749710c",
   "metadata": {},
   "outputs": [],
   "source": [
    "equivalence_classes[n].total_negatives"
   ]
  },
  {
   "cell_type": "code",
   "execution_count": null,
   "id": "9b3e862d",
   "metadata": {},
   "outputs": [],
   "source": [
    "equivalence_classes[n].minority_mistakes"
   ]
  },
  {
   "cell_type": "code",
   "execution_count": null,
   "id": "999ceaf2",
   "metadata": {},
   "outputs": [],
   "source": [
    "equivalence_classes"
   ]
  },
  {
   "cell_type": "code",
   "execution_count": null,
   "id": "3cae1e2c",
   "metadata": {},
   "outputs": [],
   "source": [
    "equivalence_classes[mpz(24)].minority_mistakes"
   ]
  },
  {
   "cell_type": "code",
   "execution_count": null,
   "id": "8cd144dd",
   "metadata": {},
   "outputs": [],
   "source": [
    "equivalence_classes[mpz(2)].minority_mistakes"
   ]
  },
  {
   "cell_type": "code",
   "execution_count": null,
   "id": "f87e616b",
   "metadata": {},
   "outputs": [],
   "source": [
    "equivalence_classes[mpz(28)].minority_mistakes"
   ]
  },
  {
   "cell_type": "code",
   "execution_count": null,
   "id": "e3a4a783",
   "metadata": {},
   "outputs": [],
   "source": [
    "first_elb == -1 / 5"
   ]
  },
  {
   "cell_type": "code",
   "execution_count": null,
   "id": "60b7d0ba",
   "metadata": {},
   "outputs": [],
   "source": []
  },
  {
   "cell_type": "code",
   "execution_count": null,
   "id": "62a0e28d",
   "metadata": {},
   "outputs": [],
   "source": [
    "lmbd = 0.1\n",
    "for ub in [0.1, 0.2, 0.3, 0.4, 0.5, 0.6, 0.7, 0.8, 0.9]:\n",
    "    print((ub / lmbd) - 1)"
   ]
  },
  {
   "cell_type": "code",
   "execution_count": null,
   "id": "102a7ba8",
   "metadata": {},
   "outputs": [],
   "source": [
    "lmbd = 0.1\n",
    "for ub in [float(\"inf\")]:\n",
    "    print((ub / lmbd) - 1)"
   ]
  },
  {
   "cell_type": "code",
   "execution_count": null,
   "id": "36b0cfdc",
   "metadata": {},
   "outputs": [],
   "source": [
    "lmbd = 0.1\n",
    "ub = float(\"inf\")\n",
    "bb = BranchAndBoundV0(rules, ub=ub, y=y, lmbd=lmbd)\n",
    "feasible_solutions = list(bb.run(return_objective=True))\n",
    "actual = solutions_to_dict(feasible_solutions)"
   ]
  },
  {
   "cell_type": "code",
   "execution_count": null,
   "id": "0f767e2c",
   "metadata": {},
   "outputs": [],
   "source": [
    "actual"
   ]
  },
  {
   "cell_type": "code",
   "execution_count": null,
   "id": "ee4f0f4c",
   "metadata": {},
   "outputs": [],
   "source": [
    "expected = {\n",
    "    (0, 1): mpfr(\"0.3\"),\n",
    "    (0, 2): mpfr(\"0.7\"),\n",
    "    (0, 3): mpfr(\"0.9\"),\n",
    "    (0, 4): mpfr(\"0.9\"),\n",
    "    (0, 1, 2): mpfr(\"0.8\"),\n",
    "    (0, 1, 3): mpfr(\"1.0\"),\n",
    "    (0, 1, 4): mpfr(\"1.0\"),\n",
    "    (0, 2, 3): mpfr(\"1.0\"),\n",
    "    (0, 2, 4): mpfr(\"1.0\"),\n",
    "    (0, 3, 4): mpfr(\"1.0\"),\n",
    "    (0, 2, 3, 4): mpfr(\"1.1\"),\n",
    "    (0, 1, 2, 3): mpfr(\"1.1\"),\n",
    "    (0, 1, 2, 4): mpfr(\"1.1\"),\n",
    "    (0, 1, 3, 4): mpfr(\"1.1\"),\n",
    "    (0, 1, 2, 3, 4): mpfr(\"1.2\"),\n",
    "}"
   ]
  },
  {
   "cell_type": "code",
   "execution_count": null,
   "id": "90a11a0f",
   "metadata": {},
   "outputs": [],
   "source": [
    "for ub in [0.1, 0.2, 0.3, 0.4, 0.5, 0.6, 0.7, 0.8, 0.9]:\n",
    "    print(\"ub \" + str(ub))\n",
    "    print(\"threshold \" + str((ub / lmbd) - 1))\n",
    "    bb = BranchAndBoundV0(rules, ub=ub, y=y, lmbd=lmbd)\n",
    "    feasible_solutions = list(bb.run(return_objective=False))\n",
    "    print(feasible_solutions)\n",
    "    print(feasible_solutions)"
   ]
  },
  {
   "cell_type": "code",
   "execution_count": null,
   "id": "3a766efa",
   "metadata": {},
   "outputs": [],
   "source": [
    "expected = {\n",
    "    (0, 1): mpfr(\"0.3\"),\n",
    "    (0, 2): mpfr(\"0.7\"),\n",
    "    (0, 3): mpfr(\"0.9\"),\n",
    "    (0, 4): mpfr(\"0.9\"),\n",
    "    (0, 1, 2): mpfr(\"0.8\"),\n",
    "    (0, 1, 3): mpfr(\"1.0\"),\n",
    "    (0, 1, 4): mpfr(\"1.0\"),\n",
    "    (0, 2, 3): mpfr(\"1.0\"),\n",
    "    (0, 2, 4): mpfr(\"1.0\"),\n",
    "    (0, 3, 4): mpfr(\"1.0\"),\n",
    "    (0, 2, 3, 4): mpfr(\"1.1\"),\n",
    "    (0, 1, 2, 3): mpfr(\"1.1\"),\n",
    "    (0, 1, 2, 4): mpfr(\"1.1\"),\n",
    "    (0, 1, 3, 4): mpfr(\"1.1\"),\n",
    "    (0, 1, 2, 3, 4): mpfr(\"1.2\"),\n",
    "}"
   ]
  },
  {
   "cell_type": "code",
   "execution_count": null,
   "id": "22bc2934",
   "metadata": {},
   "outputs": [],
   "source": [
    "## Branch and boundV1 -- speed up"
   ]
  },
  {
   "cell_type": "code",
   "execution_count": null,
   "id": "3f91e141",
   "metadata": {},
   "outputs": [],
   "source": [
    "lmbd = 0.1\n",
    "ub = float(\"inf\")\n",
    "\n",
    "# the first iteration of the branch and bound\n",
    "bb = BranchAndBoundV1(rules, ub=ub, y=y, lmbd=lmbd)\n",
    "feasible_solutions = list(bb.run(return_objective=True))\n",
    "actual = solutions_to_dict(feasible_solutions)"
   ]
  },
  {
   "cell_type": "code",
   "execution_count": null,
   "id": "976de78d",
   "metadata": {},
   "outputs": [],
   "source": [
    "actual"
   ]
  },
  {
   "cell_type": "code",
   "execution_count": null,
   "id": "c8b26408",
   "metadata": {},
   "outputs": [],
   "source": [
    "assert_dict_allclose(actual, expected)"
   ]
  },
  {
   "cell_type": "code",
   "execution_count": null,
   "id": "88ccee8e",
   "metadata": {},
   "outputs": [],
   "source": [
    "2 / 5 + 1 / 5 + 0.1"
   ]
  },
  {
   "cell_type": "code",
   "execution_count": null,
   "id": "c16be117",
   "metadata": {},
   "outputs": [],
   "source": [
    "lmbd = 0.1\n",
    "ub = float(\"inf\")\n",
    "\n",
    "# the first iteration of the branch and bound\n",
    "bb = BranchAndBoundV1(rules, ub=ub, y=y, lmbd=lmbd)\n",
    "feasible_solutions = list(bb.run(return_objective=True))\n",
    "actual = solutions_to_dict(feasible_solutions)"
   ]
  },
  {
   "cell_type": "code",
   "execution_count": null,
   "id": "dacfaacc",
   "metadata": {},
   "outputs": [],
   "source": [
    "actual"
   ]
  },
  {
   "cell_type": "markdown",
   "id": "fdffef69",
   "metadata": {},
   "source": [
    "#### It is correct, let us now consider a more interesting case with more equivalent bound , which actually prunes a lot "
   ]
  },
  {
   "cell_type": "code",
   "execution_count": null,
   "id": "087bf42e",
   "metadata": {},
   "outputs": [],
   "source": []
  },
  {
   "cell_type": "code",
   "execution_count": null,
   "id": "c38747f4",
   "metadata": {},
   "outputs": [],
   "source": [
    "rules = [\n",
    "    Rule(\n",
    "        id=1,\n",
    "        name=\"rule-1\",\n",
    "        cardinality=1,\n",
    "        # truthtable=np.array([0, 1, 0, 1, 0], dtype=bool),\n",
    "        truthtable=mpz_set_bits(mpz(), [1, 3, 5, 7]),\n",
    "    ),\n",
    "    Rule(\n",
    "        id=2,\n",
    "        name=\"rule-2\",\n",
    "        cardinality=1,\n",
    "        # truthtable=np.array([0, 0, 1, 0, 1], dtype=bool),\n",
    "        truthtable=mpz_set_bits(mpz(), [2, 4, 8, 9]),\n",
    "    ),\n",
    "    Rule(\n",
    "        id=3,\n",
    "        name=\"rule-3\",\n",
    "        cardinality=1,\n",
    "        # truthtable=np.array([1, 0, 1, 0, 1], dtype=bool),\n",
    "        truthtable=mpz_set_bits(mpz(), [0, 2, 4, 10]),\n",
    "    ),\n",
    "    Rule(\n",
    "        id=4,\n",
    "        name=\"rule-4\",\n",
    "        cardinality=1,\n",
    "        # truthtable=np.array([1, 0, 1, 0, 1], dtype=bool),\n",
    "        truthtable=mpz_set_bits(mpz(), [0, 2, 4, 11]),\n",
    "    ),\n",
    "]\n",
    "\n",
    "\n",
    "y = np.array([0, 1, 0, 0, 1, 0, 1, 1, 1, 0, 1, 1], dtype=bool)\n",
    "\n",
    "X = np.array(\n",
    "    [\n",
    "        [1, 0, 0],\n",
    "        [0, 1, 0],\n",
    "        [1, 0, 1],\n",
    "        [0, 1, 0],\n",
    "        [1, 0, 1],\n",
    "        [1, 0, 0],\n",
    "        [0, 1, 0],\n",
    "        [1, 0, 1],\n",
    "        [0, 1, 0],\n",
    "        [1, 0, 1],\n",
    "        [0, 1, 0],\n",
    "        [1, 0, 1],\n",
    "    ]\n",
    ")"
   ]
  },
  {
   "cell_type": "code",
   "execution_count": null,
   "id": "9337b813",
   "metadata": {},
   "outputs": [],
   "source": [
    "first_elb, data_points2rules, equivalence_classes = find_equivalence_classes(y, rules)"
   ]
  },
  {
   "cell_type": "code",
   "execution_count": null,
   "id": "e5325c89",
   "metadata": {},
   "outputs": [],
   "source": [
    "[y[i] for i in range(len(y)) if i not in [1, 3, 5, 7]]"
   ]
  },
  {
   "cell_type": "code",
   "execution_count": null,
   "id": "0c9733d5",
   "metadata": {},
   "outputs": [],
   "source": [
    "for k in equivalence_classes:\n",
    "    print(k)"
   ]
  },
  {
   "cell_type": "code",
   "execution_count": null,
   "id": "00fc97e3",
   "metadata": {},
   "outputs": [],
   "source": [
    "equivalence_classes[mpz(2)].minority_mistakes"
   ]
  },
  {
   "cell_type": "code",
   "execution_count": null,
   "id": "6935c19b",
   "metadata": {},
   "outputs": [],
   "source": [
    "data_points2rules[2]"
   ]
  },
  {
   "cell_type": "code",
   "execution_count": null,
   "id": "f65700f1",
   "metadata": {},
   "outputs": [],
   "source": [
    "data_points2rules[4]"
   ]
  },
  {
   "cell_type": "code",
   "execution_count": null,
   "id": "4d6e5d37",
   "metadata": {},
   "outputs": [],
   "source": [
    "data_points2rules[8]"
   ]
  },
  {
   "cell_type": "code",
   "execution_count": null,
   "id": "2b7e74c3",
   "metadata": {},
   "outputs": [],
   "source": [
    "data_points2rules[9]"
   ]
  },
  {
   "cell_type": "code",
   "execution_count": null,
   "id": "ffdb5de9",
   "metadata": {},
   "outputs": [],
   "source": [
    "mpzOutb = mpz_set_bits(gmp.mpz(), [2])"
   ]
  },
  {
   "cell_type": "code",
   "execution_count": null,
   "id": "d5c86d1f",
   "metadata": {},
   "outputs": [],
   "source": [
    "mpzOutb"
   ]
  },
  {
   "cell_type": "code",
   "execution_count": null,
   "id": "95b62338",
   "metadata": {},
   "outputs": [],
   "source": [
    "mpzOutb = mpz_set_bits(gmp.mpz(), [2])"
   ]
  },
  {
   "cell_type": "code",
   "execution_count": null,
   "id": "729a0f13",
   "metadata": {},
   "outputs": [],
   "source": [
    "equivalence_classes"
   ]
  },
  {
   "cell_type": "code",
   "execution_count": null,
   "id": "093174af",
   "metadata": {},
   "outputs": [],
   "source": [
    "0.33 - 2 / 12"
   ]
  },
  {
   "cell_type": "code",
   "execution_count": null,
   "id": "841247d8",
   "metadata": {},
   "outputs": [],
   "source": [
    "assert len(y) == len(X)"
   ]
  },
  {
   "cell_type": "code",
   "execution_count": null,
   "id": "d735bbbc",
   "metadata": {},
   "outputs": [],
   "source": []
  },
  {
   "cell_type": "code",
   "execution_count": null,
   "id": "71b89a0a",
   "metadata": {},
   "outputs": [],
   "source": [
    "first_elb"
   ]
  },
  {
   "cell_type": "code",
   "execution_count": null,
   "id": "a29fdd0b",
   "metadata": {},
   "outputs": [],
   "source": []
  },
  {
   "cell_type": "code",
   "execution_count": null,
   "id": "327b59ad",
   "metadata": {},
   "outputs": [],
   "source": [
    "2 / 12 + 0.1"
   ]
  },
  {
   "cell_type": "code",
   "execution_count": null,
   "id": "296ac3b6",
   "metadata": {},
   "outputs": [],
   "source": [
    "lmbd = 0.1\n",
    "ub = 0.7\n",
    "\n",
    "# the first iteration of the branch and bound\n",
    "bb = BranchAndBoundV1(rules, ub=ub, y=y, lmbd=lmbd)\n",
    "feasible_solutions = list(bb.run(return_objective=True))\n",
    "actual = solutions_to_dict(feasible_solutions)"
   ]
  },
  {
   "cell_type": "code",
   "execution_count": null,
   "id": "0a5062bd",
   "metadata": {},
   "outputs": [],
   "source": [
    "actual"
   ]
  },
  {
   "cell_type": "code",
   "execution_count": null,
   "id": "7d0e8e54",
   "metadata": {},
   "outputs": [],
   "source": [
    "lmbd = 0.1\n",
    "ub = 0.7\n",
    "\n",
    "# the first iteration of the branch and bound\n",
    "bb = BranchAndBoundV0(rules, ub=ub, y=y, lmbd=lmbd)\n",
    "feasible_solutions = list(bb.run(return_objective=True))\n",
    "actual = solutions_to_dict(feasible_solutions)"
   ]
  },
  {
   "cell_type": "code",
   "execution_count": null,
   "id": "a9c74375",
   "metadata": {},
   "outputs": [],
   "source": [
    "actual"
   ]
  },
  {
   "cell_type": "code",
   "execution_count": null,
   "id": "5c6a9804",
   "metadata": {},
   "outputs": [],
   "source": []
  }
 ],
 "metadata": {
  "kernelspec": {
   "display_name": "Python 3 (ipykernel)",
   "language": "python",
   "name": "python3"
  },
  "language_info": {
   "codemirror_mode": {
    "name": "ipython",
    "version": 3
   },
   "file_extension": ".py",
   "mimetype": "text/x-python",
   "name": "python",
   "nbconvert_exporter": "python",
   "pygments_lexer": "ipython3",
   "version": "3.9.16"
  }
 },
 "nbformat": 4,
 "nbformat_minor": 5
}
