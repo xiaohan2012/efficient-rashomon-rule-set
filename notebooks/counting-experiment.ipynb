{
 "cells": [
  {
   "cell_type": "code",
   "execution_count": null,
   "id": "c18b591a",
   "metadata": {},
   "outputs": [],
   "source": [
    "import logging\n",
    "\n",
    "import numpy as np\n",
    "import pandas as pd\n",
    "import ray\n",
    "from contexttimer import Timer\n",
    "from logzero import logger\n",
    "\n",
    "from bds.bb import get_ground_truth_count\n",
    "from bds.meel import approx_mc2, approx_mc2_core\n",
    "from bds.rule import Rule\n",
    "from bds.utils import bin_random, randints"
   ]
  },
  {
   "cell_type": "code",
   "execution_count": null,
   "id": "e724d9d3",
   "metadata": {},
   "outputs": [],
   "source": [
    "ray.init(num_cpus=16)"
   ]
  },
  {
   "cell_type": "code",
   "execution_count": null,
   "id": "5b864f6c",
   "metadata": {},
   "outputs": [],
   "source": [
    "# ray.shutdown()"
   ]
  },
  {
   "cell_type": "code",
   "execution_count": null,
   "id": "5899c0c7",
   "metadata": {},
   "outputs": [],
   "source": [
    "logger.setLevel(logging.WARN)\n",
    "\n",
    "num_pts = 1000\n",
    "\n",
    "ub = 0.8\n",
    "lmbd = 0.1\n",
    "\n",
    "delta = 0.8\n",
    "eps = 0.8\n",
    "\n",
    "show_progres = True\n",
    "rand_seed = 1234"
   ]
  },
  {
   "cell_type": "code",
   "execution_count": null,
   "id": "b9a4c656",
   "metadata": {},
   "outputs": [],
   "source": [
    "n_reps = 1\n",
    "num_rules_list = list(reversed([50, 100, 150, 200]))\n",
    "# num_rules_list = list(reversed([200]))\n",
    "\n",
    "\n",
    "np.random.seed(rand_seed)\n",
    "res_rows = []\n",
    "for _ in range(n_reps):\n",
    "    for num_rules in num_rules_list:\n",
    "        rule_random_seeds = randints(num_rules)\n",
    "        rules = [\n",
    "            Rule.random(i + 1, num_pts, random_seed=rule_random_seeds[i])\n",
    "            for i in range(num_rules)\n",
    "        ]\n",
    "        y = bin_random(num_pts)\n",
    "\n",
    "        with Timer() as cbb_timer:\n",
    "            test_cnt = approx_mc2(\n",
    "                rules,\n",
    "                y,\n",
    "                lmbd=lmbd,\n",
    "                ub=ub,\n",
    "                delta=delta,\n",
    "                eps=eps,\n",
    "                rand_seed=rand_seed,\n",
    "                show_progress=show_progres,\n",
    "                parallel=True,\n",
    "                log_level=logging.WARN,\n",
    "            )\n",
    "        test_elapsed = cbb_timer.elapsed\n",
    "\n",
    "        with Timer() as bb_timer:\n",
    "            ref_count = get_ground_truth_count(rules, y, lmbd, ub)\n",
    "        ref_elapsed = bb_timer.elapsed\n",
    "\n",
    "        res_rows.append((num_rules, test_elapsed, ref_elapsed, test_cnt, ref_count))"
   ]
  },
  {
   "cell_type": "code",
   "execution_count": null,
   "id": "772cce10",
   "metadata": {},
   "outputs": [],
   "source": [
    "df = pd.DataFrame(\n",
    "    res_rows,\n",
    "    columns=[\n",
    "        \"num_rules\",\n",
    "        \"running_time_approx_mc2\",\n",
    "        \"running_time_bb\",\n",
    "        \"estimate_count\",\n",
    "        \"true_count\",\n",
    "    ],\n",
    ")\n",
    "df[\"runtime-factor\"] = df[\"running_time_approx_mc2\"] / df[\"running_time_bb\"]\n",
    "df[\"estimation-rel-diff\"] = (df[\"estimate_count\"] - df[\"true_count\"]) / df[\"true_count\"]\n",
    "\n",
    "df"
   ]
  },
  {
   "cell_type": "code",
   "execution_count": null,
   "id": "3374c4b7",
   "metadata": {},
   "outputs": [],
   "source": [
    "print(\n",
    "    df.groupby(\"num_rules\")[\n",
    "        \"running_time_approx_mc2\", \"running_time_bb\", \"runtime-factor\"\n",
    "    ]\n",
    "    .mean()\n",
    "    .to_markdown()\n",
    ")"
   ]
  }
 ],
 "metadata": {
  "kernelspec": {
   "display_name": "Python 3 (ipykernel)",
   "language": "python",
   "name": "python3"
  },
  "language_info": {
   "codemirror_mode": {
    "name": "ipython",
    "version": 3
   },
   "file_extension": ".py",
   "mimetype": "text/x-python",
   "name": "python",
   "nbconvert_exporter": "python",
   "pygments_lexer": "ipython3",
   "version": "3.9.16"
  }
 },
 "nbformat": 4,
 "nbformat_minor": 5
}
