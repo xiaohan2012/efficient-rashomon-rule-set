{
 "cells": [
  {
   "cell_type": "code",
   "execution_count": null,
   "id": "c18b591a",
   "metadata": {},
   "outputs": [],
   "source": [
    "import logging\n",
    "import random\n",
    "import time\n",
    "\n",
    "import numpy as np\n",
    "import pandas as pd\n",
    "import ray\n",
    "from contexttimer import Timer\n",
    "from gmpy2 import mpfr, mpz\n",
    "from logzero import logger\n",
    "\n",
    "from bds.bb import get_ground_truth_count\n",
    "from bds.bbSampleTreeApproxCounting import BranchAndBoundNaive\n",
    "from bds.meel import approx_mc2, approx_mc2_core\n",
    "from bds.rule import Rule\n",
    "from bds.utils import bin_random, mpz_set_bits, randints"
   ]
  },
  {
   "cell_type": "code",
   "execution_count": null,
   "id": "e724d9d3",
   "metadata": {},
   "outputs": [],
   "source": [
    "ray.init(num_cpus=4)"
   ]
  },
  {
   "cell_type": "code",
   "execution_count": null,
   "id": "5b864f6c",
   "metadata": {},
   "outputs": [],
   "source": [
    "# ray.shutdown()"
   ]
  },
  {
   "cell_type": "code",
   "execution_count": null,
   "id": "5899c0c7",
   "metadata": {},
   "outputs": [],
   "source": [
    "%cd ..\n",
    "\n",
    "\n",
    "\n",
    "logger.setLevel(logging.WARN)\n",
    "\n",
    "num_pts = 1000\n",
    "\n",
    "ub = 0.8\n",
    "lmbd = 0.1\n",
    "\n",
    "delta = 0.8\n",
    "eps = 0.8\n",
    "\n",
    "show_progres = True\n",
    "rand_seed = 1234"
   ]
  },
  {
   "cell_type": "code",
   "execution_count": null,
   "id": "b9a4c656",
   "metadata": {},
   "outputs": [],
   "source": [
    "n_reps = 1\n",
    "num_rules_list = list(reversed([50]))\n",
    "# num_rules_list = list(reversed([200]))\n",
    "\n",
    "\n",
    "np.random.seed(rand_seed)\n",
    "res_rows = []\n",
    "for _ in range(n_reps):\n",
    "    for num_rules in num_rules_list:\n",
    "        rule_random_seeds = randints(num_rules)\n",
    "        rules = [\n",
    "            Rule.random(i + 1, num_pts, random_seed=rule_random_seeds[i])\n",
    "            for i in range(num_rules)\n",
    "        ]\n",
    "        y = bin_random(num_pts)\n",
    "\n",
    "        with Timer() as cbb_timer:\n",
    "            test_cnt = approx_mc2(\n",
    "                rules,\n",
    "                y,\n",
    "                lmbd=lmbd,\n",
    "                ub=ub,\n",
    "                delta=delta,\n",
    "                eps=eps,\n",
    "                rand_seed=rand_seed,\n",
    "                show_progress=show_progres,\n",
    "                parallel=False,\n",
    "                log_level=logging.WARN,\n",
    "            )\n",
    "        test_elapsed = cbb_timer.elapsed\n",
    "\n",
    "        with Timer() as bb_timer:\n",
    "            ref_count = get_ground_truth_count(rules, y, lmbd, ub)\n",
    "        ref_elapsed = bb_timer.elapsed\n",
    "\n",
    "        res_rows.append((num_rules, test_elapsed, ref_elapsed, test_cnt, ref_count))"
   ]
  },
  {
   "cell_type": "code",
   "execution_count": null,
   "id": "c66f54b6",
   "metadata": {},
   "outputs": [],
   "source": [
    "ref_count"
   ]
  },
  {
   "cell_type": "code",
   "execution_count": null,
   "id": "22901d06",
   "metadata": {},
   "outputs": [],
   "source": [
    "test_cnt"
   ]
  },
  {
   "cell_type": "code",
   "execution_count": null,
   "id": "cb1a4f3d",
   "metadata": {},
   "outputs": [],
   "source": [
    "len(rules)"
   ]
  },
  {
   "cell_type": "code",
   "execution_count": null,
   "id": "81f4513a",
   "metadata": {},
   "outputs": [],
   "source": [
    "for l in [1]:\n",
    "    for k in [6500]:\n",
    "        bb = BranchAndBoundNaive(rules, ub, y, lmbd, l=l, k=k)\n",
    "        Z = bb.runST()\n",
    "        print(\"count \" + str(Z))"
   ]
  },
  {
   "cell_type": "code",
   "execution_count": null,
   "id": "8077ff5b",
   "metadata": {},
   "outputs": [],
   "source": [
    "all_counts = []\n",
    "for _ in range(100):\n",
    "    for l in [1]:\n",
    "        for k in [1500]:\n",
    "            bb = BranchAndBoundNaive(rules, ub, y, lmbd, l=l, k=k)\n",
    "            Z = bb.runST()\n",
    "            all_counts.append(Z)"
   ]
  },
  {
   "cell_type": "code",
   "execution_count": null,
   "id": "ccd6a58b",
   "metadata": {},
   "outputs": [],
   "source": [
    "np.mean(all_counts), np.median(all_counts)"
   ]
  },
  {
   "cell_type": "code",
   "execution_count": null,
   "id": "772cce10",
   "metadata": {},
   "outputs": [],
   "source": [
    "df = pd.DataFrame(\n",
    "    res_rows,\n",
    "    columns=[\n",
    "        \"num_rules\",\n",
    "        \"running_time_approx_mc2\",\n",
    "        \"running_time_bb\",\n",
    "        \"estimate_count\",\n",
    "        \"true_count\",\n",
    "    ],\n",
    ")\n",
    "df[\"runtime-factor\"] = df[\"running_time_approx_mc2\"] / df[\"running_time_bb\"]\n",
    "df[\"estimation-rel-diff\"] = (df[\"estimate_count\"] - df[\"true_count\"]) / df[\"true_count\"]\n",
    "\n",
    "df"
   ]
  },
  {
   "cell_type": "code",
   "execution_count": null,
   "id": "3374c4b7",
   "metadata": {},
   "outputs": [],
   "source": [
    "print(\n",
    "    df.groupby(\"num_rules\")[\n",
    "        \"running_time_approx_mc2\", \"running_time_bb\", \"runtime-factor\"\n",
    "    ]\n",
    "    .mean()\n",
    "    .to_markdown()\n",
    ")"
   ]
  },
  {
   "cell_type": "code",
   "execution_count": null,
   "id": "cd26b0ad",
   "metadata": {},
   "outputs": [],
   "source": [
    "y"
   ]
  },
  {
   "cell_type": "code",
   "execution_count": null,
   "id": "ca966b34",
   "metadata": {},
   "outputs": [],
   "source": []
  },
  {
   "cell_type": "code",
   "execution_count": null,
   "id": "bb135767",
   "metadata": {},
   "outputs": [],
   "source": [
    "num_rules = 2\n",
    "rule_random_seeds = randints(num_rules)\n",
    "rules = [\n",
    "    Rule.random(i + 1, num_pts, random_seed=rule_random_seeds[i])\n",
    "    for i in range(num_rules)\n",
    "]\n",
    "y = bin_random(num_pts)"
   ]
  },
  {
   "cell_type": "code",
   "execution_count": null,
   "id": "8f36a17e",
   "metadata": {},
   "outputs": [],
   "source": [
    "y = np.array([0, 0, 1, 0, 1], dtype=bool)\n",
    "\n",
    "\n",
    "rules = [\n",
    "    Rule(\n",
    "        id=1,\n",
    "        name=\"rule-1\",\n",
    "        cardinality=1,\n",
    "        # truthtable=np.array([0, 1, 0, 1, 0], dtype=bool),\n",
    "        truthtable=mpz_set_bits(mpz(), [1, 3]),\n",
    "    ),\n",
    "    Rule(\n",
    "        id=2,\n",
    "        name=\"rule-2\",\n",
    "        cardinality=1,\n",
    "        # truthtable=np.array([0, 0, 1, 0, 1], dtype=bool),\n",
    "        truthtable=mpz_set_bits(mpz(), [2, 4]),\n",
    "    ),\n",
    "    Rule(\n",
    "        id=3,\n",
    "        name=\"rule-3\",\n",
    "        cardinality=1,\n",
    "        # truthtable=np.array([1, 0, 1, 0, 1], dtype=bool),\n",
    "        truthtable=mpz_set_bits(mpz(), [0, 2, 4]),\n",
    "    ),\n",
    "]"
   ]
  },
  {
   "cell_type": "code",
   "execution_count": null,
   "id": "45bc63d2",
   "metadata": {},
   "outputs": [],
   "source": [
    "bb = BranchAndBoundNaive(rules, 10, y, lmbd, l=1, k=100000)\n",
    "Z = bb.runST()"
   ]
  },
  {
   "cell_type": "code",
   "execution_count": null,
   "id": "408689b1",
   "metadata": {},
   "outputs": [],
   "source": [
    "2**3 - 1"
   ]
  },
  {
   "cell_type": "code",
   "execution_count": null,
   "id": "b5d8d3e1",
   "metadata": {},
   "outputs": [],
   "source": [
    "len([{0, 1}, {0}, {0, 1, 2}, {0, 2}, {0, 1, 3}, {0, 3}, {0, 1, 2, 3}, {0, 2, 3}])"
   ]
  },
  {
   "cell_type": "code",
   "execution_count": null,
   "id": "a06f5226",
   "metadata": {},
   "outputs": [],
   "source": [
    "Z"
   ]
  },
  {
   "cell_type": "code",
   "execution_count": null,
   "id": "ed0c5518",
   "metadata": {},
   "outputs": [],
   "source": []
  }
 ],
 "metadata": {
  "kernelspec": {
   "display_name": "Python 3 (ipykernel)",
   "language": "python",
   "name": "python3"
  },
  "language_info": {
   "codemirror_mode": {
    "name": "ipython",
    "version": 3
   },
   "file_extension": ".py",
   "mimetype": "text/x-python",
   "name": "python",
   "nbconvert_exporter": "python",
   "pygments_lexer": "ipython3",
   "version": "3.9.16"
  }
 },
 "nbformat": 4,
 "nbformat_minor": 5
}
