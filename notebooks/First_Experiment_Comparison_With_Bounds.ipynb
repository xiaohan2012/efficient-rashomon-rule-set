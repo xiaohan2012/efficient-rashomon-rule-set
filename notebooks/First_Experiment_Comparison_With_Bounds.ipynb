{
 "cells": [
  {
   "cell_type": "code",
   "execution_count": null,
   "id": "e424d6db",
   "metadata": {},
   "outputs": [],
   "source": [
    "import logging\n",
    "import sys\n",
    "import os\n",
    "%cd ..\n",
    "from bds.meel import approx_mc2, approx_mc2_core\n",
    "from bds.rule import Rule\n",
    "from bds.utils import bin_random , bin_array, randints, solutions_to_dict\n",
    "\n",
    "#from bds.bb import BranchAndBoundNaive, BranchAndBoundV1, BranchAndBoundV0, BranchAndBoundV2\n",
    "from logzero import logger\n",
    "import gmpy2 as gmp\n",
    "from gmpy2 import mpz , mpfr\n",
    "from bds.sat.min_freq import construct_min_freq_program\n",
    "from bds.sat.solver import construct_solver\n",
    "from bds.gf2 import GF\n",
    "from bds.rule import Rule\n",
    "from bds.utils import mpz_set_bits\n",
    "from tests.utils import assert_dict_allclose, assert_close_mpfr\n",
    "\n",
    "#from bds.bounds_utils import find_equivalence_classes\n",
    "import numpy as np \n",
    "\n",
    "from bds.cbb_v2 import * \n",
    "\n",
    "logger.setLevel(logging.DEBUG)\n",
    "\n",
    "num_pts = 500\n",
    "\n",
    "show_progres = True\n",
    "rand_seed = 1234"
   ]
  },
  {
   "cell_type": "code",
   "execution_count": null,
   "id": "bc67d258",
   "metadata": {},
   "outputs": [],
   "source": [
    "from time import time\n",
    "\n",
    "#num_rules_list = reversed([25, 50, 75, 100, 200])\n",
    "ub = 0.7\n",
    "lmbd = 0.1\n",
    "res_rows = []\n",
    "all_times_naive = []\n",
    "all_times_V1 = [] \n",
    "all_times_V0 = [] \n",
    "\n",
    "for num_rules in [5]:\n",
    "    \n",
    "    rules = [Rule.random(i+1, num_pts) for i in range(num_rules)]\n",
    "    y = bin_random(num_pts)\n",
    "    \n",
    "    start_time = time() \n",
    "    bbNaive = BranchAndBoundNaive(rules, ub=ub, y=y, lmbd=lmbd)\n",
    "    feasible_solutions = list(bbNaive.run(return_objective=True))\n",
    "    all_times_naive.append(time() - start_time) \n",
    "    actualNaive = solutions_to_dict(feasible_solutions)\n",
    "    \n",
    "    \n",
    "    start_time = time() \n",
    "    bbV0 = BranchAndBoundV0(rules, ub=ub, y=y, lmbd=lmbd)\n",
    "    feasible_solutions = list(bbV0.run(return_objective=True))\n",
    "    all_times_V0.append(time() - start_time)\n",
    "    actual_V0 = solutions_to_dict(feasible_solutions)\n",
    "\n",
    "    \n",
    "    \n",
    "    start_time = time() \n",
    "    bbV1 = BranchAndBoundV1(rules, ub=ub, y=y, lmbd=lmbd)\n",
    "    feasible_solutions = list(bbV1.run(return_objective=True))\n",
    "    all_times_V1.append(time() - start_time)\n",
    "    actual_V1 = solutions_to_dict(feasible_solutions)\n",
    "    "
   ]
  },
  {
   "cell_type": "code",
   "execution_count": null,
   "id": "ce23617f",
   "metadata": {},
   "outputs": [],
   "source": [
    "os.chdir(\"/u/50/ciaperm1/unix/Desktop/sampling-rashomon-decision-set-code\")"
   ]
  },
  {
   "cell_type": "code",
   "execution_count": null,
   "id": "52ae81b4",
   "metadata": {},
   "outputs": [],
   "source": [
    "import matplotlib.pyplot as plt \n",
    "\n",
    "colors = ['#1f77b4', '#ff7f0e', '#2ca02c', '#d62728', '#9467bd', '#8c564b', '#e377c2', '#7f7f7f']\n",
    "\n",
    "# plot \n",
    "fig, ax = plt.subplots(1, 1, figsize=(6.38, 3.7))\n",
    "plt.plot([10, 25, 40], all_times_naive, label=\"HLB\", marker = \"o\", linewidth=1.5 , color = colors[0], markersize = 12 , markeredgewidth=0.5, markeredgecolor= \"grey\"  , alpha = 0.5) \n",
    "plt.plot([10, 25, 40], all_times_V0, label=\"RSSB\", marker = \"^\",  linewidth=1.5 ,  color = colors[1],  markersize = 12 , markeredgewidth=0.5, markeredgecolor= \"grey\"  , alpha = 0.5) \n",
    "plt.plot([10, 25, 40], all_times_V1, label=\"RSSB + EPLB\", marker = \"s\", linewidth=1.5 ,  color = colors[2],  markersize = 12 , markeredgewidth=0.5, markeredgecolor= \"grey\"  , alpha = 0.5) \n",
    "plt.yscale(\"log\") \n",
    "plt.title(\"RSSB VS HLB VS RSSB + EPLB\") \n",
    "plt.xlabel(\"# Rules\")\n",
    "plt.legend()\n",
    "plt.grid()\n",
    "plt.tight_layout() \n",
    "plt.savefig(\"plots/log_first_comparison_bounds\" + \".pdf\")\n",
    "plt.show()\n",
    "\n",
    "\n",
    "fig, ax = plt.subplots(1, 1, figsize=(6.38, 3.7))\n",
    "plt.plot([10, 25, 40], all_times_naive, label=\"HLB\", marker = \"o\", linewidth=1.5 , color = colors[0],  markersize = 12 , markeredgewidth=0.5, markeredgecolor= \"grey\"  , alpha = 0.5) \n",
    "plt.plot([10, 25, 40], all_times_V0, label=\"RSSB\", marker = \"^\", linewidth=1.5 , color = colors[1],   markersize = 12 , markeredgewidth=0.5, markeredgecolor= \"grey\"  , alpha = 0.5) \n",
    "plt.plot([10, 25, 40], all_times_V1, label=\"RSSB + EPLB\",  marker = \"s\", linewidth=1.5 ,  color = colors[2],   markersize = 12 , markeredgewidth=0.5, markeredgecolor= \"grey\"  , alpha = 0.5) \n",
    "plt.title(\"RSSB VS HLB VS RSSB + EPLB\") \n",
    "plt.xlabel(\"# Rules\")\n",
    "plt.legend()\n",
    "plt.grid()\n",
    "plt.tight_layout() \n",
    "plt.savefig(\"plots/first_comparison_bounds\" + \".pdf\" )\n",
    "plt.show()"
   ]
  },
  {
   "cell_type": "code",
   "execution_count": null,
   "id": "2fe66272",
   "metadata": {},
   "outputs": [],
   "source": []
  },
  {
   "cell_type": "markdown",
   "id": "22aba842",
   "metadata": {},
   "source": [
    "#### Check same results "
   ]
  },
  {
   "cell_type": "code",
   "execution_count": null,
   "id": "c441090e",
   "metadata": {},
   "outputs": [],
   "source": [
    "from time import time\n",
    "\n",
    "#num_rules_list = reversed([25, 50, 75, 100, 200])\n",
    "ub = 0.7\n",
    "lmbd = 0.1\n",
    "res_rows = []\n",
    "all_times_naive = []\n",
    "all_times_V1 = [] \n",
    "all_times_V0 = [] \n",
    "\n",
    "for num_rules in [10]:\n",
    "    \n",
    "    rules = [Rule.random(i+1, num_pts) for i in range(num_rules)]\n",
    "    y = bin_random(num_pts)\n",
    "    \n",
    "    start_time = time() \n",
    "    bbNaive = BranchAndBoundNaive(rules, ub=ub, y=y, lmbd=lmbd)\n",
    "    feasible_solutions = list(bbNaive.run(return_objective=True))\n",
    "    all_times_naive.append(time() - start_time) \n",
    "    actualNaive = solutions_to_dict(feasible_solutions)\n",
    "    \n",
    "    \n",
    "    start_time = time() \n",
    "    bbV0 = BranchAndBoundV0(rules, ub=ub, y=y, lmbd=lmbd)\n",
    "    feasible_solutions = list(bbV0.run(return_objective=True))\n",
    "    all_times_V0.append(time() - start_time)\n",
    "    actual_V0 = solutions_to_dict(feasible_solutions)\n",
    "    \n",
    "    assert_dict_allclose(actualNaive, actual_V0)\n",
    "    \n",
    "    start_time = time() \n",
    "    bbV1 = BranchAndBoundV1(rules, ub=ub, y=y, lmbd=lmbd)\n",
    "    feasible_solutions = list(bbV1.run(return_objective=True))\n",
    "    all_times_V1.append(time() - start_time)\n",
    "    actual_V1 = solutions_to_dict(feasible_solutions)\n",
    "    \n",
    "    assert_dict_allclose(actualNaive, actual_V1)"
   ]
  },
  {
   "cell_type": "code",
   "execution_count": null,
   "id": "b7227c86",
   "metadata": {},
   "outputs": [],
   "source": [
    "actualNaive\n"
   ]
  },
  {
   "cell_type": "code",
   "execution_count": null,
   "id": "ed2a17b4",
   "metadata": {},
   "outputs": [],
   "source": []
  },
  {
   "cell_type": "code",
   "execution_count": null,
   "id": "e8db3df0",
   "metadata": {},
   "outputs": [],
   "source": []
  },
  {
   "cell_type": "code",
   "execution_count": null,
   "id": "8bb21488",
   "metadata": {},
   "outputs": [],
   "source": []
  },
  {
   "cell_type": "markdown",
   "id": "94b47ea8",
   "metadata": {},
   "source": [
    "### try real world data "
   ]
  },
  {
   "cell_type": "code",
   "execution_count": 1,
   "id": "1cbf8795",
   "metadata": {},
   "outputs": [
    {
     "name": "stdout",
     "output_type": "stream",
     "text": [
      "/u/50/ciaperm1/unix/sampling-rashomon-decision-set-code\n"
     ]
    }
   ],
   "source": [
    "from sklearn import datasets \n",
    "import logging\n",
    "import sys\n",
    "import os\n",
    "%cd ..\n",
    "from bds.meel import approx_mc2, approx_mc2_core\n",
    "from bds.rule import Rule\n",
    "from bds.utils import bin_random , bin_array, randints, solutions_to_dict\n",
    "\n",
    "#from bds.bb import BranchAndBoundNaive, BranchAndBoundV1, BranchAndBoundV0, BranchAndBoundV2\n",
    "from logzero import logger\n",
    "import gmpy2 as gmp\n",
    "from gmpy2 import mpz , mpfr\n",
    "from bds.sat.min_freq import construct_min_freq_program\n",
    "from bds.sat.solver import construct_solver\n",
    "from bds.gf2 import GF\n",
    "from bds.rule import Rule\n",
    "from bds.utils import mpz_set_bits\n",
    "from tests.utils import assert_dict_allclose, assert_close_mpfr\n",
    "\n",
    "#from bds.bounds_utils import find_equivalence_classes\n",
    "import numpy as np \n",
    "\n",
    "#from bds.cbb_v2 import * \n",
    "\n",
    "logger.setLevel(logging.DEBUG)\n",
    "\n",
    "num_pts = 500\n",
    "\n",
    "show_progres = True\n",
    "rand_seed = 1234"
   ]
  },
  {
   "cell_type": "code",
   "execution_count": 2,
   "id": "e7f4d8c8",
   "metadata": {},
   "outputs": [],
   "source": [
    "import pandas as pd"
   ]
  },
  {
   "cell_type": "code",
   "execution_count": 3,
   "id": "7e3f5e18",
   "metadata": {},
   "outputs": [
    {
     "data": {
      "text/html": [
       "<div>\n",
       "<style scoped>\n",
       "    .dataframe tbody tr th:only-of-type {\n",
       "        vertical-align: middle;\n",
       "    }\n",
       "\n",
       "    .dataframe tbody tr th {\n",
       "        vertical-align: top;\n",
       "    }\n",
       "\n",
       "    .dataframe thead th {\n",
       "        text-align: right;\n",
       "    }\n",
       "</style>\n",
       "<table border=\"1\" class=\"dataframe\">\n",
       "  <thead>\n",
       "    <tr style=\"text-align: right;\">\n",
       "      <th></th>\n",
       "      <th>sex:Male</th>\n",
       "      <th>age:18-20</th>\n",
       "      <th>age:21-22</th>\n",
       "      <th>age:23-25</th>\n",
       "      <th>age:26-45</th>\n",
       "      <th>age:&gt;45</th>\n",
       "      <th>juvenile-felonies:&gt;0</th>\n",
       "      <th>juvenile-misdemeanors:&gt;0</th>\n",
       "      <th>juvenile-crimes:&gt;0</th>\n",
       "      <th>priors:2-3</th>\n",
       "      <th>priors:=0</th>\n",
       "      <th>priors:=1</th>\n",
       "      <th>priors:&gt;3</th>\n",
       "      <th>current-charge-degree:Misdemeanor</th>\n",
       "      <th>recidivate-within-two-years:1</th>\n",
       "    </tr>\n",
       "  </thead>\n",
       "  <tbody>\n",
       "    <tr>\n",
       "      <th>0</th>\n",
       "      <td>1</td>\n",
       "      <td>0</td>\n",
       "      <td>0</td>\n",
       "      <td>0</td>\n",
       "      <td>1</td>\n",
       "      <td>0</td>\n",
       "      <td>0</td>\n",
       "      <td>0</td>\n",
       "      <td>0</td>\n",
       "      <td>0</td>\n",
       "      <td>0</td>\n",
       "      <td>0</td>\n",
       "      <td>1</td>\n",
       "      <td>0</td>\n",
       "      <td>0</td>\n",
       "    </tr>\n",
       "    <tr>\n",
       "      <th>1</th>\n",
       "      <td>1</td>\n",
       "      <td>0</td>\n",
       "      <td>0</td>\n",
       "      <td>0</td>\n",
       "      <td>1</td>\n",
       "      <td>0</td>\n",
       "      <td>0</td>\n",
       "      <td>0</td>\n",
       "      <td>0</td>\n",
       "      <td>0</td>\n",
       "      <td>0</td>\n",
       "      <td>0</td>\n",
       "      <td>1</td>\n",
       "      <td>1</td>\n",
       "      <td>1</td>\n",
       "    </tr>\n",
       "    <tr>\n",
       "      <th>2</th>\n",
       "      <td>1</td>\n",
       "      <td>0</td>\n",
       "      <td>0</td>\n",
       "      <td>0</td>\n",
       "      <td>1</td>\n",
       "      <td>0</td>\n",
       "      <td>0</td>\n",
       "      <td>0</td>\n",
       "      <td>0</td>\n",
       "      <td>0</td>\n",
       "      <td>0</td>\n",
       "      <td>0</td>\n",
       "      <td>1</td>\n",
       "      <td>0</td>\n",
       "      <td>1</td>\n",
       "    </tr>\n",
       "    <tr>\n",
       "      <th>3</th>\n",
       "      <td>1</td>\n",
       "      <td>0</td>\n",
       "      <td>0</td>\n",
       "      <td>1</td>\n",
       "      <td>0</td>\n",
       "      <td>0</td>\n",
       "      <td>0</td>\n",
       "      <td>0</td>\n",
       "      <td>0</td>\n",
       "      <td>1</td>\n",
       "      <td>0</td>\n",
       "      <td>0</td>\n",
       "      <td>0</td>\n",
       "      <td>0</td>\n",
       "      <td>1</td>\n",
       "    </tr>\n",
       "    <tr>\n",
       "      <th>4</th>\n",
       "      <td>1</td>\n",
       "      <td>0</td>\n",
       "      <td>0</td>\n",
       "      <td>0</td>\n",
       "      <td>1</td>\n",
       "      <td>0</td>\n",
       "      <td>0</td>\n",
       "      <td>0</td>\n",
       "      <td>0</td>\n",
       "      <td>0</td>\n",
       "      <td>1</td>\n",
       "      <td>0</td>\n",
       "      <td>0</td>\n",
       "      <td>1</td>\n",
       "      <td>0</td>\n",
       "    </tr>\n",
       "  </tbody>\n",
       "</table>\n",
       "</div>"
      ],
      "text/plain": [
       "   sex:Male  age:18-20  age:21-22  age:23-25  age:26-45  age:>45   \n",
       "0         1          0          0          0          1        0  \\\n",
       "1         1          0          0          0          1        0   \n",
       "2         1          0          0          0          1        0   \n",
       "3         1          0          0          1          0        0   \n",
       "4         1          0          0          0          1        0   \n",
       "\n",
       "   juvenile-felonies:>0  juvenile-misdemeanors:>0  juvenile-crimes:>0   \n",
       "0                     0                         0                   0  \\\n",
       "1                     0                         0                   0   \n",
       "2                     0                         0                   0   \n",
       "3                     0                         0                   0   \n",
       "4                     0                         0                   0   \n",
       "\n",
       "   priors:2-3  priors:=0  priors:=1  priors:>3   \n",
       "0           0          0          0          1  \\\n",
       "1           0          0          0          1   \n",
       "2           0          0          0          1   \n",
       "3           1          0          0          0   \n",
       "4           0          1          0          0   \n",
       "\n",
       "   current-charge-degree:Misdemeanor  recidivate-within-two-years:1  \n",
       "0                                  0                              0  \n",
       "1                                  1                              1  \n",
       "2                                  0                              1  \n",
       "3                                  0                              1  \n",
       "4                                  1                              0  "
      ]
     },
     "execution_count": 3,
     "metadata": {},
     "output_type": "execute_result"
    }
   ],
   "source": [
    "# Load the CSV file using Pandas\n",
    "data = pd.read_csv('data/compas_test-binary.csv')\n",
    "\n",
    "# Print the data\n",
    "data.head()"
   ]
  },
  {
   "cell_type": "code",
   "execution_count": 4,
   "id": "6b1123d4",
   "metadata": {},
   "outputs": [
    {
     "data": {
      "text/plain": [
       "(721, 15)"
      ]
     },
     "execution_count": 4,
     "metadata": {},
     "output_type": "execute_result"
    }
   ],
   "source": [
    "data.shape"
   ]
  },
  {
   "cell_type": "code",
   "execution_count": 5,
   "id": "ce0dff14",
   "metadata": {},
   "outputs": [],
   "source": [
    "X = data.to_numpy()"
   ]
  },
  {
   "cell_type": "code",
   "execution_count": 6,
   "id": "71eda708",
   "metadata": {},
   "outputs": [
    {
     "data": {
      "text/plain": [
       "(721, 15)"
      ]
     },
     "execution_count": 6,
     "metadata": {},
     "output_type": "execute_result"
    }
   ],
   "source": [
    "X.shape"
   ]
  },
  {
   "cell_type": "code",
   "execution_count": 7,
   "id": "4c53c834",
   "metadata": {},
   "outputs": [],
   "source": [
    "# read labels \n",
    "f = open(\"data/compas_test.label\", \"r\")\n",
    "labels = []\n",
    "for row in f.readlines(): \n",
    "    labels.append(list(map(int, row.split(\" \")[1:])))"
   ]
  },
  {
   "cell_type": "code",
   "execution_count": 8,
   "id": "c9213d97",
   "metadata": {},
   "outputs": [],
   "source": [
    "y = np.array(labels[1], dtype = bool) "
   ]
  },
  {
   "cell_type": "code",
   "execution_count": 9,
   "id": "3b250f4b",
   "metadata": {},
   "outputs": [],
   "source": [
    "assert len(y) == X.shape[0]"
   ]
  },
  {
   "cell_type": "code",
   "execution_count": 10,
   "id": "101af5a2",
   "metadata": {},
   "outputs": [],
   "source": [
    "# now we need to extract rules \n",
    "X_bag = [set([j for j, x in enumerate(row) if x]) for row in X]"
   ]
  },
  {
   "cell_type": "code",
   "execution_count": 11,
   "id": "07bf5a83",
   "metadata": {},
   "outputs": [],
   "source": [
    "from bds.fpgrowth import preprocess_transaction_list, build_fptree, fpgrowth_on_tree"
   ]
  },
  {
   "cell_type": "code",
   "execution_count": 12,
   "id": "ccc48994",
   "metadata": {},
   "outputs": [],
   "source": [
    "lmbd = 0.1\n",
    "min_support = lmbd * X.shape[0] / 2"
   ]
  },
  {
   "cell_type": "code",
   "execution_count": 13,
   "id": "267b2edf",
   "metadata": {},
   "outputs": [],
   "source": [
    "ordered_input_data = preprocess_transaction_list(\n",
    "    X_bag, min_support\n",
    ")\n",
    "tree = build_fptree(ordered_input_data)\n",
    "frequent_itemsets = set(fpgrowth_on_tree(tree, set(), min_support))"
   ]
  },
  {
   "cell_type": "code",
   "execution_count": 14,
   "id": "a086acd4",
   "metadata": {},
   "outputs": [
    {
     "data": {
      "text/plain": [
       "83"
      ]
     },
     "execution_count": 14,
     "metadata": {},
     "output_type": "execute_result"
    }
   ],
   "source": [
    "len(frequent_itemsets)"
   ]
  },
  {
   "cell_type": "code",
   "execution_count": 15,
   "id": "32858039",
   "metadata": {},
   "outputs": [],
   "source": [
    "from bds.rule import Rule\n",
    "from time import time\n",
    "\n",
    "def compute_truthtable(X,itemset): \n",
    "    ''' poorly optimized function '''\n",
    "    support_list = [] \n",
    "    for i in range(X.shape[0]): \n",
    "        if sum([X[i][j] for j in itemset]) == len(itemset): \n",
    "            support_list.append(i)\n",
    "                \n",
    "    truthtable = mpz_set_bits(mpz(), support_list)\n",
    "    \n",
    "    return truthtable\n",
    "    "
   ]
  },
  {
   "cell_type": "code",
   "execution_count": 16,
   "id": "05fadbb6",
   "metadata": {},
   "outputs": [],
   "source": [
    "# Now create rules \n",
    "rules = [] \n",
    "for i,itemset in enumerate(frequent_itemsets):\n",
    "    tt = compute_truthtable(X,itemset)\n",
    "    this_Rule = Rule(id = i+1, name = \"rule_\" + str(i), cardinality=len(itemset), truthtable=tt)\n",
    "    # we need the truthtable for this itemset \n",
    "    rules.append(this_Rule) \n",
    "    "
   ]
  },
  {
   "cell_type": "code",
   "execution_count": 17,
   "id": "fd18e86b",
   "metadata": {},
   "outputs": [],
   "source": [
    "import pickle \n",
    "pickle.dump(rules, open(\"rules_compas_\" + str(len(rules)), \"wb\" ))"
   ]
  },
  {
   "cell_type": "code",
   "execution_count": 18,
   "id": "465541f2",
   "metadata": {},
   "outputs": [],
   "source": [
    "from bds.bbSampleTree import BranchAndBoundNaive\n",
    "import time \n",
    "import random"
   ]
  },
  {
   "cell_type": "code",
   "execution_count": 19,
   "id": "e54f794f",
   "metadata": {},
   "outputs": [
    {
     "name": "stderr",
     "output_type": "stream",
     "text": [
      "[D 230702 23:43:46 bbSampleTree:60] calling BranchAndBoundNaive with ub=0.5, lmbd=0.1\n"
     ]
    },
    {
     "data": {
      "text/plain": [
       "[({0, 12, 40, 44, 46},\n",
       "  (Node(rule_id=46, lower_bound=0.4943134535367545, objective=0.4943134535367545),\n",
       "   mpz(3125306672532590281242601330083320625139072548849475009812709706423058279332502941362627212235171556652063788448342441743418153884534911089387409341473586327218915720661265948417115949989929421486246416609999020563473)),\n",
       "  0.4943134535367545),\n",
       " ({0, 12, 40, 65, 68},\n",
       "  (Node(rule_id=65, lower_bound=0.4388349514563107, objective=0.4388349514563107),\n",
       "   mpz(3211499608801524945890741444623303939446306800928117630649172097681368798371474586664965383039343198783509965207847258372215735609721925869834424573208620501319560568415214220708061823377636416469135306435910444719185)),\n",
       "  0.4388349514563107),\n",
       " ({0, 12, 40, 67},\n",
       "  (Node(rule_id=67, lower_bound=0.32635228848821085, objective=0.32635228848821085),\n",
       "   mpz(3211499608801524946040243498781548032370740712103763744946161245990531171152132185665757108798383234191138904203513130624796117092307105583196452246849769684379327246988419517403597702962796953497458519602170258988113)),\n",
       "  0.32635228848821085),\n",
       " ({0, 12, 40, 66, 67},\n",
       "  (Node(rule_id=66, lower_bound=0.4596393897364771, objective=0.4596393897364771),\n",
       "   mpz(3189954091506676369926536858798510108133737053559041842017503101434455766761311508968576984613084432671563009789894297040293037485677071900105512132483835873028892380419564322130819315295116490974697293476849802222673)),\n",
       "  0.4596393897364771),\n",
       " ({0, 12, 40, 67, 76},\n",
       "  (Node(rule_id=76, lower_bound=0.4402219140083218, objective=0.4402219140083218),\n",
       "   mpz(3211499608801524946040243498781548032366688450806028400260058196205156710386662365698090317682764015338851221734896779144389353801412891037370063296046154625342852961184359458505435513164334104101174833023548371901521)),\n",
       "  0.4402219140083218),\n",
       " ({0, 12, 40, 66, 76},\n",
       "  (Node(rule_id=76, lower_bound=0.4693481276005548, objective=0.4693481276005548),\n",
       "   mpz(3189954091506676369926536858798510108129684792261306497331400051649081305995841689000910193497465213898079339714066903984444354395070084968143948578205232403443276423384960857531717857625684200610887576799888416316497)),\n",
       "  0.4693481276005548),\n",
       " ({0, 12, 40, 48, 57},\n",
       "  (Node(rule_id=57, lower_bound=0.42635228848821083, objective=0.42635228848821083),\n",
       "   mpz(3211499608801524946040243498781548032370740712103763744946161245990531171152132185665757108798383234191138904203513130624796117092307105583196452246849769684379327246988419517403597702962796953497458519602170258988113)),\n",
       "  0.42635228848821083),\n",
       " ({0, 12, 40, 66, 78},\n",
       "  (Node(rule_id=78, lower_bound=0.47073509015256587, objective=0.47073509015256587),\n",
       "   mpz(3189954091506676369926536858798510108129684792261306497331400051649081305995841689000910193497465213898079339714066903984444354395070084968143948578205232352021259007097272040188930902708480919900391775750517686672465)),\n",
       "  0.47073509015256587),\n",
       " ({0, 12, 40, 67, 78},\n",
       "  (Node(rule_id=78, lower_bound=0.44438280166435506, objective=0.44438280166435506),\n",
       "   mpz(3211499608801524946040243498781548032366688450805969432097170359621515149414272329692490001766441775647969497253463085545018057368692419784646956617823306356762831796706241074667932701834867296072118031281881055894609)),\n",
       "  0.44438280166435506),\n",
       " ({0, 12, 40, 57, 59},\n",
       "  (Node(rule_id=59, lower_bound=0.4346740638002774, objective=0.4346740638002774),\n",
       "   mpz(3211499608801524945890741444623303939446306800928176598812059934265010359343864622670565698955665438474391689689280951971587032042444339791449756980502388180384387835512286194041829819311151756197435211413412239580241)),\n",
       "  0.4346740638002774),\n",
       " ({0, 12, 40, 57, 67},\n",
       "  (Node(rule_id=67, lower_bound=0.42635228848821083, objective=0.42635228848821083),\n",
       "   mpz(3211499608801524946040243498781548032370740712103763744946161245990531171152132185665757108798383234191138904203513130624796117092307105583196452246849769684379327246988419517403597702962796953497458519602170258988113)),\n",
       "  0.42635228848821083),\n",
       " ({0, 12, 40, 61, 72},\n",
       "  (Node(rule_id=72, lower_bound=0.4651872399445215, objective=0.4651872399445215),\n",
       "   mpz(3189954091506676374860105216325642377349622271736158144655212973538202334190546675920368656285552219845870275082902177128590891888687286116779166654824947527844428493571785716974264166218497985480981581364580171848785)),\n",
       "  0.4651872399445215),\n",
       " ({0, 12, 40, 58},\n",
       "  (Node(rule_id=58, lower_bound=0.41650485436893203, objective=0.41650485436893203),\n",
       "   mpz(3211498290873631531936789229564883914876740152189945686857456754994466370005262194052664649015822079202966499836045486797879213747869906371643309536076473021153370004355666890071606677619771210451281791017076930187329)),\n",
       "  0.41650485436893203),\n",
       " ({0, 12, 40, 66, 79},\n",
       "  (Node(rule_id=79, lower_bound=0.4596393897364771, objective=0.4596393897364771),\n",
       "   mpz(3189954091506676369926536858798510108133737053559041842017503101434455766761311508968576984613084432671563009789894297040293037485677071900105512132483835873028892380419564322130819315295116490974697293476849802222673)),\n",
       "  0.4596393897364771),\n",
       " ({0, 12, 40, 57, 61},\n",
       "  (Node(rule_id=61, lower_bound=0.4651872399445215, objective=0.4651872399445215),\n",
       "   mpz(3189954091506676374860105216325642377349622271736158144655212973538202334190546675920368656285552219845870275082902177128590891888687286116779166654824947527844428493571785716974264166218497985480981581364580171848785)),\n",
       "  0.4651872399445215),\n",
       " ({0, 12, 40, 61, 65},\n",
       "  (Node(rule_id=65, lower_bound=0.47766990291262135, objective=0.47766990291262135),\n",
       "   mpz(3189954091506676374710603162167398284425188360560512030358223825229039961409889076919576930526512184438241336087236304876010510406102106403417138981183798344784661814998580420278728286633337448452658368198320357579857)),\n",
       "  0.47766990291262135),\n",
       " ({0, 12, 40, 67, 73},\n",
       "  (Node(rule_id=73, lower_bound=0.4859916782246879, objective=0.4859916782246879),\n",
       "   mpz(3125306672532590281392103384241562593511535192956667397590470028520130918108579588127489901423955179948637226885256671858880326223472186403405467712100107154673222024705540359858811622736712349390674284269020563053585)),\n",
       "  0.4859916782246879),\n",
       " ({0, 12, 40, 67, 71},\n",
       "  (Node(rule_id=71, lower_bound=0.42635228848821083, objective=0.42635228848821083),\n",
       "   mpz(3211499608801524946040243498781548032370740712103763744946161245990531171152132185665757108798383234191138904203513130624796117092307105583196452246849769684379327246988419517403597702962796953497458519602170258988113)),\n",
       "  0.42635228848821083),\n",
       " ({0, 12, 40, 66, 72},\n",
       "  (Node(rule_id=72, lower_bound=0.4596393897364771, objective=0.4596393897364771),\n",
       "   mpz(3189954091506676369926536858798510108133737053559041842017503101434455766761311508968576984613084432671563009789894297040293037485677071900105512132483835873028892380419564322130819315295116490974697293476849802222673)),\n",
       "  0.4596393897364771),\n",
       " ({0, 12, 40, 57, 66},\n",
       "  (Node(rule_id=66, lower_bound=0.4596393897364771, objective=0.4596393897364771),\n",
       "   mpz(3189954091506676369926536858798510108133737053559041842017503101434455766761311508968576984613084432671563009789894297040293037485677071900105512132483835873028892380419564322130819315295116490974697293476849802222673)),\n",
       "  0.4596393897364771),\n",
       " ({0, 12, 40, 66, 77},\n",
       "  (Node(rule_id=77, lower_bound=0.4596393897364771, objective=0.4596393897364771),\n",
       "   mpz(3189954091506676369926536858798510108133737053559041842017503101434455766761311508968576984613084432671563009789894297040293037485677071900105512132483835873028892380419564322130819315295116490974697293476849802222673)),\n",
       "  0.4596393897364771),\n",
       " ({0, 12, 40, 61, 69},\n",
       "  (Node(rule_id=69, lower_bound=0.4651872399445215, objective=0.4651872399445215),\n",
       "   mpz(3189954091506676374860105216325642377349622271736158144655212973538202334190546675920368656285552219845870275082902177128590891888687286116779166654824947527844428493571785716974264166218497985480981581364580171848785)),\n",
       "  0.4651872399445215),\n",
       " ({0, 12, 40, 67, 75},\n",
       "  (Node(rule_id=75, lower_bound=0.4970873786407767, objective=0.4970873786407767),\n",
       "   mpz(2865735095256457934562353221121641860000627468409700600349115708268072304066665340493961147997600800971220319246538578377871743366175445827963664462574432345477641150991421136026664791979396462681126526524674489654337)),\n",
       "  0.4970873786407767),\n",
       " ({0, 12, 40, 66, 69},\n",
       "  (Node(rule_id=69, lower_bound=0.4596393897364771, objective=0.4596393897364771),\n",
       "   mpz(3189954091506676369926536858798510108133737053559041842017503101434455766761311508968576984613084432671563009789894297040293037485677071900105512132483835873028892380419564322130819315295116490974697293476849802222673)),\n",
       "  0.4596393897364771),\n",
       " ({0, 12, 40, 66, 71},\n",
       "  (Node(rule_id=71, lower_bound=0.4596393897364771, objective=0.4596393897364771),\n",
       "   mpz(3189954091506676369926536858798510108133737053559041842017503101434455766761311508968576984613084432671563009789894297040293037485677071900105512132483835873028892380419564322130819315295116490974697293476849802222673)),\n",
       "  0.4596393897364771),\n",
       " ({0, 12, 40, 65, 67},\n",
       "  (Node(rule_id=65, lower_bound=0.4388349514563107, objective=0.4388349514563107),\n",
       "   mpz(3211499608801524945890741444623303939446306800928117630649172097681368798371474586664965383039343198783509965207847258372215735609721925869834424573208620501319560568415214220708061823377636416469135306435910444719185)),\n",
       "  0.4388349514563107),\n",
       " ({0, 12, 40, 67, 82},\n",
       "  (Node(rule_id=82, lower_bound=0.48183079056865463, objective=0.48183079056865463),\n",
       "   mpz(3211499608801524945292733227990327567744518894928033701426663800574914295292421781695185936065576444205662787931907514949638137291023660234761197620686395899054601314993636017163792558987380697186716931892077634391120)),\n",
       "  0.48183079056865463),\n",
       " ({0, 12, 40, 67, 83},\n",
       "  (Node(rule_id=83, lower_bound=0.42635228848821083, objective=0.42635228848821083),\n",
       "   mpz(3211499608801524946040243498781548032370740712103763744946161245990531171152132185665757108798383234191138904203513130624796117092307105583196452246849769684379327246988419517403597702962796953497458519602170258988113)),\n",
       "  0.42635228848821083)]"
      ]
     },
     "execution_count": 19,
     "metadata": {},
     "output_type": "execute_result"
    }
   ],
   "source": [
    "lmbd = 0.1\n",
    "ub = 0.5\n",
    "bb = BranchAndBoundNaive(rules, ub, y, lmbd, l=4, k=150) \n",
    "ll = list(bb.runST())\n",
    "ll"
   ]
  },
  {
   "cell_type": "code",
   "execution_count": 20,
   "id": "af9772e5",
   "metadata": {},
   "outputs": [],
   "source": [
    "from bds.bbSampleTreeApproxCounting import BranchAndBoundNaive\n",
    "import time \n",
    "import random"
   ]
  },
  {
   "cell_type": "code",
   "execution_count": 21,
   "id": "be7eee0d",
   "metadata": {},
   "outputs": [
    {
     "name": "stderr",
     "output_type": "stream",
     "text": [
      "[D 230702 23:43:46 bbSampleTreeApproxCounting:60] calling BranchAndBoundNaive with ub=0.5, lmbd=0.1\n"
     ]
    }
   ],
   "source": [
    "lmbd = 0.1\n",
    "ub = 0.5\n",
    "bb = BranchAndBoundNaive(rules, ub, y, lmbd, l=4, k=150) \n",
    "Z = bb.runST()\n"
   ]
  },
  {
   "cell_type": "code",
   "execution_count": 22,
   "id": "d8b27a22",
   "metadata": {},
   "outputs": [
    {
     "data": {
      "text/plain": [
       "162.0"
      ]
     },
     "execution_count": 22,
     "metadata": {},
     "output_type": "execute_result"
    }
   ],
   "source": [
    "Z"
   ]
  },
  {
   "cell_type": "code",
   "execution_count": 23,
   "id": "bee5774c",
   "metadata": {},
   "outputs": [
    {
     "name": "stderr",
     "output_type": "stream",
     "text": [
      "2023-07-02 23:43:51,960\tINFO worker.py:1636 -- Started a local Ray instance.\n"
     ]
    },
    {
     "data": {
      "text/html": [
       "<div>\n",
       "    <div style=\"margin-left: 50px;display: flex;flex-direction: row;align-items: center\">\n",
       "        <h3 style=\"color: var(--jp-ui-font-color0)\">Ray</h3>\n",
       "        <svg version=\"1.1\" id=\"ray\" width=\"3em\" viewBox=\"0 0 144.5 144.6\" style=\"margin-left: 3em;margin-right: 3em\">\n",
       "            <g id=\"layer-1\">\n",
       "                <path fill=\"#00a2e9\" class=\"st0\" d=\"M97.3,77.2c-3.8-1.1-6.2,0.9-8.3,5.1c-3.5,6.8-9.9,9.9-17.4,9.6S58,88.1,54.8,81.2c-1.4-3-3-4-6.3-4.1\n",
       "                    c-5.6-0.1-9.9,0.1-13.1,6.4c-3.8,7.6-13.6,10.2-21.8,7.6C5.2,88.4-0.4,80.5,0,71.7c0.1-8.4,5.7-15.8,13.8-18.2\n",
       "                    c8.4-2.6,17.5,0.7,22.3,8c1.3,1.9,1.3,5.2,3.6,5.6c3.9,0.6,8,0.2,12,0.2c1.8,0,1.9-1.6,2.4-2.8c3.5-7.8,9.7-11.8,18-11.9\n",
       "                    c8.2-0.1,14.4,3.9,17.8,11.4c1.3,2.8,2.9,3.6,5.7,3.3c1-0.1,2,0.1,3,0c2.8-0.5,6.4,1.7,8.1-2.7s-2.3-5.5-4.1-7.5\n",
       "                    c-5.1-5.7-10.9-10.8-16.1-16.3C84,38,81.9,37.1,78,38.3C66.7,42,56.2,35.7,53,24.1C50.3,14,57.3,2.8,67.7,0.5\n",
       "                    C78.4-2,89,4.7,91.5,15.3c0.1,0.3,0.1,0.5,0.2,0.8c0.7,3.4,0.7,6.9-0.8,9.8c-1.7,3.2-0.8,5,1.5,7.2c6.7,6.5,13.3,13,19.8,19.7\n",
       "                    c1.8,1.8,3,2.1,5.5,1.2c9.1-3.4,17.9-0.6,23.4,7c4.8,6.9,4.6,16.1-0.4,22.9c-5.4,7.2-14.2,9.9-23.1,6.5c-2.3-0.9-3.5-0.6-5.1,1.1\n",
       "                    c-6.7,6.9-13.6,13.7-20.5,20.4c-1.8,1.8-2.5,3.2-1.4,5.9c3.5,8.7,0.3,18.6-7.7,23.6c-7.9,5-18.2,3.8-24.8-2.9\n",
       "                    c-6.4-6.4-7.4-16.2-2.5-24.3c4.9-7.8,14.5-11,23.1-7.8c3,1.1,4.7,0.5,6.9-1.7C91.7,98.4,98,92.3,104.2,86c1.6-1.6,4.1-2.7,2.6-6.2\n",
       "                    c-1.4-3.3-3.8-2.5-6.2-2.6C99.8,77.2,98.9,77.2,97.3,77.2z M72.1,29.7c5.5,0.1,9.9-4.3,10-9.8c0-0.1,0-0.2,0-0.3\n",
       "                    C81.8,14,77,9.8,71.5,10.2c-5,0.3-9,4.2-9.3,9.2c-0.2,5.5,4,10.1,9.5,10.3C71.8,29.7,72,29.7,72.1,29.7z M72.3,62.3\n",
       "                    c-5.4-0.1-9.9,4.2-10.1,9.7c0,0.2,0,0.3,0,0.5c0.2,5.4,4.5,9.7,9.9,10c5.1,0.1,9.9-4.7,10.1-9.8c0.2-5.5-4-10-9.5-10.3\n",
       "                    C72.6,62.3,72.4,62.3,72.3,62.3z M115,72.5c0.1,5.4,4.5,9.7,9.8,9.9c5.6-0.2,10-4.8,10-10.4c-0.2-5.4-4.6-9.7-10-9.7\n",
       "                    c-5.3-0.1-9.8,4.2-9.9,9.5C115,72.1,115,72.3,115,72.5z M19.5,62.3c-5.4,0.1-9.8,4.4-10,9.8c-0.1,5.1,5.2,10.4,10.2,10.3\n",
       "                    c5.6-0.2,10-4.9,9.8-10.5c-0.1-5.4-4.5-9.7-9.9-9.6C19.6,62.3,19.5,62.3,19.5,62.3z M71.8,134.6c5.9,0.2,10.3-3.9,10.4-9.6\n",
       "                    c0.5-5.5-3.6-10.4-9.1-10.8c-5.5-0.5-10.4,3.6-10.8,9.1c0,0.5,0,0.9,0,1.4c-0.2,5.3,4,9.8,9.3,10\n",
       "                    C71.6,134.6,71.7,134.6,71.8,134.6z\"/>\n",
       "            </g>\n",
       "        </svg>\n",
       "        <table>\n",
       "            <tr>\n",
       "                <td style=\"text-align: left\"><b>Python version:</b></td>\n",
       "                <td style=\"text-align: left\"><b>3.9.16</b></td>\n",
       "            </tr>\n",
       "            <tr>\n",
       "                <td style=\"text-align: left\"><b>Ray version:</b></td>\n",
       "                <td style=\"text-align: left\"><b> 2.5.0</b></td>\n",
       "            </tr>\n",
       "            \n",
       "        </table>\n",
       "    </div>\n",
       "</div>\n"
      ],
      "text/plain": [
       "RayContext(dashboard_url='', python_version='3.9.16', ray_version='2.5.0', ray_commit='586c376e0769082cb5cfa1333e8264a5fa6b73ec', address_info={'node_ip_address': '192.168.0.103', 'raylet_ip_address': '192.168.0.103', 'redis_address': None, 'object_store_address': '/tmp/ray/session_2023-07-02_23-43-50_243028_531400/sockets/plasma_store', 'raylet_socket_name': '/tmp/ray/session_2023-07-02_23-43-50_243028_531400/sockets/raylet', 'webui_url': '', 'session_dir': '/tmp/ray/session_2023-07-02_23-43-50_243028_531400', 'metrics_export_port': 59500, 'gcs_address': '192.168.0.103:48173', 'address': '192.168.0.103:48173', 'dashboard_agent_listen_port': 52365, 'node_id': '38bc205c356c3acba8e94637f15569795aceec977ed48ec6b4f44555'})"
      ]
     },
     "execution_count": 23,
     "metadata": {},
     "output_type": "execute_result"
    }
   ],
   "source": [
    "import pandas as pd\n",
    "import ray\n",
    "import logging\n",
    "from bds.meel import approx_mc2, approx_mc2_core\n",
    "from bds.bb import get_ground_truth_count\n",
    "from bds.rule import Rule\n",
    "from bds.utils import bin_random, randints\n",
    "from logzero import logger\n",
    "\n",
    "import numpy as np\n",
    "from contexttimer import Timer\n",
    "\n",
    "logger.setLevel(logging.WARN)\n",
    "\n",
    "num_pts = 1000\n",
    "\n",
    "ub = 0.8\n",
    "lmbd = .1\n",
    "delta = .8\n",
    "eps = .8\n",
    "show_progres = True\n",
    "rand_seed = 1234\n",
    "\n",
    "ray.init(num_cpus=4)"
   ]
  },
  {
   "cell_type": "code",
   "execution_count": 24,
   "id": "18f407b8",
   "metadata": {},
   "outputs": [
    {
     "name": "stderr",
     "output_type": "stream",
     "text": [
      "\r",
      "  0%|                                                     | 0/4 [00:00<?, ?it/s]"
     ]
    },
    {
     "name": "stdout",
     "output_type": "stream",
     "text": [
      "\u001b[2m\u001b[36m(approx_mc2_core_wrapper pid=531589)\u001b[0m rand_seed: 822569775\n",
      "\u001b[2m\u001b[36m(approx_mc2_core_wrapper pid=531590)\u001b[0m rand_seed: 524453158\u001b[32m [repeated 2x across cluster] (Ray deduplicates logs by default. Set RAY_DEDUP_LOGS=0 to disable log deduplication, or see https://docs.ray.io/en/master/ray-observability/ray-logging.html#log-deduplication for more options.)\u001b[0m\n"
     ]
    },
    {
     "name": "stderr",
     "output_type": "stream",
     "text": [
      "\u001b[2m\u001b[33m(raylet)\u001b[0m [2023-07-02 23:44:51,872 E 531537 531537] (raylet) node_manager.cc:3069: 2 Workers (tasks / actors) killed due to memory pressure (OOM), 0 Workers crashed due to other reasons at node (ID: 38bc205c356c3acba8e94637f15569795aceec977ed48ec6b4f44555, IP: 192.168.0.103) over the last time period. To see more information about the Workers killed on this node, use `ray logs raylet.out -ip 192.168.0.103`\n",
      "\u001b[2m\u001b[33m(raylet)\u001b[0m \n",
      "\u001b[2m\u001b[33m(raylet)\u001b[0m Refer to the documentation on how to address the out of memory issue: https://docs.ray.io/en/latest/ray-core/scheduling/ray-oom-prevention.html. Consider provisioning more memory on this node or reducing task parallelism by requesting more CPUs per task. To adjust the kill threshold, set the environment variable `RAY_memory_usage_threshold` when starting Ray. To disable worker killing, set the environment variable `RAY_memory_monitor_refresh_ms` to zero.\n"
     ]
    },
    {
     "name": "stdout",
     "output_type": "stream",
     "text": [
      "\u001b[2m\u001b[36m(approx_mc2_core_wrapper pid=531587)\u001b[0m rand_seed: 1365105717\n",
      "\u001b[2m\u001b[36m(approx_mc2_core_wrapper pid=531944)\u001b[0m rand_seed: 2137449171\n",
      "\u001b[2m\u001b[36m(approx_mc2_core_wrapper pid=532013)\u001b[0m rand_seed: 524453158\n",
      "\u001b[2m\u001b[36m(approx_mc2_core_wrapper pid=532094)\u001b[0m rand_seed: 1365105717\n",
      "\u001b[2m\u001b[36m(approx_mc2_core_wrapper pid=532178)\u001b[0m rand_seed: 2137449171\n"
     ]
    },
    {
     "name": "stderr",
     "output_type": "stream",
     "text": [
      "\u001b[2m\u001b[33m(raylet)\u001b[0m [2023-07-02 23:45:51,873 E 531537 531537] (raylet) node_manager.cc:3069: 4 Workers (tasks / actors) killed due to memory pressure (OOM), 0 Workers crashed due to other reasons at node (ID: 38bc205c356c3acba8e94637f15569795aceec977ed48ec6b4f44555, IP: 192.168.0.103) over the last time period. To see more information about the Workers killed on this node, use `ray logs raylet.out -ip 192.168.0.103`\n",
      "\u001b[2m\u001b[33m(raylet)\u001b[0m \n",
      "\u001b[2m\u001b[33m(raylet)\u001b[0m Refer to the documentation on how to address the out of memory issue: https://docs.ray.io/en/latest/ray-core/scheduling/ray-oom-prevention.html. Consider provisioning more memory on this node or reducing task parallelism by requesting more CPUs per task. To adjust the kill threshold, set the environment variable `RAY_memory_usage_threshold` when starting Ray. To disable worker killing, set the environment variable `RAY_memory_monitor_refresh_ms` to zero.\n"
     ]
    },
    {
     "name": "stdout",
     "output_type": "stream",
     "text": [
      "\u001b[2m\u001b[36m(approx_mc2_core_wrapper pid=532239)\u001b[0m rand_seed: 524453158\n",
      "\u001b[2m\u001b[36m(approx_mc2_core_wrapper pid=532309)\u001b[0m rand_seed: 1365105717\n",
      "\u001b[2m\u001b[36m(approx_mc2_core_wrapper pid=532374)\u001b[0m rand_seed: 2137449171\n"
     ]
    },
    {
     "name": "stderr",
     "output_type": "stream",
     "text": [
      "\u001b[2m\u001b[33m(raylet)\u001b[0m [2023-07-02 23:46:51,874 E 531537 531537] (raylet) node_manager.cc:3069: 3 Workers (tasks / actors) killed due to memory pressure (OOM), 0 Workers crashed due to other reasons at node (ID: 38bc205c356c3acba8e94637f15569795aceec977ed48ec6b4f44555, IP: 192.168.0.103) over the last time period. To see more information about the Workers killed on this node, use `ray logs raylet.out -ip 192.168.0.103`\n",
      "\u001b[2m\u001b[33m(raylet)\u001b[0m \n",
      "\u001b[2m\u001b[33m(raylet)\u001b[0m Refer to the documentation on how to address the out of memory issue: https://docs.ray.io/en/latest/ray-core/scheduling/ray-oom-prevention.html. Consider provisioning more memory on this node or reducing task parallelism by requesting more CPUs per task. To adjust the kill threshold, set the environment variable `RAY_memory_usage_threshold` when starting Ray. To disable worker killing, set the environment variable `RAY_memory_monitor_refresh_ms` to zero.\n"
     ]
    },
    {
     "name": "stdout",
     "output_type": "stream",
     "text": [
      "\u001b[2m\u001b[36m(approx_mc2_core_wrapper pid=532483)\u001b[0m rand_seed: 524453158\n",
      "\u001b[2m\u001b[36m(approx_mc2_core_wrapper pid=532548)\u001b[0m rand_seed: 1365105717\n",
      "\u001b[2m\u001b[36m(approx_mc2_core_wrapper pid=532609)\u001b[0m rand_seed: 2137449171\n",
      "\u001b[2m\u001b[36m(approx_mc2_core_wrapper pid=532675)\u001b[0m rand_seed: 524453158\n"
     ]
    },
    {
     "name": "stderr",
     "output_type": "stream",
     "text": [
      "  0%|                                                     | 0/4 [03:46<?, ?it/s]\n"
     ]
    },
    {
     "ename": "OutOfMemoryError",
     "evalue": "Task was killed due to the node running low on memory.\nMemory on the node (IP: 192.168.0.103, ID: 38bc205c356c3acba8e94637f15569795aceec977ed48ec6b4f44555) where the task (task ID: 7299104621e99824e642104d65b6e40581c0534801000000, name=approx_mc2_core_wrapper, pid=531589, memory used=4.52GB) was running was 14.68GB / 15.43GB (0.951097), which exceeds the memory usage threshold of 0.95. Ray killed this worker (ID: 43c6a704808b9f473b2aea886a3ee8db12bfd6642378a9443087a307) because it was the most recently scheduled task; to see more information about memory usage on this node, use `ray logs raylet.out -ip 192.168.0.103`. To see the logs of the worker, use `ray logs worker-43c6a704808b9f473b2aea886a3ee8db12bfd6642378a9443087a307*out -ip 192.168.0.103. Top 10 memory users:\nPID\tMEM(GB)\tCOMMAND\n531589\t4.52\tray::approx_mc2_core_wrapper\n77440\t1.45\t/usr/lib/libreoffice/program/soffice.bin --impress file:///u/50/ciaperm1/unix/Documents/thesisDef_v2...\n4253\t0.73\t/u/50/ciaperm1/unix/anaconda3/envs/mynewenvnewest/bin/python /u/50/ciaperm1/unix/anaconda3/envs/myne...\n3636\t0.61\t/usr/bin/gnome-software --gapplication-service\n48783\t0.47\t/opt/google/chrome/chrome --type=renderer --field-trial-handle=3761225392334852051,77675432944395349...\n51334\t0.43\t/usr/bin/nautilus --gapplication-service\n115185\t0.31\t/u/50/ciaperm1/unix/anaconda3/bin/python -m pyls --host 127.0.0.1 --port 2088 --tcp --check-parent-p...\n115119\t0.30\t/u/50/ciaperm1/unix/anaconda3/bin/python /u/50/ciaperm1/unix/anaconda3/bin/spyder --new\n2583\t0.24\t/usr/bin/gnome-shell\n531400\t0.24\t/u/50/ciaperm1/unix/anaconda3/envs/mynewenvnewest/bin/python -m ipykernel_launcher -f /u/50/ciaperm1...\nRefer to the documentation on how to address the out of memory issue: https://docs.ray.io/en/latest/ray-core/scheduling/ray-oom-prevention.html. Consider provisioning more memory on this node or reducing task parallelism by requesting more CPUs per task. To adjust the kill threshold, set the environment variable `RAY_memory_usage_threshold` when starting Ray. To disable worker killing, set the environment variable `RAY_memory_monitor_refresh_ms` to zero.",
     "output_type": "error",
     "traceback": [
      "\u001b[0;31m---------------------------------------------------------------------------\u001b[0m",
      "\u001b[0;31mOutOfMemoryError\u001b[0m                          Traceback (most recent call last)",
      "Cell \u001b[0;32mIn[24], line 1\u001b[0m\n\u001b[0;32m----> 1\u001b[0m test_cnt \u001b[38;5;241m=\u001b[39m \u001b[43mapprox_mc2\u001b[49m\u001b[43m(\u001b[49m\n\u001b[1;32m      2\u001b[0m \u001b[43m                \u001b[49m\u001b[43mrules\u001b[49m\u001b[43m,\u001b[49m\u001b[43m \u001b[49m\u001b[43my\u001b[49m\u001b[43m,\u001b[49m\u001b[43m \u001b[49m\u001b[43mlmbd\u001b[49m\u001b[38;5;241;43m=\u001b[39;49m\u001b[43mlmbd\u001b[49m\u001b[43m,\u001b[49m\u001b[43m \u001b[49m\u001b[43mub\u001b[49m\u001b[38;5;241;43m=\u001b[39;49m\u001b[43mub\u001b[49m\u001b[43m,\u001b[49m\n\u001b[1;32m      3\u001b[0m \u001b[43m                \u001b[49m\u001b[43mdelta\u001b[49m\u001b[38;5;241;43m=\u001b[39;49m\u001b[43mdelta\u001b[49m\u001b[43m,\u001b[49m\u001b[43m \u001b[49m\u001b[43meps\u001b[49m\u001b[38;5;241;43m=\u001b[39;49m\u001b[43meps\u001b[49m\u001b[43m,\u001b[49m\u001b[43m \u001b[49m\u001b[43mrand_seed\u001b[49m\u001b[38;5;241;43m=\u001b[39;49m\u001b[43mrand_seed\u001b[49m\u001b[43m,\u001b[49m\u001b[43m \u001b[49m\u001b[43mshow_progress\u001b[49m\u001b[38;5;241;43m=\u001b[39;49m\u001b[43mshow_progres\u001b[49m\u001b[43m,\u001b[49m\n\u001b[1;32m      4\u001b[0m \u001b[43m                \u001b[49m\u001b[43mparallel\u001b[49m\u001b[38;5;241;43m=\u001b[39;49m\u001b[38;5;28;43;01mTrue\u001b[39;49;00m\u001b[43m,\u001b[49m\u001b[43m \u001b[49m\u001b[43mlog_level\u001b[49m\u001b[38;5;241;43m=\u001b[39;49m\u001b[43mlogging\u001b[49m\u001b[38;5;241;43m.\u001b[39;49m\u001b[43mWARN\u001b[49m\n\u001b[1;32m      5\u001b[0m \u001b[43m            \u001b[49m\u001b[43m)\u001b[49m\n",
      "File \u001b[0;32m~/sampling-rashomon-decision-set-code/bds/meel.py:456\u001b[0m, in \u001b[0;36mapprox_mc2\u001b[0;34m(rules, y, lmbd, ub, delta, eps, parallel, log_level, rand_seed, show_progress)\u001b[0m\n\u001b[1;32m    438\u001b[0m promise_1st_round \u001b[38;5;241m=\u001b[39m [\n\u001b[1;32m    439\u001b[0m     approx_mc2_core_wrapper\u001b[38;5;241m.\u001b[39mremote(\n\u001b[1;32m    440\u001b[0m         log_level,\n\u001b[0;32m   (...)\u001b[0m\n\u001b[1;32m    450\u001b[0m     \u001b[38;5;28;01mfor\u001b[39;00m seed \u001b[38;5;129;01min\u001b[39;00m rand_seed_pool[:num_available_cpus]\n\u001b[1;32m    451\u001b[0m ]\n\u001b[1;32m    453\u001b[0m logger\u001b[38;5;241m.\u001b[39minfo(\n\u001b[1;32m    454\u001b[0m     \u001b[38;5;124mf\u001b[39m\u001b[38;5;124m\"\u001b[39m\u001b[38;5;124mdoing 1st round of parallel execution of \u001b[39m\u001b[38;5;132;01m{\u001b[39;00m\u001b[38;5;28mlen\u001b[39m(rand_seed_pool[:num_available_cpus])\u001b[38;5;132;01m}\u001b[39;00m\u001b[38;5;124m jobs\u001b[39m\u001b[38;5;124m\"\u001b[39m\n\u001b[1;32m    455\u001b[0m )\n\u001b[0;32m--> 456\u001b[0m \u001b[43mRayProgressBar\u001b[49m\u001b[38;5;241;43m.\u001b[39;49m\u001b[43mshow\u001b[49m\u001b[43m(\u001b[49m\u001b[43mpromise_1st_round\u001b[49m\u001b[43m)\u001b[49m\n\u001b[1;32m    457\u001b[0m results_1st_round \u001b[38;5;241m=\u001b[39m ray\u001b[38;5;241m.\u001b[39mget(promise_1st_round)\n\u001b[1;32m    458\u001b[0m results_1st_round \u001b[38;5;241m=\u001b[39m \u001b[38;5;28mlist\u001b[39m(\u001b[38;5;28mfilter\u001b[39m(\u001b[38;5;28;01mNone\u001b[39;00m, results_1st_round))\n",
      "File \u001b[0;32m~/sampling-rashomon-decision-set-code/bds/ray_pbar.py:15\u001b[0m, in \u001b[0;36mRayProgressBar.show\u001b[0;34m(obj_ids)\u001b[0m\n\u001b[1;32m     12\u001b[0m \u001b[38;5;129m@staticmethod\u001b[39m\n\u001b[1;32m     13\u001b[0m \u001b[38;5;28;01mdef\u001b[39;00m \u001b[38;5;21mshow\u001b[39m(obj_ids):\n\u001b[1;32m     14\u001b[0m     seq \u001b[38;5;241m=\u001b[39m RayProgressBar\u001b[38;5;241m.\u001b[39mnum_jobs_done_iter(obj_ids)\n\u001b[0;32m---> 15\u001b[0m     \u001b[38;5;28;01mfor\u001b[39;00m x \u001b[38;5;129;01min\u001b[39;00m tqdm(seq, total\u001b[38;5;241m=\u001b[39m\u001b[38;5;28mlen\u001b[39m(obj_ids)):\n\u001b[1;32m     16\u001b[0m         \u001b[38;5;28;01mpass\u001b[39;00m\n",
      "File \u001b[0;32m~/anaconda3/envs/mynewenvnewest/lib/python3.9/site-packages/tqdm/std.py:1178\u001b[0m, in \u001b[0;36mtqdm.__iter__\u001b[0;34m(self)\u001b[0m\n\u001b[1;32m   1175\u001b[0m time \u001b[38;5;241m=\u001b[39m \u001b[38;5;28mself\u001b[39m\u001b[38;5;241m.\u001b[39m_time\n\u001b[1;32m   1177\u001b[0m \u001b[38;5;28;01mtry\u001b[39;00m:\n\u001b[0;32m-> 1178\u001b[0m     \u001b[38;5;28;01mfor\u001b[39;00m obj \u001b[38;5;129;01min\u001b[39;00m iterable:\n\u001b[1;32m   1179\u001b[0m         \u001b[38;5;28;01myield\u001b[39;00m obj\n\u001b[1;32m   1180\u001b[0m         \u001b[38;5;66;03m# Update and possibly print the progressbar.\u001b[39;00m\n\u001b[1;32m   1181\u001b[0m         \u001b[38;5;66;03m# Note: does not call self.update(1) for speed optimisation.\u001b[39;00m\n",
      "File \u001b[0;32m~/sampling-rashomon-decision-set-code/bds/ray_pbar.py:10\u001b[0m, in \u001b[0;36mRayProgressBar.num_jobs_done_iter\u001b[0;34m(obj_ids)\u001b[0m\n\u001b[1;32m      8\u001b[0m \u001b[38;5;28;01mwhile\u001b[39;00m obj_ids:\n\u001b[1;32m      9\u001b[0m     done, obj_ids \u001b[38;5;241m=\u001b[39m ray\u001b[38;5;241m.\u001b[39mwait(obj_ids)\n\u001b[0;32m---> 10\u001b[0m     \u001b[38;5;28;01myield\u001b[39;00m \u001b[43mray\u001b[49m\u001b[38;5;241;43m.\u001b[39;49m\u001b[43mget\u001b[49m\u001b[43m(\u001b[49m\u001b[43mdone\u001b[49m\u001b[43m[\u001b[49m\u001b[38;5;241;43m0\u001b[39;49m\u001b[43m]\u001b[49m\u001b[43m)\u001b[49m\n",
      "File \u001b[0;32m~/anaconda3/envs/mynewenvnewest/lib/python3.9/site-packages/ray/_private/auto_init_hook.py:18\u001b[0m, in \u001b[0;36mwrap_auto_init.<locals>.auto_init_wrapper\u001b[0;34m(*args, **kwargs)\u001b[0m\n\u001b[1;32m     15\u001b[0m \u001b[38;5;129m@wraps\u001b[39m(fn)\n\u001b[1;32m     16\u001b[0m \u001b[38;5;28;01mdef\u001b[39;00m \u001b[38;5;21mauto_init_wrapper\u001b[39m(\u001b[38;5;241m*\u001b[39margs, \u001b[38;5;241m*\u001b[39m\u001b[38;5;241m*\u001b[39mkwargs):\n\u001b[1;32m     17\u001b[0m     auto_init_ray()\n\u001b[0;32m---> 18\u001b[0m     \u001b[38;5;28;01mreturn\u001b[39;00m \u001b[43mfn\u001b[49m\u001b[43m(\u001b[49m\u001b[38;5;241;43m*\u001b[39;49m\u001b[43margs\u001b[49m\u001b[43m,\u001b[49m\u001b[43m \u001b[49m\u001b[38;5;241;43m*\u001b[39;49m\u001b[38;5;241;43m*\u001b[39;49m\u001b[43mkwargs\u001b[49m\u001b[43m)\u001b[49m\n",
      "File \u001b[0;32m~/anaconda3/envs/mynewenvnewest/lib/python3.9/site-packages/ray/_private/client_mode_hook.py:103\u001b[0m, in \u001b[0;36mclient_mode_hook.<locals>.wrapper\u001b[0;34m(*args, **kwargs)\u001b[0m\n\u001b[1;32m    101\u001b[0m     \u001b[38;5;28;01mif\u001b[39;00m func\u001b[38;5;241m.\u001b[39m\u001b[38;5;18m__name__\u001b[39m \u001b[38;5;241m!=\u001b[39m \u001b[38;5;124m\"\u001b[39m\u001b[38;5;124minit\u001b[39m\u001b[38;5;124m\"\u001b[39m \u001b[38;5;129;01mor\u001b[39;00m is_client_mode_enabled_by_default:\n\u001b[1;32m    102\u001b[0m         \u001b[38;5;28;01mreturn\u001b[39;00m \u001b[38;5;28mgetattr\u001b[39m(ray, func\u001b[38;5;241m.\u001b[39m\u001b[38;5;18m__name__\u001b[39m)(\u001b[38;5;241m*\u001b[39margs, \u001b[38;5;241m*\u001b[39m\u001b[38;5;241m*\u001b[39mkwargs)\n\u001b[0;32m--> 103\u001b[0m \u001b[38;5;28;01mreturn\u001b[39;00m \u001b[43mfunc\u001b[49m\u001b[43m(\u001b[49m\u001b[38;5;241;43m*\u001b[39;49m\u001b[43margs\u001b[49m\u001b[43m,\u001b[49m\u001b[43m \u001b[49m\u001b[38;5;241;43m*\u001b[39;49m\u001b[38;5;241;43m*\u001b[39;49m\u001b[43mkwargs\u001b[49m\u001b[43m)\u001b[49m\n",
      "File \u001b[0;32m~/anaconda3/envs/mynewenvnewest/lib/python3.9/site-packages/ray/_private/worker.py:2542\u001b[0m, in \u001b[0;36mget\u001b[0;34m(object_refs, timeout)\u001b[0m\n\u001b[1;32m   2540\u001b[0m             \u001b[38;5;28;01mraise\u001b[39;00m value\u001b[38;5;241m.\u001b[39mas_instanceof_cause()\n\u001b[1;32m   2541\u001b[0m         \u001b[38;5;28;01melse\u001b[39;00m:\n\u001b[0;32m-> 2542\u001b[0m             \u001b[38;5;28;01mraise\u001b[39;00m value\n\u001b[1;32m   2544\u001b[0m \u001b[38;5;28;01mif\u001b[39;00m is_individual_id:\n\u001b[1;32m   2545\u001b[0m     values \u001b[38;5;241m=\u001b[39m values[\u001b[38;5;241m0\u001b[39m]\n",
      "\u001b[0;31mOutOfMemoryError\u001b[0m: Task was killed due to the node running low on memory.\nMemory on the node (IP: 192.168.0.103, ID: 38bc205c356c3acba8e94637f15569795aceec977ed48ec6b4f44555) where the task (task ID: 7299104621e99824e642104d65b6e40581c0534801000000, name=approx_mc2_core_wrapper, pid=531589, memory used=4.52GB) was running was 14.68GB / 15.43GB (0.951097), which exceeds the memory usage threshold of 0.95. Ray killed this worker (ID: 43c6a704808b9f473b2aea886a3ee8db12bfd6642378a9443087a307) because it was the most recently scheduled task; to see more information about memory usage on this node, use `ray logs raylet.out -ip 192.168.0.103`. To see the logs of the worker, use `ray logs worker-43c6a704808b9f473b2aea886a3ee8db12bfd6642378a9443087a307*out -ip 192.168.0.103. Top 10 memory users:\nPID\tMEM(GB)\tCOMMAND\n531589\t4.52\tray::approx_mc2_core_wrapper\n77440\t1.45\t/usr/lib/libreoffice/program/soffice.bin --impress file:///u/50/ciaperm1/unix/Documents/thesisDef_v2...\n4253\t0.73\t/u/50/ciaperm1/unix/anaconda3/envs/mynewenvnewest/bin/python /u/50/ciaperm1/unix/anaconda3/envs/myne...\n3636\t0.61\t/usr/bin/gnome-software --gapplication-service\n48783\t0.47\t/opt/google/chrome/chrome --type=renderer --field-trial-handle=3761225392334852051,77675432944395349...\n51334\t0.43\t/usr/bin/nautilus --gapplication-service\n115185\t0.31\t/u/50/ciaperm1/unix/anaconda3/bin/python -m pyls --host 127.0.0.1 --port 2088 --tcp --check-parent-p...\n115119\t0.30\t/u/50/ciaperm1/unix/anaconda3/bin/python /u/50/ciaperm1/unix/anaconda3/bin/spyder --new\n2583\t0.24\t/usr/bin/gnome-shell\n531400\t0.24\t/u/50/ciaperm1/unix/anaconda3/envs/mynewenvnewest/bin/python -m ipykernel_launcher -f /u/50/ciaperm1...\nRefer to the documentation on how to address the out of memory issue: https://docs.ray.io/en/latest/ray-core/scheduling/ray-oom-prevention.html. Consider provisioning more memory on this node or reducing task parallelism by requesting more CPUs per task. To adjust the kill threshold, set the environment variable `RAY_memory_usage_threshold` when starting Ray. To disable worker killing, set the environment variable `RAY_memory_monitor_refresh_ms` to zero."
     ]
    },
    {
     "name": "stdout",
     "output_type": "stream",
     "text": [
      "\u001b[2m\u001b[36m(approx_mc2_core_wrapper pid=532799)\u001b[0m rand_seed: 2137449171\n"
     ]
    },
    {
     "name": "stderr",
     "output_type": "stream",
     "text": [
      "\u001b[2m\u001b[33m(raylet)\u001b[0m [2023-07-02 23:47:51,875 E 531537 531537] (raylet) node_manager.cc:3069: 7 Workers (tasks / actors) killed due to memory pressure (OOM), 0 Workers crashed due to other reasons at node (ID: 38bc205c356c3acba8e94637f15569795aceec977ed48ec6b4f44555, IP: 192.168.0.103) over the last time period. To see more information about the Workers killed on this node, use `ray logs raylet.out -ip 192.168.0.103`\n",
      "\u001b[2m\u001b[33m(raylet)\u001b[0m \n",
      "\u001b[2m\u001b[33m(raylet)\u001b[0m Refer to the documentation on how to address the out of memory issue: https://docs.ray.io/en/latest/ray-core/scheduling/ray-oom-prevention.html. Consider provisioning more memory on this node or reducing task parallelism by requesting more CPUs per task. To adjust the kill threshold, set the environment variable `RAY_memory_usage_threshold` when starting Ray. To disable worker killing, set the environment variable `RAY_memory_monitor_refresh_ms` to zero.\n"
     ]
    },
    {
     "name": "stdout",
     "output_type": "stream",
     "text": [
      "\u001b[2m\u001b[36m(approx_mc2_core_wrapper pid=532798)\u001b[0m rand_seed: 524453158\n"
     ]
    }
   ],
   "source": [
    "test_cnt = approx_mc2(\n",
    "                rules, y, lmbd=lmbd, ub=ub,\n",
    "                delta=delta, eps=eps, rand_seed=rand_seed, show_progress=show_progres,\n",
    "                parallel=True, log_level=logging.WARN\n",
    "            )"
   ]
  },
  {
   "cell_type": "code",
   "execution_count": 25,
   "id": "512d7218",
   "metadata": {},
   "outputs": [
    {
     "name": "stdout",
     "output_type": "stream",
     "text": [
      "\u001b[2m\u001b[36m(approx_mc2_core_wrapper pid=532918)\u001b[0m rand_seed: 1365105717\n"
     ]
    },
    {
     "ename": "KeyboardInterrupt",
     "evalue": "",
     "output_type": "error",
     "traceback": [
      "\u001b[0;31m---------------------------------------------------------------------------\u001b[0m",
      "\u001b[0;31mKeyboardInterrupt\u001b[0m                         Traceback (most recent call last)",
      "Cell \u001b[0;32mIn[25], line 1\u001b[0m\n\u001b[0;32m----> 1\u001b[0m ref_count \u001b[38;5;241m=\u001b[39m \u001b[43mget_ground_truth_count\u001b[49m\u001b[43m(\u001b[49m\u001b[43mrules\u001b[49m\u001b[43m,\u001b[49m\u001b[43m \u001b[49m\u001b[43my\u001b[49m\u001b[43m,\u001b[49m\u001b[43m \u001b[49m\u001b[43mlmbd\u001b[49m\u001b[43m,\u001b[49m\u001b[43m \u001b[49m\u001b[43mub\u001b[49m\u001b[43m)\u001b[49m\n",
      "File \u001b[0;32m~/sampling-rashomon-decision-set-code/bds/bb.py:235\u001b[0m, in \u001b[0;36mget_ground_truth_count\u001b[0;34m(rules, y, lmbd, ub, return_sols)\u001b[0m\n\u001b[1;32m    233\u001b[0m \u001b[38;5;124;03m\"\"\"solve the complete enumeration problem and return the number of feasible solutions, and optionally the solutions themselves\"\"\"\u001b[39;00m\n\u001b[1;32m    234\u001b[0m bb \u001b[38;5;241m=\u001b[39m BranchAndBoundNaive(rules, ub, y, lmbd)\n\u001b[0;32m--> 235\u001b[0m sols \u001b[38;5;241m=\u001b[39m \u001b[38;5;28;43mlist\u001b[39;49m\u001b[43m(\u001b[49m\u001b[43mbb\u001b[49m\u001b[38;5;241;43m.\u001b[39;49m\u001b[43mrun\u001b[49m\u001b[43m(\u001b[49m\u001b[43m)\u001b[49m\u001b[43m)\u001b[49m\n\u001b[1;32m    236\u001b[0m \u001b[38;5;28;01mif\u001b[39;00m return_sols:\n\u001b[1;32m    237\u001b[0m     \u001b[38;5;28;01mreturn\u001b[39;00m \u001b[38;5;28mlen\u001b[39m(sols), sols\n",
      "File \u001b[0;32m~/sampling-rashomon-decision-set-code/bds/bb.py:98\u001b[0m, in \u001b[0;36mBranchAndBoundGeneric.run\u001b[0;34m(self, return_objective, **kwargs)\u001b[0m\n\u001b[1;32m     96\u001b[0m \u001b[38;5;28;01mdef\u001b[39;00m \u001b[38;5;21mrun\u001b[39m(\u001b[38;5;28mself\u001b[39m, return_objective\u001b[38;5;241m=\u001b[39m\u001b[38;5;28;01mFalse\u001b[39;00m, \u001b[38;5;241m*\u001b[39m\u001b[38;5;241m*\u001b[39mkwargs) \u001b[38;5;241m-\u001b[39m\u001b[38;5;241m>\u001b[39m Iterable:\n\u001b[1;32m     97\u001b[0m     \u001b[38;5;28mself\u001b[39m\u001b[38;5;241m.\u001b[39mreset(\u001b[38;5;241m*\u001b[39m\u001b[38;5;241m*\u001b[39mkwargs)\n\u001b[0;32m---> 98\u001b[0m     \u001b[38;5;28;01myield from\u001b[39;00m \u001b[38;5;28mself\u001b[39m\u001b[38;5;241m.\u001b[39mgenerate(return_objective\u001b[38;5;241m=\u001b[39mreturn_objective)\n",
      "File \u001b[0;32m~/sampling-rashomon-decision-set-code/bds/bb.py:93\u001b[0m, in \u001b[0;36mBranchAndBoundGeneric.generate\u001b[0;34m(self, return_objective)\u001b[0m\n\u001b[1;32m     91\u001b[0m \u001b[38;5;28;01mwhile\u001b[39;00m \u001b[38;5;129;01mnot\u001b[39;00m \u001b[38;5;28mself\u001b[39m\u001b[38;5;241m.\u001b[39mqueue\u001b[38;5;241m.\u001b[39mis_empty:\n\u001b[1;32m     92\u001b[0m     queue_item \u001b[38;5;241m=\u001b[39m \u001b[38;5;28mself\u001b[39m\u001b[38;5;241m.\u001b[39mqueue\u001b[38;5;241m.\u001b[39mpop()\n\u001b[0;32m---> 93\u001b[0m     \u001b[38;5;28;01myield from\u001b[39;00m \u001b[38;5;28mself\u001b[39m\u001b[38;5;241m.\u001b[39m_loop(\u001b[38;5;241m*\u001b[39mqueue_item, return_objective\u001b[38;5;241m=\u001b[39mreturn_objective)\n",
      "File \u001b[0;32m~/sampling-rashomon-decision-set-code/bds/bb.py:207\u001b[0m, in \u001b[0;36mBranchAndBoundNaive._loop\u001b[0;34m(self, parent_node, parent_not_captured, return_objective)\u001b[0m\n\u001b[1;32m    202\u001b[0m fn_fraction, not_captured \u001b[38;5;241m=\u001b[39m \u001b[38;5;28mself\u001b[39m\u001b[38;5;241m.\u001b[39m_incremental_update_obj(\n\u001b[1;32m    203\u001b[0m     parent_not_captured, captured\n\u001b[1;32m    204\u001b[0m )\n\u001b[1;32m    205\u001b[0m obj \u001b[38;5;241m=\u001b[39m lb \u001b[38;5;241m+\u001b[39m fn_fraction\n\u001b[0;32m--> 207\u001b[0m child_node \u001b[38;5;241m=\u001b[39m \u001b[38;5;28;43mself\u001b[39;49m\u001b[38;5;241;43m.\u001b[39;49m\u001b[43m_create_new_node_and_add_to_tree\u001b[49m\u001b[43m(\u001b[49m\n\u001b[1;32m    208\u001b[0m \u001b[43m    \u001b[49m\u001b[43mrule\u001b[49m\u001b[43m,\u001b[49m\u001b[43m \u001b[49m\u001b[43mlb\u001b[49m\u001b[43m,\u001b[49m\u001b[43m \u001b[49m\u001b[43mobj\u001b[49m\u001b[43m,\u001b[49m\u001b[43m \u001b[49m\u001b[43mcaptured\u001b[49m\u001b[43m,\u001b[49m\u001b[43m \u001b[49m\u001b[43mparent_node\u001b[49m\n\u001b[1;32m    209\u001b[0m \u001b[43m\u001b[49m\u001b[43m)\u001b[49m\n\u001b[1;32m    210\u001b[0m \u001b[38;5;66;03m# apply look-ahead bound\u001b[39;00m\n\u001b[1;32m    211\u001b[0m lookahead_lb \u001b[38;5;241m=\u001b[39m child_node\u001b[38;5;241m.\u001b[39mlower_bound \u001b[38;5;241m+\u001b[39m \u001b[38;5;28mself\u001b[39m\u001b[38;5;241m.\u001b[39mlmbd\n",
      "File \u001b[0;32m~/sampling-rashomon-decision-set-code/bds/bb.py:163\u001b[0m, in \u001b[0;36mBranchAndBoundNaive._create_new_node_and_add_to_tree\u001b[0;34m(self, rule, lb, obj, captured, parent_node)\u001b[0m\n\u001b[1;32m    155\u001b[0m \u001b[38;5;28;01mif\u001b[39;00m rule\u001b[38;5;241m.\u001b[39mid \u001b[38;5;129;01mnot\u001b[39;00m \u001b[38;5;129;01min\u001b[39;00m parent_node\u001b[38;5;241m.\u001b[39mchildren:\n\u001b[1;32m    156\u001b[0m     child_node \u001b[38;5;241m=\u001b[39m Node(\n\u001b[1;32m    157\u001b[0m         rule_id\u001b[38;5;241m=\u001b[39mrule\u001b[38;5;241m.\u001b[39mid,\n\u001b[1;32m    158\u001b[0m         lower_bound\u001b[38;5;241m=\u001b[39mlb,\n\u001b[0;32m   (...)\u001b[0m\n\u001b[1;32m    161\u001b[0m         pivot_rule_ids\u001b[38;5;241m=\u001b[39m[]\n\u001b[1;32m    162\u001b[0m     )\n\u001b[0;32m--> 163\u001b[0m     \u001b[38;5;28;43mself\u001b[39;49m\u001b[38;5;241;43m.\u001b[39;49m\u001b[43mtree\u001b[49m\u001b[38;5;241;43m.\u001b[39;49m\u001b[43madd_node\u001b[49m\u001b[43m(\u001b[49m\u001b[43mchild_node\u001b[49m\u001b[43m,\u001b[49m\u001b[43m \u001b[49m\u001b[43mparent_node\u001b[49m\u001b[43m)\u001b[49m\n\u001b[1;32m    164\u001b[0m     \u001b[38;5;28;01mreturn\u001b[39;00m child_node\n\u001b[1;32m    165\u001b[0m \u001b[38;5;28;01melse\u001b[39;00m:\n",
      "File \u001b[0;32m~/sampling-rashomon-decision-set-code/bds/cache_tree.py:174\u001b[0m, in \u001b[0;36mCacheTree.add_node\u001b[0;34m(self, node, parent)\u001b[0m\n\u001b[1;32m    172\u001b[0m \u001b[38;5;124;03m\"\"\"add node as a child (to parent if it is given)\"\"\"\u001b[39;00m\n\u001b[1;32m    173\u001b[0m \u001b[38;5;28;01mif\u001b[39;00m parent \u001b[38;5;129;01mis\u001b[39;00m \u001b[38;5;129;01mnot\u001b[39;00m \u001b[38;5;28;01mNone\u001b[39;00m:\n\u001b[0;32m--> 174\u001b[0m     \u001b[43mparent\u001b[49m\u001b[38;5;241;43m.\u001b[39;49m\u001b[43madd_child\u001b[49m\u001b[43m(\u001b[49m\u001b[43mnode\u001b[49m\u001b[43m)\u001b[49m\n\u001b[1;32m    175\u001b[0m \u001b[38;5;28;01melse\u001b[39;00m:\n\u001b[1;32m    176\u001b[0m     \u001b[38;5;28mself\u001b[39m\u001b[38;5;241m.\u001b[39m_set_root(node)\n",
      "File \u001b[0;32m~/sampling-rashomon-decision-set-code/bds/cache_tree.py:71\u001b[0m, in \u001b[0;36mNode.add_child\u001b[0;34m(self, child)\u001b[0m\n\u001b[1;32m     70\u001b[0m \u001b[38;5;28;01mdef\u001b[39;00m \u001b[38;5;21madd_child\u001b[39m(\u001b[38;5;28mself\u001b[39m, child: \u001b[38;5;124m\"\u001b[39m\u001b[38;5;124mNode\u001b[39m\u001b[38;5;124m\"\u001b[39m):\n\u001b[0;32m---> 71\u001b[0m     \u001b[38;5;28;01mif\u001b[39;00m \u001b[43mchild\u001b[49m\u001b[43m \u001b[49m\u001b[38;5;241;43m==\u001b[39;49m\u001b[43m \u001b[49m\u001b[38;5;28;43mself\u001b[39;49m:\n\u001b[1;32m     72\u001b[0m         \u001b[38;5;28;01mraise\u001b[39;00m \u001b[38;5;167;01mValueError\u001b[39;00m(\u001b[38;5;124m'\u001b[39m\u001b[38;5;124mcannot add \u001b[39m\u001b[38;5;124m\"\u001b[39m\u001b[38;5;124mself\u001b[39m\u001b[38;5;124m\"\u001b[39m\u001b[38;5;124m as a child of itself\u001b[39m\u001b[38;5;124m'\u001b[39m)\n\u001b[1;32m     74\u001b[0m     \u001b[38;5;28;01mif\u001b[39;00m child\u001b[38;5;241m.\u001b[39mrule_id \u001b[38;5;129;01min\u001b[39;00m \u001b[38;5;28mself\u001b[39m\u001b[38;5;241m.\u001b[39mchildren:\n",
      "File \u001b[0;32m~/sampling-rashomon-decision-set-code/bds/cache_tree.py:117\u001b[0m, in \u001b[0;36mNode.__eq__\u001b[0;34m(self, other)\u001b[0m\n\u001b[1;32m    114\u001b[0m \u001b[38;5;28;01mif\u001b[39;00m \u001b[38;5;28mtype\u001b[39m(other) \u001b[38;5;241m!=\u001b[39m \u001b[38;5;28mtype\u001b[39m(\u001b[38;5;28mself\u001b[39m):\n\u001b[1;32m    115\u001b[0m     \u001b[38;5;28;01mreturn\u001b[39;00m \u001b[38;5;28;01mFalse\u001b[39;00m\n\u001b[0;32m--> 117\u001b[0m attributes_to_compare_directly \u001b[38;5;241m=\u001b[39m [\n\u001b[1;32m    118\u001b[0m     \u001b[38;5;124m\"\u001b[39m\u001b[38;5;124mrule_id\u001b[39m\u001b[38;5;124m\"\u001b[39m,\n\u001b[1;32m    119\u001b[0m     \u001b[38;5;124m\"\u001b[39m\u001b[38;5;124mlower_bound\u001b[39m\u001b[38;5;124m\"\u001b[39m,\n\u001b[1;32m    120\u001b[0m     \u001b[38;5;124m\"\u001b[39m\u001b[38;5;124mobjective\u001b[39m\u001b[38;5;124m\"\u001b[39m,\n\u001b[1;32m    121\u001b[0m     \u001b[38;5;124m\"\u001b[39m\u001b[38;5;124mdepth\u001b[39m\u001b[38;5;124m\"\u001b[39m,\n\u001b[1;32m    122\u001b[0m     \u001b[38;5;124m\"\u001b[39m\u001b[38;5;124mnum_captured\u001b[39m\u001b[38;5;124m\"\u001b[39m,\n\u001b[1;32m    123\u001b[0m     \u001b[38;5;124m\"\u001b[39m\u001b[38;5;124mequivalent_minority\u001b[39m\u001b[38;5;124m\"\u001b[39m,\n\u001b[1;32m    124\u001b[0m ]\n\u001b[1;32m    125\u001b[0m \u001b[38;5;28;01mfor\u001b[39;00m attr_name \u001b[38;5;129;01min\u001b[39;00m attributes_to_compare_directly:\n\u001b[1;32m    126\u001b[0m     \u001b[38;5;28;01mif\u001b[39;00m \u001b[38;5;28mgetattr\u001b[39m(\u001b[38;5;28mself\u001b[39m, attr_name) \u001b[38;5;241m!=\u001b[39m \u001b[38;5;28mgetattr\u001b[39m(other, attr_name):\n",
      "\u001b[0;31mKeyboardInterrupt\u001b[0m: "
     ]
    }
   ],
   "source": [
    "ref_count = get_ground_truth_count(rules, y, lmbd, ub)"
   ]
  },
  {
   "cell_type": "code",
   "execution_count": null,
   "id": "592aa235",
   "metadata": {},
   "outputs": [],
   "source": []
  },
  {
   "cell_type": "code",
   "execution_count": null,
   "id": "4fce597c",
   "metadata": {},
   "outputs": [],
   "source": []
  },
  {
   "cell_type": "code",
   "execution_count": null,
   "id": "038ee5e8",
   "metadata": {},
   "outputs": [],
   "source": [
    "len(rules)"
   ]
  },
  {
   "cell_type": "code",
   "execution_count": null,
   "id": "66de055a",
   "metadata": {},
   "outputs": [],
   "source": [
    "bb.reset_tree()"
   ]
  },
  {
   "cell_type": "code",
   "execution_count": null,
   "id": "f380c8ae",
   "metadata": {},
   "outputs": [],
   "source": [
    "bb.tree.root"
   ]
  },
  {
   "cell_type": "code",
   "execution_count": null,
   "id": "717032cf",
   "metadata": {},
   "outputs": [],
   "source": [
    "pseudosolutions = [bb.tree.root] # empty -- "
   ]
  },
  {
   "cell_type": "code",
   "execution_count": null,
   "id": "74f50a4f",
   "metadata": {},
   "outputs": [],
   "source": [
    "sampled_items = random.sample(pseudosolutions, 1)"
   ]
  },
  {
   "cell_type": "code",
   "execution_count": null,
   "id": "23eb4819",
   "metadata": {},
   "outputs": [],
   "source": [
    "sampled_items"
   ]
  },
  {
   "cell_type": "code",
   "execution_count": null,
   "id": "8dfb3075",
   "metadata": {},
   "outputs": [],
   "source": [
    "not_captured_root = bb._not_captured_by_default_rule()\n",
    "\n"
   ]
  },
  {
   "cell_type": "code",
   "execution_count": null,
   "id": "6f127617",
   "metadata": {},
   "outputs": [],
   "source": [
    "pseudosolutions = [(bb.tree._root, not_captured_root)] # empty -\n",
    "pseudosolutions     "
   ]
  },
  {
   "cell_type": "code",
   "execution_count": null,
   "id": "9b660ed3",
   "metadata": {},
   "outputs": [],
   "source": [
    "out = list(bb._loop( *pseudosolutions[0] , 1 , return_objective=False))"
   ]
  },
  {
   "cell_type": "code",
   "execution_count": null,
   "id": "4e5ab563",
   "metadata": {},
   "outputs": [],
   "source": [
    "set(out)"
   ]
  },
  {
   "cell_type": "code",
   "execution_count": null,
   "id": "b11811d1",
   "metadata": {},
   "outputs": [],
   "source": [
    "input_set = {'0', '4-57'}\n",
    "\n",
    "output_list = [int(part) for item in input_set for part in item.split('-')]\n",
    "print(output_list)"
   ]
  },
  {
   "cell_type": "code",
   "execution_count": null,
   "id": "617bcb05",
   "metadata": {},
   "outputs": [],
   "source": []
  },
  {
   "cell_type": "code",
   "execution_count": null,
   "id": "c50f47be",
   "metadata": {},
   "outputs": [],
   "source": [
    "import gmpy2 as gmp"
   ]
  },
  {
   "cell_type": "code",
   "execution_count": null,
   "id": "ae4f09e7",
   "metadata": {},
   "outputs": [],
   "source": [
    "a1 = np.array([0,0,1,1,0,1]) \n",
    "a2 = np.array([0,1,0,1,0,1]) \n",
    "def mpz_set_bits(n: mpz, bits: np.ndarray) -> mpz:\n",
    "    \"\"\"return a copy of n and set `bits` to 1 in `n`\"\"\"\n",
    "    for i in bits:\n",
    "        n = gmp.bit_set(n, int(i))\n",
    "    return n\n"
   ]
  },
  {
   "cell_type": "code",
   "execution_count": null,
   "id": "063f6ee6",
   "metadata": {},
   "outputs": [],
   "source": [
    "a1_mpz = mpz_set_bits( mpz(), a1.nonzero()[0])\n",
    "a2_mpz = mpz_set_bits( mpz(), a2.nonzero()[0])"
   ]
  },
  {
   "cell_type": "code",
   "execution_count": null,
   "id": "3a239d42",
   "metadata": {},
   "outputs": [],
   "source": [
    "a3_mpz = mpz_set_bits( mpz(), a3.nonzero()[0]) "
   ]
  },
  {
   "cell_type": "code",
   "execution_count": null,
   "id": "90c62c19",
   "metadata": {},
   "outputs": [],
   "source": [
    "a3_mpz"
   ]
  },
  {
   "cell_type": "code",
   "execution_count": null,
   "id": "3a2ad64a",
   "metadata": {},
   "outputs": [],
   "source": []
  },
  {
   "cell_type": "code",
   "execution_count": null,
   "id": "023f4dca",
   "metadata": {},
   "outputs": [],
   "source": []
  },
  {
   "cell_type": "code",
   "execution_count": null,
   "id": "09818770",
   "metadata": {},
   "outputs": [],
   "source": [
    "logicalAnda = a1_mpz | a2_mpz"
   ]
  },
  {
   "cell_type": "code",
   "execution_count": null,
   "id": "cd99a8a1",
   "metadata": {},
   "outputs": [],
   "source": [
    "logicalAnda"
   ]
  },
  {
   "cell_type": "code",
   "execution_count": null,
   "id": "ea71c9ce",
   "metadata": {},
   "outputs": [],
   "source": [
    "def mpz2bag(n: mpz):\n",
    "    \"\"\"given a mpz() this function returns the indices of non-zero entries\"\"\"\n",
    "    i = 0\n",
    "    bag = set()\n",
    "    thisBit = gmp.bit_scan1(n, i)\n",
    "    while thisBit is not None:\n",
    "        bag.add(thisBit)\n",
    "        i += 1\n",
    "        thisBit = gmp.bit_scan1(n, i)\n",
    "\n",
    "    return bag\n",
    "\n",
    "mpz2bag(a1_mpz)"
   ]
  },
  {
   "cell_type": "code",
   "execution_count": null,
   "id": "86f65efe",
   "metadata": {},
   "outputs": [],
   "source": [
    "a1, a2"
   ]
  },
  {
   "cell_type": "code",
   "execution_count": null,
   "id": "3e49afca",
   "metadata": {},
   "outputs": [],
   "source": [
    "mpz2bag(logicalAnda)"
   ]
  },
  {
   "cell_type": "code",
   "execution_count": null,
   "id": "6ab883d9",
   "metadata": {},
   "outputs": [],
   "source": [
    "def compute_union(vectors):\n",
    "    result = vectors[0]  # Initialize result with the first vector\n",
    "    for vector in vectors[1:]:\n",
    "        result = result | vector   # Perform bitwise OR operation\n",
    "    return result\n",
    "\n",
    "a3 = np.array([1,0,0,0,0,1])"
   ]
  },
  {
   "cell_type": "code",
   "execution_count": null,
   "id": "c2454680",
   "metadata": {},
   "outputs": [],
   "source": [
    "out = compute_union([a1, a2, a3]) \n",
    "out"
   ]
  },
  {
   "cell_type": "code",
   "execution_count": null,
   "id": "6700ddd8",
   "metadata": {},
   "outputs": [],
   "source": [
    "out = compute_union([a1_mpz, a2_mpz, a3_mpz]) \n",
    "out"
   ]
  },
  {
   "cell_type": "code",
   "execution_count": null,
   "id": "b79dc3b6",
   "metadata": {},
   "outputs": [],
   "source": [
    "mpz2bag(out)"
   ]
  },
  {
   "cell_type": "code",
   "execution_count": null,
   "id": "8224a152",
   "metadata": {},
   "outputs": [],
   "source": [
    "ordered_input_data = preprocess_transaction_list(\n",
    "    X_bag, min_support\n",
    ")\n",
    "tree = build_fptree(ordered_input_data)\n",
    "\n",
    "all_times_naive = [] \n",
    "all_times = [] \n",
    "all_times_approx_mc2= []\n",
    "\n",
    "eps = 0.75\n",
    "delta = 0.75\n",
    "\n",
    "for min_support in [30, 40 , 50, 60]:  \n",
    "    \n",
    "    \n",
    "    #print(\"min support \" + str(min_support)) \n",
    "    #print(\"tree \" + str(tree))\n",
    "\n",
    "    frequent_itemsets = set(fpgrowth_on_tree(tree, set(), min_support))\n",
    "    # Now create rules \n",
    "    rules = [] \n",
    "    for i,itemset in enumerate(frequent_itemsets):\n",
    "        tt = compute_truthtable(X,itemset)\n",
    "        this_Rule = Rule(id = i+1, name = \"rule_\" + str(i), cardinality=len(itemset), truthtable=tt)\n",
    "        # we need the truthtable for this itemset \n",
    "        rules.append(this_Rule) \n",
    "    \n",
    "    print(len(rules))"
   ]
  },
  {
   "cell_type": "code",
   "execution_count": null,
   "id": "52540240",
   "metadata": {},
   "outputs": [],
   "source": []
  },
  {
   "cell_type": "code",
   "execution_count": null,
   "id": "a4f09df1",
   "metadata": {},
   "outputs": [],
   "source": []
  },
  {
   "cell_type": "code",
   "execution_count": null,
   "id": "375cdb61",
   "metadata": {
    "scrolled": false
   },
   "outputs": [],
   "source": [
    "ordered_input_data = preprocess_transaction_list(\n",
    "    X_bag, min_support\n",
    ")\n",
    "tree = build_fptree(ordered_input_data)\n",
    "\n",
    "all_times_naive = [] \n",
    "all_times = [] \n",
    "all_times_approx_mc2= []\n",
    "\n",
    "eps = 0.75\n",
    "delta = 0.75\n",
    "\n",
    "for min_support in [30, 40 , 50, 60]:  \n",
    "    \n",
    "    \n",
    "    #print(\"min support \" + str(min_support)) \n",
    "    #print(\"tree \" + str(tree))\n",
    "\n",
    "    frequent_itemsets = set(fpgrowth_on_tree(tree, set(), min_support))\n",
    "    # Now create rules \n",
    "    rules = [] \n",
    "    for i,itemset in enumerate(frequent_itemsets):\n",
    "        tt = compute_truthtable(X,itemset)\n",
    "        this_Rule = Rule(id = i+1, name = \"rule_\" + str(i), cardinality=len(itemset), truthtable=tt)\n",
    "        # we need the truthtable for this itemset \n",
    "        rules.append(this_Rule) \n",
    "    \n",
    "    #    \n",
    "    #\n",
    "    \n",
    "    print(len(rules))\n",
    "    \n",
    "    pickle.dump(rules, open(\"rules_compas_\" + str(len(rules)), \"wb\" ))\n",
    "\n",
    "    lmbd = 0.1\n",
    "    ub = 0.4 \n",
    "    cbb = ConstrainedBranchAndBoundNaive(rules, ub, y, lmbd)\n",
    "    cbb_v2 = ConstrainedBranchAndBound(rules, ub, y, lmbd)\n",
    "    \n",
    "    #\n",
    "    #\n",
    "    \n",
    "    rand_seed = 12\n",
    "    num_constraints = 5\n",
    "    num_rules = len(rules)\n",
    "    \n",
    "    from bds.random_hash import generate_h_and_alpha\n",
    "    A, t = generate_h_and_alpha(\n",
    "    num_rules, num_constraints, rand_seed, as_numpy=True\n",
    "    )\n",
    "    \n",
    "    start_time = time.time() \n",
    "    actual_sols = solutions_to_dict(\n",
    "    list(cbb_v2.run(return_objective=True, A=A, t=t)))\n",
    "    all_times.append(time.time() - start_time)\n",
    "    \n",
    "    \n",
    "    start_time = time.time() \n",
    "    actual_sols = solutions_to_dict(\n",
    "    list(cbb.run(return_objective=True, A=A, t=t)))\n",
    "    all_times_naive.append(time.time() - start_time)\n",
    "    \n",
    "    \n",
    "    thresh = 72\n",
    "    prev_m = 1\n",
    "    start_time = time.time() \n",
    "    est = approx_mc2( rules =  rules,\n",
    "    y=y,\n",
    "    lmbd = lmbd,\n",
    "    ub = ub,\n",
    "    delta =delta,\n",
    "    eps =  eps)\n",
    "    all_times_approx_mc2.append(time.time() - start_time)\n",
    "    \n"
   ]
  },
  {
   "cell_type": "code",
   "execution_count": null,
   "id": "8328480d",
   "metadata": {},
   "outputs": [],
   "source": []
  },
  {
   "cell_type": "code",
   "execution_count": null,
   "id": "8f6ecf7c",
   "metadata": {},
   "outputs": [],
   "source": []
  },
  {
   "cell_type": "code",
   "execution_count": null,
   "id": "5950dc1f",
   "metadata": {},
   "outputs": [],
   "source": [
    "all_times_naive"
   ]
  },
  {
   "cell_type": "code",
   "execution_count": null,
   "id": "53604f1f",
   "metadata": {},
   "outputs": [],
   "source": [
    "import matplotlib.pyplot as plt \n",
    "fig, ax = plt.subplots(1, 1, figsize=(6.38, 3.7))\n",
    "colors = ['#1f77b4', '#ff7f0e', '#2ca02c', '#d62728', '#9467bd', '#8c564b', '#e377c2', '#7f7f7f']\n",
    "\n",
    "all_n_rules = [98, 77 , 61, 46]\n",
    "\n",
    "plt.plot(all_n_rules, all_times_naive, label=\"CBB-Naive\", marker = \"o\", linewidth=1.5 , color = colors[0],  markersize = 12 , markeredgewidth=0.5, markeredgecolor= \"grey\"  , alpha = 0.7) \n",
    "plt.plot(all_n_rules, all_times, label=\"CBB\", marker = \"^\", linewidth=1.5 , color = colors[1],   markersize = 12 , markeredgewidth=0.5, markeredgecolor= \"grey\"  , alpha = 0.7) \n",
    "plt.plot(all_n_rules, all_times_approx_mc2, label=\"ApproxMC2\", marker = \"^\", linewidth=1.5 , color = colors[2],   markersize = 12 , markeredgewidth=0.5, markeredgecolor= \"grey\"  , alpha = 0.7) \n",
    "\n",
    "plt.title(\"CBB vs CBB-Naive\") \n",
    "plt.xlabel(\"# Rules\", fontsize = 18)\n",
    "plt.ylabel(\"Runtime (s)\", fontsize = 18)\n",
    "plt.legend()\n",
    "plt.grid()\n",
    "plt.tight_layout() \n",
    "plt.yscale(\"log\")\n",
    "plt.savefig(\"plots/comparison_naive_and_v2_compas_approx_mc_075\" + \".pdf\" )\n",
    "plt.show()"
   ]
  },
  {
   "cell_type": "code",
   "execution_count": null,
   "id": "c9fda11f",
   "metadata": {},
   "outputs": [],
   "source": []
  },
  {
   "cell_type": "code",
   "execution_count": null,
   "id": "5065eee9",
   "metadata": {},
   "outputs": [],
   "source": [
    "X.shape"
   ]
  },
  {
   "cell_type": "code",
   "execution_count": null,
   "id": "676d5de7",
   "metadata": {},
   "outputs": [],
   "source": []
  },
  {
   "cell_type": "code",
   "execution_count": null,
   "id": "4bcfee05",
   "metadata": {},
   "outputs": [],
   "source": []
  },
  {
   "cell_type": "code",
   "execution_count": null,
   "id": "4d45f6e4",
   "metadata": {},
   "outputs": [],
   "source": [
    "all_times_approx_mc2"
   ]
  },
  {
   "cell_type": "code",
   "execution_count": null,
   "id": "ba8450e6",
   "metadata": {},
   "outputs": [],
   "source": []
  },
  {
   "cell_type": "code",
   "execution_count": null,
   "id": "849a19da",
   "metadata": {},
   "outputs": [],
   "source": []
  },
  {
   "cell_type": "code",
   "execution_count": null,
   "id": "ebe4c07c",
   "metadata": {},
   "outputs": [],
   "source": [
    "all_n_rules = [187, 130, 98, 77, 61, 41]"
   ]
  },
  {
   "cell_type": "code",
   "execution_count": null,
   "id": "43113d1c",
   "metadata": {},
   "outputs": [],
   "source": [
    "all_times_naive"
   ]
  },
  {
   "cell_type": "code",
   "execution_count": null,
   "id": "88964493",
   "metadata": {},
   "outputs": [],
   "source": [
    "from bds.meel import approx_mc2"
   ]
  },
  {
   "cell_type": "code",
   "execution_count": null,
   "id": "41bf7747",
   "metadata": {},
   "outputs": [],
   "source": []
  },
  {
   "cell_type": "code",
   "execution_count": null,
   "id": "52dcd324",
   "metadata": {},
   "outputs": [],
   "source": [
    "import matplotlib.pyplot as plt \n",
    "fig, ax = plt.subplots(1, 1, figsize=(6.38, 3.7))\n",
    "colors = ['#1f77b4', '#ff7f0e', '#2ca02c', '#d62728', '#9467bd', '#8c564b', '#e377c2', '#7f7f7f']\n",
    "\n",
    "\n",
    "plt.plot(all_n_rules, all_times_naive, label=\"CBB-Naive\", marker = \"o\", linewidth=1.5 , color = colors[0],  markersize = 12 , markeredgewidth=0.5, markeredgecolor= \"grey\"  , alpha = 0.7) \n",
    "plt.plot(all_n_rules, all_times, label=\"CBB\", marker = \"^\", linewidth=1.5 , color = colors[1],   markersize = 12 , markeredgewidth=0.5, markeredgecolor= \"grey\"  , alpha = 0.7) \n",
    "plt.plot(all_n_rules, all_times_approx_mc2rox_mc2rox_mc2rox_mc2, label=\"ApproxMC2\", marker = \"^\", linewidth=1.5 , color = colors[2],   markersize = 12 , markeredgewidth=0.5, markeredgecolor= \"grey\"  , alpha = 0.7) \n",
    "\n",
    "\n",
    "plt.title(\"CBB vs CBB-Naive\") \n",
    "plt.xlabel(\"# Rules\", fontsize = 18)\n",
    "plt.ylabel(\"Runtime (s)\", fontsize = 18)\n",
    "plt.legend()\n",
    "plt.grid()\n",
    "plt.tight_layout() \n",
    "plt.yscale(\"log\")\n",
    "plt.savefig(\"plots/comparison_naive_and_v2_compas_approx_mc\" + \".pdf\" )\n",
    "plt.show()"
   ]
  },
  {
   "cell_type": "code",
   "execution_count": null,
   "id": "728a252c",
   "metadata": {},
   "outputs": [],
   "source": [
    "import matplotlib.pyplot as plt \n",
    "fig, ax = plt.subplots(1, 1, figsize=(6.38, 3.7))\n",
    "colors = ['#1f77b4', '#ff7f0e', '#2ca02c', '#d62728', '#9467bd', '#8c564b', '#e377c2', '#7f7f7f']\n",
    "\n",
    "\n",
    "plt.plot(all_n_rules, all_times_naive, label=\"CBB-Naive\", marker = \"o\", linewidth=1.5 , color = colors[0],  markersize = 12 , markeredgewidth=0.5, markeredgecolor= \"grey\"  , alpha = 0.5) \n",
    "plt.plot(all_n_rules, all_times, label=\"CBB\", marker = \"^\", linewidth=1.5 , color = colors[1],   markersize = 12 , markeredgewidth=0.5, markeredgecolor= \"grey\"  , alpha = 0.5) \n",
    "plt.title(\"CBB vs CBB-Naive\") \n",
    "plt.xlabel(\"# Rules\", fontsize = 18)\n",
    "plt.ylabel(\"Runtime (s)\", fontsize = 18)\n",
    "plt.legend()\n",
    "plt.grid()\n",
    "plt.tight_layout() \n",
    "plt.savefig(\"plots/comparison_naive_and_v2_compas\" + \".pdf\" )\n",
    "plt.show()"
   ]
  },
  {
   "cell_type": "code",
   "execution_count": null,
   "id": "d5d642fd",
   "metadata": {},
   "outputs": [],
   "source": []
  },
  {
   "cell_type": "code",
   "execution_count": null,
   "id": "af1006e3",
   "metadata": {},
   "outputs": [],
   "source": []
  },
  {
   "cell_type": "code",
   "execution_count": null,
   "id": "8adfbe3b",
   "metadata": {},
   "outputs": [],
   "source": []
  },
  {
   "cell_type": "code",
   "execution_count": null,
   "id": "34d9125e",
   "metadata": {},
   "outputs": [],
   "source": [
    "all_times_naive"
   ]
  },
  {
   "cell_type": "code",
   "execution_count": null,
   "id": "5c895e04",
   "metadata": {},
   "outputs": [],
   "source": []
  },
  {
   "cell_type": "code",
   "execution_count": null,
   "id": "231ae2e8",
   "metadata": {},
   "outputs": [],
   "source": []
  },
  {
   "cell_type": "code",
   "execution_count": null,
   "id": "1adaba1d",
   "metadata": {},
   "outputs": [],
   "source": [
    "num_rules = len(rules) "
   ]
  },
  {
   "cell_type": "code",
   "execution_count": null,
   "id": "d30b44d4",
   "metadata": {},
   "outputs": [],
   "source": [
    "num_constraints = 5"
   ]
  },
  {
   "cell_type": "code",
   "execution_count": null,
   "id": "42961366",
   "metadata": {},
   "outputs": [],
   "source": [
    "rand_seed = 12"
   ]
  },
  {
   "cell_type": "code",
   "execution_count": null,
   "id": "af0509bc",
   "metadata": {},
   "outputs": [],
   "source": [
    "rand_seed = 12\n",
    "num_constraints = 5\n",
    "num_rules = len(rules) \n",
    "from bds.random_hash import generate_h_and_alpha\n",
    "A, t = generate_h_and_alpha(\n",
    "num_rules, num_constraints, rand_seed, as_numpy=True\n",
    ")"
   ]
  },
  {
   "cell_type": "code",
   "execution_count": null,
   "id": "8bf02954",
   "metadata": {
    "scrolled": true
   },
   "outputs": [],
   "source": [
    "\n",
    "actual_sols = solutions_to_dict(\n",
    "list(cbb_v2.run(return_objective=True, A=A, t=t)))\n"
   ]
  },
  {
   "cell_type": "code",
   "execution_count": null,
   "id": "b2351cac",
   "metadata": {},
   "outputs": [],
   "source": [
    "actual_sols"
   ]
  },
  {
   "cell_type": "code",
   "execution_count": null,
   "id": "5127aeb4",
   "metadata": {},
   "outputs": [],
   "source": []
  },
  {
   "cell_type": "code",
   "execution_count": null,
   "id": "413d0228",
   "metadata": {},
   "outputs": [],
   "source": [
    "all_times_naive = [] \n",
    "all_times_V0 = [] \n",
    "all_times_V1 = [] \n",
    "all_times_V2 = [] \n",
    "#\n",
    "n_rep = 3 \n",
    "#\n",
    "lmbd = 0.1 \n",
    "ub = 0.4\n",
    "#\n",
    "for _  in range(n_rep): \n",
    "    #\n",
    "    start_time = time() \n",
    "    bbNaive = BranchAndBoundNaive(rules, ub=ub, y=y, lmbd=lmbd)\n",
    "    feasible_solutions = list(bbNaive.run(return_objective=True))\n",
    "    all_times_naive.append(time() - start_time) \n",
    "    actualNaive = solutions_to_dict(feasible_solutions)\n",
    "    #\n",
    "    print(\"HLB done\")\n",
    "    #\n",
    "    start_time = time() \n",
    "    bbV0 = BranchAndBoundV0(rules, ub=ub, y=y, lmbd=lmbd)\n",
    "    feasible_solutions = list(bbV0.run(return_objective=True))\n",
    "    all_times_V0.append(time() - start_time)\n",
    "    actual_V0 = solutions_to_dict(feasible_solutions)\n",
    "    #\n",
    "    assert_dict_allclose(actual_V0, actualNaive)\n",
    "    #\n",
    "    print(\"RSSB done\")\n",
    "    #\n",
    "    start_time = time() \n",
    "    bbV1 = BranchAndBoundV1(rules, ub=ub, y=y, lmbd=lmbd)\n",
    "    feasible_solutions = list(bbV1.run(return_objective=True))\n",
    "    all_times_V1.append(time() - start_time)\n",
    "    actual_V1 = solutions_to_dict(feasible_solutions)\n",
    "    #\n",
    "    assert_dict_allclose(actual_V0, actual_V1)\n",
    "    #\n",
    "    print(\"EPLB + RSSB done\")\n",
    "    #\n",
    "    start_time = time() \n",
    "    bbV2 = BranchAndBoundV2(rules, ub=ub, y=y, lmbd=lmbd)\n",
    "    feasible_solutions = list(bbV2.run(return_objective=True))\n",
    "    all_times_V2.append(time() - start_time)\n",
    "    actual_V2 = solutions_to_dict(feasible_solutions)\n",
    "    #\n",
    "    assert_dict_allclose(actual_V1, actual_V2)\n",
    "    #\n",
    "    print(\"HLB + RSSB done\")"
   ]
  },
  {
   "cell_type": "code",
   "execution_count": null,
   "id": "bfb96ede",
   "metadata": {},
   "outputs": [],
   "source": [
    "actual_V1"
   ]
  },
  {
   "cell_type": "code",
   "execution_count": null,
   "id": "3bf62d1c",
   "metadata": {},
   "outputs": [],
   "source": []
  },
  {
   "cell_type": "code",
   "execution_count": null,
   "id": "f051726d",
   "metadata": {},
   "outputs": [],
   "source": []
  },
  {
   "cell_type": "code",
   "execution_count": null,
   "id": "4aca756c",
   "metadata": {},
   "outputs": [],
   "source": [
    "import matplotlib.pyplot as plt "
   ]
  },
  {
   "cell_type": "code",
   "execution_count": null,
   "id": "04065044",
   "metadata": {},
   "outputs": [],
   "source": [
    "fig, ax = plt.subplots(1, 1, figsize=(6.38, 3.7))\n",
    "colors = ['#1f77b4', '#ff7f0e', '#2ca02c', '#d62728', '#9467bd', '#8c564b', '#e377c2', '#7f7f7f']\n",
    "\n",
    "\n",
    "x = [i for i in range(n_rep)]\n",
    "plt.plot(x, all_times_naive, label=\"HLB\", marker = \"o\", linewidth=1.5 , color = colors[0],  markersize = 12 , markeredgewidth=0.5, markeredgecolor= \"grey\"  , alpha = 0.5) \n",
    "plt.plot(x, all_times_V0, label=\"RSSB\", marker = \"^\", linewidth=1.5 , color = colors[1],   markersize = 12 , markeredgewidth=0.5, markeredgecolor= \"grey\"  , alpha = 0.5) \n",
    "plt.plot(x, all_times_V1, label=\"RSSB + EPLB\",  marker = \"s\", linewidth=1.5 ,  color = colors[2],   markersize = 12 , markeredgewidth=0.5, markeredgecolor= \"grey\"  , alpha = 0.5) \n",
    "plt.plot(x, all_times_V2, label=\"RSSB + HLB\",  marker = \"P\", linewidth=1.5 ,  color = colors[3],   markersize = 12 , markeredgewidth=0.5, markeredgecolor= \"grey\"  , alpha = 0.5) \n",
    "plt.title(\"RSSB VS HLB VS RSSB + EPLB VS RSSB + HLB\") \n",
    "plt.xlabel(\"Run\", fontsize = 18)\n",
    "plt.ylabel(\"Runtime\", fontsize = 18)\n",
    "plt.legend()\n",
    "plt.grid()\n",
    "plt.tight_layout() \n",
    "plt.savefig(\"plots/first_comparison_bounds_compas\" + \".pdf\" )\n",
    "plt.show()"
   ]
  },
  {
   "cell_type": "markdown",
   "id": "c9797b5d",
   "metadata": {},
   "source": [
    "When there are so few rule equivalent bounds seem to be useless. "
   ]
  },
  {
   "cell_type": "code",
   "execution_count": null,
   "id": "e849cf17",
   "metadata": {},
   "outputs": [],
   "source": [
    "for k in bbV1.equivalence_classes: \n",
    "    print(bbV1.equivalence_classes[k].data_points)\n"
   ]
  },
  {
   "cell_type": "code",
   "execution_count": null,
   "id": "4577668a",
   "metadata": {},
   "outputs": [],
   "source": []
  }
 ],
 "metadata": {
  "kernelspec": {
   "display_name": "Python 3 (ipykernel)",
   "language": "python",
   "name": "python3"
  },
  "language_info": {
   "codemirror_mode": {
    "name": "ipython",
    "version": 3
   },
   "file_extension": ".py",
   "mimetype": "text/x-python",
   "name": "python",
   "nbconvert_exporter": "python",
   "pygments_lexer": "ipython3",
   "version": "3.9.16"
  }
 },
 "nbformat": 4,
 "nbformat_minor": 5
}
