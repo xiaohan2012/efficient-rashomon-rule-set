{
 "cells": [
  {
   "cell_type": "code",
   "execution_count": 1,
   "metadata": {},
   "outputs": [],
   "source": [
    "from ortools.linear_solver import pywraplp"
   ]
  },
  {
   "cell_type": "code",
   "execution_count": 2,
   "metadata": {},
   "outputs": [],
   "source": [
    "def solve_integer_program(n, m, N, P, lambd, epsilon):\n",
    "    \n",
    "    # Create a solver\n",
    "    solver = pywraplp.Solver.CreateSolver('CBC')  # 'CBC' is the solver used by ortools for integer programming\n",
    "    #\n",
    "    if not solver:\n",
    "        return \"Solver not available.\"\n",
    "    #\n",
    "    # Variables\n",
    "    x = [solver.IntVar(0, 1, f'x{i}') for i in range(m)]  # Integer variables with lower bound 0 and upper bound 1\n",
    "    zFP = [solver.IntVar(0, 1, f'z{i}') for i in range(n)]  # Auxiliary variables z_i with lower bound 0 and upper bound 1\n",
    "    zFN = [solver.IntVar(0, 1, f'z{i}') for i in range(n)]\n",
    "    # zFN_pre = [solver.IntVar(0, 1, f'z{i}') for i in range(n)]\n",
    "    y = [solver.NumVar(0, 1, f'z{i}') for i in range(n)]\n",
    "    w = [solver.NumVar(0, 1, f'z{i}') for i in range(n)]\n",
    "    #\n",
    "    #\n",
    "    # Target function: 0^T x\n",
    "    target_function = solver.Sum(x[i] * 0 for i in range(m))\n",
    "    #\n",
    "    # add constraints \n",
    "    n_negative = len(N) #N.shape[0]\n",
    "    for i in range(n_negative):\n",
    "        # Calculate N[i,:] * x (inner product)\n",
    "        inner_product_N = solver.Sum(N[i][j] * x[j] for j in range(m))\n",
    "        #\n",
    "        # Add constraint: z_i = min(N[i,:] * x, 1)\n",
    "        solver.Add(inner_product_N <= y[i] + 1)\n",
    "        solver.Add(-inner_product_N <= y[i])\n",
    "        solver.Add(zFP[i] <= inner_product_N)\n",
    "        solver.Add(zFP[i] <= 1)\n",
    "        solver.Add(zFP[i] >= 1 - (1 - y[i]))\n",
    "        solver.Add(zFP[i] >= inner_product_N - y[i])\n",
    "        #\n",
    "        #solver.Add(zFP[i] == min([inner_product_N, 1]))\n",
    "        #\n",
    "    \n",
    "    n_positive =  len(P) #P.shape[0]\n",
    "    for i in range(n_positive): \n",
    "    \n",
    "        inner_product_P = solver.Sum(1 - P[i][j] * x[j] for j in range(m))\n",
    "        #\n",
    "        #solver.Add(zFN[i] == (1 - max([inner_product_P, 1])))\n",
    "        solver.Add(inner_product_P <= w[i] )\n",
    "        solver.Add(-inner_product_P <= (1-w[i]) )\n",
    "        solver.Add(zFN[i] >= inner_product_P)\n",
    "        solver.Add(zFN[i] >= 0)\n",
    "        solver.Add(zFN[i] <= (1 - w[i]))\n",
    "        solver.Add(zFN[i] <= inner_product_P + w[i])\n",
    "        #solver.Add(zFN[i] == (1 - zFN_pre[i]))\n",
    "        #\n",
    "        ##\n",
    "        #   \n",
    "        # Add constraint: sum(z_i) <= epsilon\n",
    "    solver.Add(solver.Sum(zFP[i]/n for i in range(n_negative)) + solver.Sum(zFN[i]/n for i in range(n_positive)) + lambd*solver.Sum(x[h] for h in range(m)) <= epsilon)\n",
    "    #   #\n",
    "    #   #\n",
    "    # Objective function (to be minimized): 0 - 0^T x\n",
    "    # solver.Minimize(target_function)\n",
    "    # Solve the problem\n",
    "    \n",
    "    print(\"here\") \n",
    "    \n",
    "   \n",
    "    \n",
    "    solutions = []\n",
    "    while solver.NextSolution():\n",
    "        \n",
    "        print(x[i].solution_value())\n",
    "        \n",
    "        solution = {}\n",
    "        for i in range(m):\n",
    "            solution[f'x{i}'] = x[i].solution_value()\n",
    "        #for i in range(n):\n",
    "        #    solution[f'z{i}'] = z[i].solution_value()\n",
    "        solutions.append(solution)\n",
    "\n",
    "        \n",
    "    return solutions\n",
    "    \n",
    "    #\n",
    "    # Solve the problem\n",
    "    #status = solver.Solve()\n",
    "    #\n",
    "    #\n",
    "    #\n",
    "    #if status == pywraplp.Solver.OPTIMAL:\n",
    "    #    # Print the results\n",
    "    #    print(\"Status: Optimal\")\n",
    "    ##    print(\"Optimal Solution:\")\n",
    "    #    for i in range(m):\n",
    "    #        print(f\"x{i} = {x[i].solution_value()}\")\n",
    "    #    for i in range(n):\n",
    "    #        print(f\"z{i} = {z[i].solution_value()}\")\n",
    "    #else:\n",
    "    #    print(\"The problem does not have an optimal solution.\")\n",
    "\n",
    "    \n"
   ]
  },
  {
   "cell_type": "code",
   "execution_count": 3,
   "metadata": {},
   "outputs": [],
   "source": [
    "import numpy as np\n",
    "from scipy.sparse import random\n",
    "\n",
    "def generate_random_sparse_binary_matrix(rows, cols, density):\n",
    "    # Generate a random binary matrix with the specified density (percentage of non-zero elements)\n",
    "    random_matrix = random(rows, cols, density=density, format=\"csr\", dtype=np.float64)\n",
    "    random_matrix.data = np.array(random_matrix.data >= 0.5, dtype=np.int64)  # Threshold to get binary values\n",
    "    return random_matrix"
   ]
  },
  {
   "cell_type": "code",
   "execution_count": 4,
   "metadata": {},
   "outputs": [],
   "source": [
    "# Generate two random binary sparse matrices\n",
    "rows = 5  # Number of rows in the matrix\n",
    "cols = 6  # Number of columns in the matrix\n",
    "density = 0.3  # Density of non-zero elements (percentage)\n",
    "\n",
    "matrix1 = generate_random_sparse_binary_matrix(rows, cols, density)\n",
    "matrix2 = generate_random_sparse_binary_matrix(rows, cols, density)\n",
    "\n",
    "N = generate_random_sparse_binary_matrix(rows, cols, density)\n",
    "P = generate_random_sparse_binary_matrix(rows, cols, density)\n",
    "\n",
    "# Convert the sparse matrices to nested lists for OR-Tools\n",
    "N = matrix1.toarray().tolist()\n",
    "P = matrix2.toarray().tolist()\n"
   ]
  },
  {
   "cell_type": "code",
   "execution_count": 5,
   "metadata": {},
   "outputs": [
    {
     "name": "stdout",
     "output_type": "stream",
     "text": [
      "here\n"
     ]
    }
   ],
   "source": [
    "solutions = solve_integer_program(rows, cols, N, P, 0.0, 1)"
   ]
  },
  {
   "cell_type": "code",
   "execution_count": null,
   "metadata": {},
   "outputs": [],
   "source": []
  },
  {
   "cell_type": "code",
   "execution_count": null,
   "metadata": {},
   "outputs": [],
   "source": [
    "import os \n",
    "os.getcwd()"
   ]
  },
  {
   "cell_type": "code",
   "execution_count": null,
   "metadata": {},
   "outputs": [],
   "source": [
    "import pandas as pd\n",
    "import pickle\n",
    "#from bds.fpgrowth import preprocess_transaction_list, build_fptree, fpgrowth_on_tree\n",
    "#from bds.bb import get_ground_truth_count\n",
    "#from bds.bbSampleTreeApproxCounting import BranchAndBoundNaive\n",
    "import time \n",
    "import random\n",
    "import numpy as np \n",
    "\n",
    "# Load the CSV file using Pandas\n",
    "data = pd.read_csv('../data/compas_test-binary.csv')\n",
    "\n",
    "# Print the data\n",
    "data.head()\n",
    "#\n",
    "X = data.to_numpy()\n",
    "#"
   ]
  },
  {
   "cell_type": "code",
   "execution_count": null,
   "metadata": {},
   "outputs": [],
   "source": [
    "# read labels \n",
    "f = open(\"../data/compas_test.label\", \"r\")\n",
    "labels = []\n",
    "for row in f.readlines(): \n",
    "    labels.append(list(map(int, row.split(\" \")[1:])))"
   ]
  },
  {
   "cell_type": "code",
   "execution_count": null,
   "metadata": {},
   "outputs": [],
   "source": [
    "%cd ..\n",
    "from bds.fpgrowth import preprocess_transaction_list, build_fptree, fpgrowth_on_tree"
   ]
  },
  {
   "cell_type": "code",
   "execution_count": null,
   "metadata": {},
   "outputs": [],
   "source": [
    "from bds.rule import Rule\n",
    "from time import time\n",
    "from gmpy2 import mpz , mpfr\n",
    "import gmpy2 as gmp\n",
    "\n",
    "\n",
    "def mpz_set_bits(n: mpz, bits: np.ndarray) -> mpz:\n",
    "    \"\"\"return a copy of n and set `bits` to 1 in `n`\"\"\"\n",
    "    for i in bits:\n",
    "        n = gmp.bit_set(n, int(i))\n",
    "    return n\n",
    "def compute_truthtable(X,itemset): \n",
    "    ''' poorly optimized function '''\n",
    "    support_list = [] \n",
    "    for i in range(X.shape[0]): \n",
    "        if sum([X[i][j] for j in itemset]) == len(itemset): \n",
    "            support_list.append(i)\n",
    "                \n",
    "    truthtable = mpz_set_bits(mpz(), support_list)\n",
    "    \n",
    "    \n",
    "    return truthtable , support_list\n",
    "    "
   ]
  },
  {
   "cell_type": "code",
   "execution_count": null,
   "metadata": {},
   "outputs": [],
   "source": [
    "len(rules)"
   ]
  },
  {
   "cell_type": "code",
   "execution_count": null,
   "metadata": {},
   "outputs": [],
   "source": [
    "y = np.array(labels[1], dtype = bool) \n",
    "X_bag = [set([j for j, x in enumerate(row) if x]) for row in X]\n",
    "min_support = 160\n",
    "ordered_input_data = preprocess_transaction_list(\n",
    "X_bag, min_support)\n",
    "\n",
    "tree = build_fptree(ordered_input_data)\n",
    "frequent_itemsets = set(fpgrowth_on_tree(tree, set(), min_support))\n",
    "\n",
    "PD = X[y]\n",
    "ND = X[~y]\n",
    "\n",
    "N = np.zeros((ND.shape[0], len(frequent_itemsets)))\n",
    "P = np.zeros((PD.shape[0], len(frequent_itemsets)))\n",
    "\n",
    "# create map \n",
    "positive_counter = 0 \n",
    "negative_counter = 0 \n",
    "map_positive = dict() \n",
    "map_negative = dict() \n",
    "\n",
    "for i in range(X.shape[0]): \n",
    "    if y[i]: \n",
    "        map_positive[i] = positive_counter \n",
    "        positive_counter+=1 \n",
    "    else: \n",
    "        map_negative[i] = negative_counter\n",
    "        negative_counter+=1 \n",
    "        \n",
    "\n",
    "\n",
    "# Now create rules \n",
    "rules = [] \n",
    "for i,itemset in enumerate(frequent_itemsets):\n",
    "    tt , support_list = compute_truthtable(X,itemset)\n",
    "    this_Rule = Rule(id = i+1, name = \"rule_\" + str(i), cardinality=len(itemset), truthtable=tt)\n",
    "    # we need the truthtable for this itemset \n",
    "    rules.append(this_Rule)\n",
    "    \n",
    "    for example in support_list: \n",
    "        if y[example]: \n",
    "            P[map_positive[example], i] = 1 \n",
    "        else: \n",
    "            N[map_negative[example], i] = 1 \n",
    "            \n",
    "\n",
    "                "
   ]
  },
  {
   "cell_type": "code",
   "execution_count": null,
   "metadata": {},
   "outputs": [],
   "source": [
    "m = len(rules)\n",
    "lmbd = 0.0\n",
    "ub = 4000000000000000000000000000000000\n",
    "solutions = solve_integer_program(n, m, N, P, lmbd, ub)"
   ]
  },
  {
   "cell_type": "code",
   "execution_count": null,
   "metadata": {},
   "outputs": [],
   "source": [
    "solutions"
   ]
  },
  {
   "cell_type": "code",
   "execution_count": null,
   "metadata": {},
   "outputs": [],
   "source": []
  }
 ],
 "metadata": {
  "kernelspec": {
   "display_name": "Python 3 (ipykernel)",
   "language": "python",
   "name": "python3"
  },
  "language_info": {
   "codemirror_mode": {
    "name": "ipython",
    "version": 3
   },
   "file_extension": ".py",
   "mimetype": "text/x-python",
   "name": "python",
   "nbconvert_exporter": "python",
   "pygments_lexer": "ipython3",
   "version": "3.9.16"
  }
 },
 "nbformat": 4,
 "nbformat_minor": 4
}
