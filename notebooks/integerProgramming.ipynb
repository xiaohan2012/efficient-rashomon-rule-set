{
 "cells": [
  {
   "cell_type": "code",
   "execution_count": 2,
   "metadata": {},
   "outputs": [],
   "source": [
    "from ortools.linear_solver import pywraplp"
   ]
  },
  {
   "cell_type": "code",
   "execution_count": 94,
   "metadata": {},
   "outputs": [],
   "source": [
    "def solve_integer_program(n, m, N, P, lambd, epsilon):\n",
    "    # Create a solver\n",
    "    solver = pywraplp.Solver.CreateSolver('CBC')  # 'CBC' is the solver used by ortools for integer programming\n",
    "    #\n",
    "    if not solver:\n",
    "        return \"Solver not available.\"\n",
    "    #\n",
    "    # Variables\n",
    "    x = [solver.IntVar(0, 1, f'x{i}') for i in range(m)]  # Integer variables with lower bound 0 and upper bound 1\n",
    "    zFP = [solver.IntVar(0, 1, f'z{i}') for i in range(n)]  # Auxiliary variables z_i with lower bound 0 and upper bound 1\n",
    "    zFN = [solver.IntVar(0, 1, f'z{i}') for i in range(n)]\n",
    "    zFN_pre = [solver.IntVar(0, 1, f'z{i}') for i in range(n)]\n",
    "    y = [solver.NumVar(0, 1, f'z{i}') for i in range(n)]\n",
    "    w = [solver.NumVar(0, 1, f'z{i}') for i in range(n)]\n",
    "    \n",
    "    #\n",
    "    # Target function: 0^T x\n",
    "    target_function = solver.Sum(x[i] * 0 for i in range(n))\n",
    "    #\n",
    "    # add constraints \n",
    "    for i in range(n):\n",
    "        # Calculate N[i,:] * x (inner product)\n",
    "        inner_product_N = solver.Sum(N[i][j] * x[j] for j in range(m))\n",
    "        # Add constraint: z_i = min(N[i,:] * x, 1)\n",
    "        solver.Add(inner_product_N <= y[i] + 1)\n",
    "        solver.Add(inner_product_N <= y[i])\n",
    "        solver.Add(zFP[i] <= inner_product_N)\n",
    "        solver.Add(zFP[i] <= 1)\n",
    "        solver.Add(zFP[i] >= 1 - (1 - y[i]))\n",
    "        solver.Add(zFP[i] >= inner_product_N - y[i])\n",
    "    \n",
    "        #solver.Add(zFP[i] == min([inner_product_N, 1]))\n",
    "        #\n",
    "        inner_product_P = solver.Sum(P[i][j] * x[j] for j in range(m))\n",
    "        #\n",
    "        #solver.Add(zFN[i] == (1 - max([inner_product_P, 1])))\n",
    "        solver.Add(inner_product_P <= w[i] + 1)\n",
    "        solver.Add(inner_product_P <= (1-w[i]) + 1)\n",
    "        solver.Add(zFN_pre[i] >= inner_product_P)\n",
    "        solver.Add(zFN_pre[i] >= 1)\n",
    "        solver.Add(zFN_pre[i] <= 1 + (1 - w[i]))\n",
    "        solver.Add(zFN_pre[i] <= inner_product_P + w[i])\n",
    "        solver.Add(zFN[i] == (1 - zFN_pre[i]))\n",
    "        \n",
    "            \n",
    "        # Add constraint: sum(z_i) <= epsilon\n",
    "        solver.Add(solver.Sum(zFP[i]/n + zFN[i]/n for i in range(n)) + lambd*solver.Sum(x[h] for h in range(m)) <= epsilon)\n",
    "    \n",
    "    \n",
    "    # Objective function (to be minimized): 0 - 0^T x\n",
    "    #solver.Minimize(target_function)\n",
    "    \n",
    "    \n",
    "     # Solve the problem\n",
    "    solutions = []\n",
    "\n",
    "    while solver.NextSolution():\n",
    "        solution = {}\n",
    "        for i in range(m):\n",
    "            solution[f'x{i}'] = x[i].solution_value()\n",
    "        #for i in range(n):\n",
    "        #    solution[f'z{i}'] = z[i].solution_value()\n",
    "        solutions.append(solution)\n",
    "\n",
    "    return solutions\n",
    "    \n",
    "    #\n",
    "    # Solve the problem\n",
    "    #status = solver.Solve()\n",
    "    #\n",
    "    #\n",
    "    #\n",
    "    #if status == pywraplp.Solver.OPTIMAL:\n",
    "    #    # Print the results\n",
    "    #    print(\"Status: Optimal\")\n",
    "    ##    print(\"Optimal Solution:\")\n",
    "    #    for i in range(m):\n",
    "    #        print(f\"x{i} = {x[i].solution_value()}\")\n",
    "    #    for i in range(n):\n",
    "    #        print(f\"z{i} = {z[i].solution_value()}\")\n",
    "    #else:\n",
    "    #    print(\"The problem does not have an optimal solution.\")\n",
    "\n",
    "    \n"
   ]
  },
  {
   "cell_type": "code",
   "execution_count": 95,
   "metadata": {},
   "outputs": [],
   "source": [
    "import numpy as np\n",
    "from scipy.sparse import random\n",
    "\n",
    "def generate_random_sparse_binary_matrix(rows, cols, density):\n",
    "    # Generate a random binary matrix with the specified density (percentage of non-zero elements)\n",
    "    random_matrix = random(rows, cols, density=density, format=\"csr\", dtype=np.float64)\n",
    "    random_matrix.data = np.array(random_matrix.data >= 0.5, dtype=np.int64)  # Threshold to get binary values\n",
    "    return random_matrix"
   ]
  },
  {
   "cell_type": "code",
   "execution_count": 96,
   "metadata": {},
   "outputs": [],
   "source": [
    "# Generate two random binary sparse matrices\n",
    "rows = 5  # Number of rows in the matrix\n",
    "cols = 6  # Number of columns in the matrix\n",
    "density = 0.3  # Density of non-zero elements (percentage)\n",
    "\n",
    "N = generate_random_sparse_binary_matrix(rows, cols, density)\n",
    "P = generate_random_sparse_binary_matrix(rows, cols, density)\n",
    "\n",
    "# Convert the sparse matrices to nested lists for OR-Tools\n",
    "N = matrix1.toarray().tolist()\n",
    "P = matrix2.toarray().tolist()\n"
   ]
  },
  {
   "cell_type": "code",
   "execution_count": 97,
   "metadata": {},
   "outputs": [],
   "source": [
    "solutions = solve_integer_program(rows, cols, N, P, 0.1, 0.9)"
   ]
  },
  {
   "cell_type": "code",
   "execution_count": 98,
   "metadata": {},
   "outputs": [
    {
     "data": {
      "text/plain": [
       "[]"
      ]
     },
     "execution_count": 98,
     "metadata": {},
     "output_type": "execute_result"
    }
   ],
   "source": [
    "solutions"
   ]
  },
  {
   "cell_type": "code",
   "execution_count": null,
   "metadata": {},
   "outputs": [],
   "source": []
  },
  {
   "cell_type": "code",
   "execution_count": null,
   "metadata": {},
   "outputs": [],
   "source": []
  }
 ],
 "metadata": {
  "kernelspec": {
   "display_name": "Python 3",
   "language": "python",
   "name": "python3"
  },
  "language_info": {
   "codemirror_mode": {
    "name": "ipython",
    "version": 3
   },
   "file_extension": ".py",
   "mimetype": "text/x-python",
   "name": "python",
   "nbconvert_exporter": "python",
   "pygments_lexer": "ipython3",
   "version": "3.7.6"
  }
 },
 "nbformat": 4,
 "nbformat_minor": 4
}
