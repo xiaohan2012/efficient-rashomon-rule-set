{
 "cells": [
  {
   "cell_type": "code",
   "execution_count": null,
   "id": "bac9c8d4",
   "metadata": {},
   "outputs": [],
   "source": [
    "import logging\n",
    "from time import time\n",
    "\n",
    "from logzero import logger\n",
    "\n",
    "from bds.meel import approx_mc2, approx_mc2_core\n",
    "from bds.rule import Rule\n",
    "from bds.utils import bin_random\n",
    "\n",
    "%cd ..\n",
    "\n",
    "logger.setLevel(logging.DEBUG)\n",
    "\n",
    "%cd ..\n",
    "num_pts = 1000\n",
    "\n",
    "ub = 0.8\n",
    "lmbd = 0.1\n",
    "\n",
    "delta = 0.8\n",
    "eps = 0.8\n",
    "\n",
    "show_progres = True\n",
    "rand_seed = 1234"
   ]
  },
  {
   "cell_type": "code",
   "execution_count": null,
   "id": "089f35c5",
   "metadata": {},
   "outputs": [],
   "source": [
    "num_rules_list = reversed([25, 50, 75, 100, 200])\n",
    "\n",
    "res_rows = []\n",
    "for num_rules in num_rules_list:\n",
    "    rules = [Rule.random(i + 1, num_pts) for i in range(num_rules)]\n",
    "    y = bin_random(num_pts)\n",
    "\n",
    "    s = time()\n",
    "    cnt = approx_mc2(\n",
    "        rules,\n",
    "        y,\n",
    "        lmbd=lmbd,\n",
    "        ub=ub,\n",
    "        delta=delta,\n",
    "        eps=eps,\n",
    "        rand_seed=rand_seed,\n",
    "        show_progress=show_progres,\n",
    "    )\n",
    "    elapsed = time() - s\n",
    "    res_rows.append((num_rules, elapsed, cnt))"
   ]
  },
  {
   "cell_type": "code",
   "execution_count": null,
   "id": "2e6710c7",
   "metadata": {},
   "outputs": [],
   "source": []
  },
  {
   "cell_type": "code",
   "execution_count": null,
   "id": "2b6b7a36",
   "metadata": {},
   "outputs": [],
   "source": []
  },
  {
   "cell_type": "code",
   "execution_count": null,
   "id": "27c399cd",
   "metadata": {},
   "outputs": [],
   "source": []
  },
  {
   "cell_type": "code",
   "execution_count": null,
   "id": "fc853e4b",
   "metadata": {},
   "outputs": [],
   "source": []
  },
  {
   "cell_type": "code",
   "execution_count": null,
   "id": "1360dd5d",
   "metadata": {},
   "outputs": [],
   "source": [
    "res_rows"
   ]
  },
  {
   "cell_type": "code",
   "execution_count": null,
   "id": "de5eff79",
   "metadata": {},
   "outputs": [],
   "source": [
    "# approx_mc2_core(\n",
    "#     rules, y,\n",
    "#     lmbd=lmbd, ub=ub,\n",
    "#     thresh=100,\n",
    "#     prev_num_cells=2,\n",
    "#     rand_seed=12345\n",
    "# )"
   ]
  }
 ],
 "metadata": {
  "kernelspec": {
   "display_name": "Python 3 (ipykernel)",
   "language": "python",
   "name": "python3"
  },
  "language_info": {
   "codemirror_mode": {
    "name": "ipython",
    "version": 3
   },
   "file_extension": ".py",
   "mimetype": "text/x-python",
   "name": "python",
   "nbconvert_exporter": "python",
   "pygments_lexer": "ipython3",
   "version": "3.9.16"
  }
 },
 "nbformat": 4,
 "nbformat_minor": 5
}
