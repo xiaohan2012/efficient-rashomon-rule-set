{
 "cells": [
  {
   "cell_type": "code",
   "execution_count": 2,
   "id": "bac9c8d4",
   "metadata": {},
   "outputs": [
    {
     "name": "stdout",
     "output_type": "stream",
     "text": [
      "/u/50/ciaperm1/unix/sampling-rashomon-decision-set-code\n",
      "/u/50/ciaperm1/unix\n"
     ]
    }
   ],
   "source": [
    "import logging\n",
    "from time import time\n",
    "\n",
    "from logzero import logger\n",
    "\n",
    "from bds.meel import approx_mc2, approx_mc2_core\n",
    "from bds.rule import Rule\n",
    "from bds.utils import bin_random\n",
    "\n",
    "%cd ..\n",
    "\n",
    "logger.setLevel(logging.DEBUG)\n",
    "\n",
    "%cd ..\n",
    "num_pts = 1000\n",
    "\n",
    "ub = 0.8\n",
    "lmbd = 0.1\n",
    "\n",
    "delta = 0.8\n",
    "eps = 0.8\n",
    "\n",
    "show_progres = True\n",
    "rand_seed = 1234"
   ]
  },
  {
   "cell_type": "code",
   "execution_count": null,
   "id": "089f35c5",
   "metadata": {},
   "outputs": [],
   "source": [
    "num_rules_list = reversed([25, 50, 75, 100, 200])\n",
    "\n",
    "res_rows = []\n",
    "for num_rules in num_rules_list:\n",
    "    rules = [Rule.random(i + 1, num_pts) for i in range(num_rules)]\n",
    "    y = bin_random(num_pts)\n",
    "\n",
    "    s = time()\n",
    "    cnt = approx_mc2(\n",
    "        rules,\n",
    "        y,\n",
    "        lmbd=lmbd,\n",
    "        ub=ub,\n",
    "        delta=delta,\n",
    "        eps=eps,\n",
    "        rand_seed=rand_seed,\n",
    "        show_progress=show_progres,\n",
    "    )\n",
    "    elapsed = time() - s\n",
    "    res_rows.append((num_rules, elapsed, cnt))"
   ]
  },
  {
   "cell_type": "code",
   "execution_count": null,
   "id": "2e6710c7",
   "metadata": {},
   "outputs": [],
   "source": []
  },
  {
   "cell_type": "code",
   "execution_count": null,
   "id": "2b6b7a36",
   "metadata": {},
   "outputs": [],
   "source": []
  },
  {
   "cell_type": "code",
   "execution_count": null,
   "id": "27c399cd",
   "metadata": {},
   "outputs": [],
   "source": []
  },
  {
   "cell_type": "code",
   "execution_count": null,
   "id": "fc853e4b",
   "metadata": {},
   "outputs": [],
   "source": []
  },
  {
   "cell_type": "code",
   "execution_count": 10,
   "id": "1360dd5d",
   "metadata": {},
   "outputs": [
    {
     "data": {
      "text/plain": [
       "[(10, 0.24122285842895508, 102), (20, 2.877434015274048, 1096)]"
      ]
     },
     "execution_count": 10,
     "metadata": {},
     "output_type": "execute_result"
    }
   ],
   "source": [
    "res_rows"
   ]
  },
  {
   "cell_type": "code",
   "execution_count": 1,
   "id": "de5eff79",
   "metadata": {
    "collapsed": true
   },
   "outputs": [
    {
     "ename": "NameError",
     "evalue": "name 'approx_mc2_core' is not defined",
     "output_type": "error",
     "traceback": [
      "\u001b[0;31m---------------------------------------------------------------------------\u001b[0m",
      "\u001b[0;31mNameError\u001b[0m                                 Traceback (most recent call last)",
      "Cell \u001b[0;32mIn[1], line 1\u001b[0m\n\u001b[0;32m----> 1\u001b[0m num_cells, num_sols \u001b[38;5;241m=\u001b[39m \u001b[43mapprox_mc2_core\u001b[49m(\n\u001b[1;32m      2\u001b[0m     rules, y,\n\u001b[1;32m      3\u001b[0m     lmbd\u001b[38;5;241m=\u001b[39mlmbd, ub\u001b[38;5;241m=\u001b[39mub,\n\u001b[1;32m      4\u001b[0m     thresh\u001b[38;5;241m=\u001b[39m\u001b[38;5;241m50\u001b[39m,\n\u001b[1;32m      5\u001b[0m     prev_num_cells\u001b[38;5;241m=\u001b[39m\u001b[38;5;241m2\u001b[39m,\n\u001b[1;32m      6\u001b[0m     rand_seed\u001b[38;5;241m=\u001b[39m\u001b[38;5;241m12345\u001b[39m\n\u001b[1;32m      7\u001b[0m )\n",
      "\u001b[0;31mNameError\u001b[0m: name 'approx_mc2_core' is not defined"
     ]
    }
   ],
   "source": [
    "# approx_mc2_core(\n",
    "#     rules, y,\n",
    "#     lmbd=lmbd, ub=ub,\n",
    "#     thresh=100,\n",
    "#     prev_num_cells=2,\n",
    "#     rand_seed=12345\n",
    "# )"
   ]
  }
 ],
 "metadata": {
  "kernelspec": {
   "display_name": "Python 3 (ipykernel)",
   "language": "python",
   "name": "python3"
  },
  "language_info": {
   "codemirror_mode": {
    "name": "ipython",
    "version": 3
   },
   "file_extension": ".py",
   "mimetype": "text/x-python",
   "name": "python",
   "nbconvert_exporter": "python",
   "pygments_lexer": "ipython3",
   "version": "3.9.16"
  }
 },
 "nbformat": 4,
 "nbformat_minor": 5
}
