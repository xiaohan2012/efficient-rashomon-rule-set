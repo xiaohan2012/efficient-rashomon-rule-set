{
 "cells": [
  {
   "cell_type": "markdown",
   "id": "a1781342",
   "metadata": {},
   "source": [
    "## TreeFarms"
   ]
  },
  {
   "cell_type": "code",
   "execution_count": null,
   "id": "6bd1ed70",
   "metadata": {},
   "outputs": [],
   "source": [
    "import pathlib\n",
    "\n",
    "# from treefarms.model.threshold_guess import compute_thresholds, cut\n",
    "# from treefarms import TREEFARMS\n",
    "# from treefarms.model.model_set import ModelSetContainer\n",
    "import time\n",
    "\n",
    "import numpy as np\n",
    "import pandas as pd\n",
    "from corels import *\n",
    "from sklearn.ensemble import GradientBoostingClassifier\n",
    "from sklearn.model_selection import train_test_split"
   ]
  },
  {
   "cell_type": "code",
   "execution_count": null,
   "id": "b898bc82",
   "metadata": {},
   "outputs": [],
   "source": [
    "# Load the CSV file using Pandas\n",
    "X = pd.read_csv(\"../data/compas_test-binary.csv\")\n",
    "# read labels\n",
    "f = open(\"../data/compas_test.label\")\n",
    "labels = []\n",
    "for row in f.readlines():\n",
    "    labels.append(list(map(int, row.split(\" \")[1:])))\n",
    "# y = pd.DataFrame(labels[0])"
   ]
  },
  {
   "cell_type": "code",
   "execution_count": null,
   "id": "9592654d",
   "metadata": {},
   "outputs": [],
   "source": [
    "X[\"y\"] = labels[0]\n",
    "y = X[\"y\"]\n",
    "X.drop(\"y\", axis=1, inplace=True)"
   ]
  },
  {
   "cell_type": "code",
   "execution_count": null,
   "id": "26e042b2",
   "metadata": {},
   "outputs": [],
   "source": [
    "1 / X.shape[0]  # for reg"
   ]
  },
  {
   "cell_type": "code",
   "execution_count": null,
   "id": "4434627b",
   "metadata": {},
   "outputs": [],
   "source": [
    "# train TREEFARMS model\n",
    "all_times = []\n",
    "\n",
    "for reg in [0.01]:\n",
    "    t = time.time()\n",
    "\n",
    "    config = {\n",
    "        \"regularization\": reg,  # regularization penalizes the tree with more leaves. We recommend to set it to relative high value to find a sparse tree.\n",
    "        \"rashomon_bound\": 0.3,  # rashomon bound multiplier indicates how large of a Rashomon set would you like to get\n",
    "    }\n",
    "\n",
    "    model = TREEFARMS(config)\n",
    "    model.fit(X, y)\n",
    "    all_times.append(time.time() - t)\n",
    "\n",
    "print(all_times)"
   ]
  },
  {
   "cell_type": "code",
   "execution_count": null,
   "id": "28254cce",
   "metadata": {},
   "outputs": [],
   "source": [
    "X"
   ]
  },
  {
   "cell_type": "markdown",
   "id": "533cb869",
   "metadata": {},
   "source": [
    "## CORELS "
   ]
  },
  {
   "cell_type": "code",
   "execution_count": null,
   "id": "272e2f80",
   "metadata": {},
   "outputs": [],
   "source": [
    "## this requires base python"
   ]
  },
  {
   "cell_type": "code",
   "execution_count": null,
   "id": "830c6d59",
   "metadata": {},
   "outputs": [],
   "source": [
    "# Fit, and score the model on the training set\n",
    "X_c = X.to_numpy()\n",
    "y_c = y.to_numpy()\n",
    "\n",
    "c = CorelsClassifier()\n",
    "a = c.fit(X_c, y_c).score(X_c, y_c)\n",
    "\n",
    "# Print the model's accuracy on the training set\n",
    "print(a)"
   ]
  },
  {
   "cell_type": "code",
   "execution_count": null,
   "id": "97854549",
   "metadata": {},
   "outputs": [],
   "source": []
  }
 ],
 "metadata": {
  "kernelspec": {
   "display_name": "Python 3",
   "language": "python",
   "name": "python3"
  },
  "language_info": {
   "codemirror_mode": {
    "name": "ipython",
    "version": 3
   },
   "file_extension": ".py",
   "mimetype": "text/x-python",
   "name": "python",
   "nbconvert_exporter": "python",
   "pygments_lexer": "ipython3",
   "version": "3.7.6"
  }
 },
 "nbformat": 4,
 "nbformat_minor": 5
}
