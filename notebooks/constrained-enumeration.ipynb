{
 "cells": [
  {
   "cell_type": "code",
   "execution_count": 5,
   "id": "bac9c8d4",
   "metadata": {},
   "outputs": [
    {
     "name": "stderr",
     "output_type": "stream",
     "text": [
      "You are using the 'pickle5' module, but the exact version is unknown (possibly carried as an internal component by another module). Please make sure you are using pickle5 >= 0.0.10 because previous versions may leak memory.\n"
     ]
    },
    {
     "ename": "AttributeError",
     "evalue": "type object 'ray._raylet.Buffer' has no attribute '__reduce_cython__'",
     "output_type": "error",
     "traceback": [
      "\u001b[0;31m---------------------------------------------------------------------------\u001b[0m",
      "\u001b[0;31mAttributeError\u001b[0m                            Traceback (most recent call last)",
      "\u001b[0;32m<ipython-input-5-5a1544483482>\u001b[0m in \u001b[0;36m<module>\u001b[0;34m\u001b[0m\n\u001b[1;32m      1\u001b[0m \u001b[0;32mimport\u001b[0m \u001b[0mlogging\u001b[0m\u001b[0;34m\u001b[0m\u001b[0;34m\u001b[0m\u001b[0m\n\u001b[0;32m----> 2\u001b[0;31m \u001b[0;32mfrom\u001b[0m \u001b[0mbds\u001b[0m\u001b[0;34m.\u001b[0m\u001b[0mmeel\u001b[0m \u001b[0;32mimport\u001b[0m \u001b[0mapprox_mc2\u001b[0m\u001b[0;34m,\u001b[0m \u001b[0mapprox_mc2_core\u001b[0m\u001b[0;34m\u001b[0m\u001b[0;34m\u001b[0m\u001b[0m\n\u001b[0m\u001b[1;32m      3\u001b[0m \u001b[0;32mfrom\u001b[0m \u001b[0mbds\u001b[0m\u001b[0;34m.\u001b[0m\u001b[0mrule\u001b[0m \u001b[0;32mimport\u001b[0m \u001b[0mRule\u001b[0m\u001b[0;34m\u001b[0m\u001b[0;34m\u001b[0m\u001b[0m\n\u001b[1;32m      4\u001b[0m \u001b[0;32mfrom\u001b[0m \u001b[0mbds\u001b[0m\u001b[0;34m.\u001b[0m\u001b[0mutils\u001b[0m \u001b[0;32mimport\u001b[0m \u001b[0mbin_random\u001b[0m\u001b[0;34m\u001b[0m\u001b[0;34m\u001b[0m\u001b[0m\n\u001b[1;32m      5\u001b[0m \u001b[0;32mfrom\u001b[0m \u001b[0mlogzero\u001b[0m \u001b[0;32mimport\u001b[0m \u001b[0mlogger\u001b[0m\u001b[0;34m\u001b[0m\u001b[0;34m\u001b[0m\u001b[0m\n",
      "\u001b[0;32m~/sampling-rashomon-decision-set-code/bds/meel.py\u001b[0m in \u001b[0;36m<module>\u001b[0;34m\u001b[0m\n\u001b[1;32m      1\u001b[0m \u001b[0;32mimport\u001b[0m \u001b[0mitertools\u001b[0m\u001b[0;34m\u001b[0m\u001b[0;34m\u001b[0m\u001b[0m\n\u001b[0;32m----> 2\u001b[0;31m \u001b[0;32mimport\u001b[0m \u001b[0mray\u001b[0m\u001b[0;34m\u001b[0m\u001b[0;34m\u001b[0m\u001b[0m\n\u001b[0m\u001b[1;32m      3\u001b[0m \u001b[0;32mimport\u001b[0m \u001b[0mlogging\u001b[0m\u001b[0;34m\u001b[0m\u001b[0;34m\u001b[0m\u001b[0m\n\u001b[1;32m      4\u001b[0m \u001b[0;32mimport\u001b[0m \u001b[0mmath\u001b[0m\u001b[0;34m\u001b[0m\u001b[0;34m\u001b[0m\u001b[0m\n\u001b[1;32m      5\u001b[0m \u001b[0;32mimport\u001b[0m \u001b[0mrandom\u001b[0m\u001b[0;34m\u001b[0m\u001b[0;34m\u001b[0m\u001b[0m\n",
      "\u001b[0;32m~/anaconda3/lib/python3.7/site-packages/ray/__init__.py\u001b[0m in \u001b[0;36m<module>\u001b[0;34m\u001b[0m\n\u001b[1;32m     61\u001b[0m     \u001b[0mCDLL\u001b[0m\u001b[0;34m(\u001b[0m\u001b[0mso_path\u001b[0m\u001b[0;34m,\u001b[0m \u001b[0mctypes\u001b[0m\u001b[0;34m.\u001b[0m\u001b[0mRTLD_GLOBAL\u001b[0m\u001b[0;34m)\u001b[0m\u001b[0;34m\u001b[0m\u001b[0;34m\u001b[0m\u001b[0m\n\u001b[1;32m     62\u001b[0m \u001b[0;34m\u001b[0m\u001b[0m\n\u001b[0;32m---> 63\u001b[0;31m \u001b[0;32mimport\u001b[0m \u001b[0mray\u001b[0m\u001b[0;34m.\u001b[0m\u001b[0m_raylet\u001b[0m  \u001b[0;31m# noqa: E402\u001b[0m\u001b[0;34m\u001b[0m\u001b[0;34m\u001b[0m\u001b[0m\n\u001b[0m\u001b[1;32m     64\u001b[0m \u001b[0;34m\u001b[0m\u001b[0m\n\u001b[1;32m     65\u001b[0m from ray._raylet import (  # noqa: E402\n",
      "\u001b[0;32mpython/ray/includes/buffer.pxi\u001b[0m in \u001b[0;36minit ray._raylet\u001b[0;34m()\u001b[0m\n",
      "\u001b[0;31mAttributeError\u001b[0m: type object 'ray._raylet.Buffer' has no attribute '__reduce_cython__'"
     ]
    }
   ],
   "source": [
    "import logging\n",
    "from time import time\n",
    "\n",
    "from logzero import logger\n",
    "\n",
    "from bds.meel import approx_mc2, approx_mc2_core\n",
    "from bds.rule import Rule\n",
    "from bds.utils import bin_random\n",
    "\n",
    "logger.setLevel(logging.DEBUG)\n",
    "\n",
    "%cd ..\n",
    "num_pts = 1000\n",
    "\n",
    "ub = 0.8\n",
    "lmbd = 0.1\n",
    "\n",
    "delta = 0.8\n",
    "eps = 0.8\n",
    "\n",
    "show_progres = True\n",
    "rand_seed = 1234"
   ]
  },
  {
   "cell_type": "code",
   "execution_count": 15,
   "id": "089f35c5",
   "metadata": {},
   "outputs": [
    {
     "name": "stderr",
     "output_type": "stream",
     "text": [
      "[D 230508 10:17:26 meel:276] calling approx_mc2 with eps = 0.80 and delta=0.80\n",
      "[D 230508 10:17:26 meel:279] thresh = 72.95\n",
      "[D 230508 10:17:26 bb:82] calling branch-and-bound with ub=0.8, lmbd=0.1\n",
      "[D 230508 10:17:26 meel:292] initial solving with thresh=72 gives 72 solutions\n",
      "[D 230508 10:17:26 meel:304] maximum number of calls to ApproxMC2Core: 32\n",
      "  0%|                                                                                                                               | 0/32 [00:00<?, ?it/s][D 230508 10:17:26 bb:82] calling branch-and-bound with ub=0.8, lmbd=0.1\n",
      "[D 230508 10:20:53 meel:211] |Y| 0 < 72: calling log_search under parity constraints\n",
      "[D 230508 10:20:53 meel:61] thresh: 72\n",
      "[D 230508 10:20:53 bb:82] calling branch-and-bound with ub=0.8, lmbd=0.1\n",
      "[D 230508 10:20:53 meel:91] current m = 1\n",
      "[D 230508 10:20:53 meel:105] |Y| >= thresh (72 >= 72)\n",
      "[D 230508 10:20:53 meel:91] current m = 2\n",
      "[D 230508 10:20:53 meel:105] |Y| >= thresh (72 >= 72)\n",
      "[D 230508 10:20:53 meel:91] current m = 3\n",
      "[D 230508 10:20:53 meel:105] |Y| >= thresh (72 >= 72)\n",
      "[D 230508 10:20:53 meel:91] current m = 4\n",
      "[D 230508 10:20:53 meel:105] |Y| >= thresh (72 >= 72)\n",
      "[D 230508 10:20:53 meel:91] current m = 8\n",
      "[D 230508 10:20:53 meel:105] |Y| >= thresh (72 >= 72)\n",
      "[D 230508 10:20:53 meel:91] current m = 16\n",
      "[D 230508 10:23:40 meel:131] |Y| < thresh (16 < 72)\n",
      "[D 230508 10:23:40 meel:91] current m = 12\n",
      "[D 230508 10:23:52 meel:105] |Y| >= thresh (72 >= 72)\n",
      "[D 230508 10:23:52 meel:91] current m = 24\n",
      "[D 230508 10:26:43 meel:131] |Y| < thresh (0 < 72)\n",
      "[D 230508 10:26:43 meel:91] current m = 18\n",
      "[D 230508 10:29:37 meel:131] |Y| < thresh (4 < 72)\n",
      "[D 230508 10:29:37 meel:91] current m = 15\n",
      "[D 230508 10:32:28 meel:131] |Y| < thresh (30 < 72)\n",
      "[D 230508 10:32:28 meel:91] current m = 13\n",
      "[D 230508 10:32:47 meel:105] |Y| >= thresh (72 >= 72)\n",
      "[D 230508 10:32:47 meel:91] current m = 26\n",
      "[D 230508 10:35:34 meel:131] |Y| < thresh (0 < 72)\n",
      "[D 230508 10:35:34 meel:91] current m = 19\n",
      "[D 230508 10:38:26 meel:131] |Y| < thresh (3 < 72)\n",
      "[D 230508 10:38:26 meel:91] current m = 16\n",
      "[D 230508 10:41:11 meel:131] |Y| < thresh (16 < 72)\n",
      "[D 230508 10:41:11 meel:91] current m = 14\n",
      "[D 230508 10:43:58 meel:131] |Y| < thresh (52 < 72)\n",
      "[D 230508 10:43:58 meel:137] big_cell[13]=1, return 14\n",
      "[D 230508 10:43:58 meel:329] num_cells: 16384, num_sols: 52\n",
      "  3%|███▌                                                                                                              | 1/32 [26:32<13:42:34, 1592.09s/it][D 230508 10:43:58 bb:82] calling branch-and-bound with ub=0.8, lmbd=0.1\n",
      "  3%|███▌                                                                                                              | 1/32 [28:59<14:58:52, 1739.75s/it]\n"
     ]
    },
    {
     "ename": "KeyboardInterrupt",
     "evalue": "",
     "output_type": "error",
     "traceback": [
      "\u001b[0;31m---------------------------------------------------------------------------\u001b[0m",
      "\u001b[0;31mKeyboardInterrupt\u001b[0m                         Traceback (most recent call last)",
      "Cell \u001b[0;32mIn[15], line 11\u001b[0m\n\u001b[1;32m      8\u001b[0m y \u001b[38;5;241m=\u001b[39m bin_random(num_pts)\n\u001b[1;32m     10\u001b[0m s \u001b[38;5;241m=\u001b[39m time()\n\u001b[0;32m---> 11\u001b[0m cnt \u001b[38;5;241m=\u001b[39m \u001b[43mapprox_mc2\u001b[49m\u001b[43m(\u001b[49m\n\u001b[1;32m     12\u001b[0m \u001b[43m    \u001b[49m\u001b[43mrules\u001b[49m\u001b[43m,\u001b[49m\u001b[43m \u001b[49m\u001b[43my\u001b[49m\u001b[43m,\u001b[49m\u001b[43m \u001b[49m\u001b[43mlmbd\u001b[49m\u001b[38;5;241;43m=\u001b[39;49m\u001b[43mlmbd\u001b[49m\u001b[43m,\u001b[49m\u001b[43m \u001b[49m\u001b[43mub\u001b[49m\u001b[38;5;241;43m=\u001b[39;49m\u001b[43mub\u001b[49m\u001b[43m,\u001b[49m\n\u001b[1;32m     13\u001b[0m \u001b[43m    \u001b[49m\u001b[43mdelta\u001b[49m\u001b[38;5;241;43m=\u001b[39;49m\u001b[43mdelta\u001b[49m\u001b[43m,\u001b[49m\u001b[43m \u001b[49m\u001b[43meps\u001b[49m\u001b[38;5;241;43m=\u001b[39;49m\u001b[43meps\u001b[49m\u001b[43m,\u001b[49m\u001b[43m \u001b[49m\u001b[43mrand_seed\u001b[49m\u001b[38;5;241;43m=\u001b[39;49m\u001b[43mrand_seed\u001b[49m\u001b[43m,\u001b[49m\u001b[43m \u001b[49m\u001b[43mshow_progress\u001b[49m\u001b[38;5;241;43m=\u001b[39;49m\u001b[43mshow_progres\u001b[49m\n\u001b[1;32m     14\u001b[0m \u001b[43m\u001b[49m\u001b[43m)\u001b[49m\n\u001b[1;32m     15\u001b[0m elapsed \u001b[38;5;241m=\u001b[39m time() \u001b[38;5;241m-\u001b[39m s\n\u001b[1;32m     16\u001b[0m res_rows\u001b[38;5;241m.\u001b[39mappend((num_rules, elapsed, cnt))\n",
      "File \u001b[0;32m~/code/bds/bds/meel.py:318\u001b[0m, in \u001b[0;36mapprox_mc2\u001b[0;34m(rules, y, lmbd, ub, delta, eps, rand_seed, show_progress)\u001b[0m\n\u001b[1;32m    316\u001b[0m rand_seed_next \u001b[38;5;241m=\u001b[39m rand_seed_pool[trial_idx]\n\u001b[1;32m    317\u001b[0m \u001b[38;5;66;03m# TODO: it can be parallelized\u001b[39;00m\n\u001b[0;32m--> 318\u001b[0m num_cells, num_sols \u001b[38;5;241m=\u001b[39m \u001b[43mapprox_mc2_core\u001b[49m\u001b[43m(\u001b[49m\n\u001b[1;32m    319\u001b[0m \u001b[43m    \u001b[49m\u001b[43mrules\u001b[49m\u001b[43m,\u001b[49m\n\u001b[1;32m    320\u001b[0m \u001b[43m    \u001b[49m\u001b[43my\u001b[49m\u001b[43m,\u001b[49m\n\u001b[1;32m    321\u001b[0m \u001b[43m    \u001b[49m\u001b[43mlmbd\u001b[49m\u001b[43m,\u001b[49m\n\u001b[1;32m    322\u001b[0m \u001b[43m    \u001b[49m\u001b[43mub\u001b[49m\u001b[43m,\u001b[49m\n\u001b[1;32m    323\u001b[0m \u001b[43m    \u001b[49m\u001b[43mthresh_floor\u001b[49m\u001b[43m,\u001b[49m\n\u001b[1;32m    324\u001b[0m \u001b[43m    \u001b[49m\u001b[43mprev_num_cells\u001b[49m\u001b[38;5;241;43m=\u001b[39;49m\u001b[43mprev_num_cells\u001b[49m\u001b[43m,\u001b[49m\n\u001b[1;32m    325\u001b[0m \u001b[43m    \u001b[49m\u001b[43mrand_seed\u001b[49m\u001b[38;5;241;43m=\u001b[39;49m\u001b[43mrand_seed_next\u001b[49m\u001b[43m,\u001b[49m\n\u001b[1;32m    326\u001b[0m \u001b[43m\u001b[49m\u001b[43m)\u001b[49m\n\u001b[1;32m    327\u001b[0m prev_num_cells \u001b[38;5;241m=\u001b[39m num_cells\n\u001b[1;32m    328\u001b[0m \u001b[38;5;28;01mif\u001b[39;00m num_cells \u001b[38;5;129;01mis\u001b[39;00m \u001b[38;5;129;01mnot\u001b[39;00m \u001b[38;5;28;01mNone\u001b[39;00m:\n",
      "File \u001b[0;32m~/code/bds/bds/meel.py:203\u001b[0m, in \u001b[0;36mapprox_mc2_core\u001b[0;34m(rules, y, lmbd, ub, thresh, prev_num_cells, rand_seed, A, t)\u001b[0m\n\u001b[1;32m    200\u001b[0m \u001b[38;5;66;03m# try to find at most thresh solutions using all constraints\u001b[39;00m\n\u001b[1;32m    201\u001b[0m cbb \u001b[38;5;241m=\u001b[39m ConstrainedBranchAndBoundNaive(rules, ub, y, lmbd)\n\u001b[0;32m--> 203\u001b[0m Y_size \u001b[38;5;241m=\u001b[39m \u001b[43mcbb\u001b[49m\u001b[38;5;241;43m.\u001b[39;49m\u001b[43mbounded_count\u001b[49m\u001b[43m(\u001b[49m\u001b[43mthresh\u001b[49m\u001b[43m,\u001b[49m\u001b[43m \u001b[49m\u001b[43mA\u001b[49m\u001b[43m,\u001b[49m\u001b[43m \u001b[49m\u001b[43mt\u001b[49m\u001b[43m)\u001b[49m\n\u001b[1;32m    205\u001b[0m \u001b[38;5;28;01mif\u001b[39;00m Y_size \u001b[38;5;241m>\u001b[39m\u001b[38;5;241m=\u001b[39m thresh:\n\u001b[1;32m    206\u001b[0m     logger\u001b[38;5;241m.\u001b[39mdebug(\n\u001b[1;32m    207\u001b[0m         \u001b[38;5;124mf\u001b[39m\u001b[38;5;124m\"\u001b[39m\u001b[38;5;124m|Y| \u001b[39m\u001b[38;5;132;01m{\u001b[39;00mY_size\u001b[38;5;132;01m}\u001b[39;00m\u001b[38;5;124m >= \u001b[39m\u001b[38;5;132;01m{\u001b[39;00mthresh\u001b[38;5;132;01m}\u001b[39;00m\u001b[38;5;124m: solving under all constraints generates more than \u001b[39m\u001b[38;5;132;01m{\u001b[39;00mthresh\u001b[38;5;132;01m}\u001b[39;00m\u001b[38;5;124m (thresh) solutions, return None\u001b[39m\u001b[38;5;124m\"\u001b[39m\n\u001b[1;32m    208\u001b[0m     )\n",
      "File \u001b[0;32m~/code/bds/bds/bb.py:140\u001b[0m, in \u001b[0;36mBranchAndBoundGeneric.bounded_count\u001b[0;34m(self, threshold, *args)\u001b[0m\n\u001b[1;32m    137\u001b[0m \u001b[38;5;250m\u001b[39m\u001b[38;5;124;03m\"\"\"return min(|Y|, threshold), where Y is the set of feasible solutions\"\"\"\u001b[39;00m\n\u001b[1;32m    138\u001b[0m \u001b[38;5;66;03m# lst = list(self._bounded_sols_iter(threshold, *args))\u001b[39;00m\n\u001b[1;32m    139\u001b[0m \u001b[38;5;66;03m# return len(lst)\u001b[39;00m\n\u001b[0;32m--> 140\u001b[0m \u001b[38;5;28;01mreturn\u001b[39;00m \u001b[43mcount_iter\u001b[49m\u001b[43m(\u001b[49m\u001b[38;5;28;43mself\u001b[39;49m\u001b[38;5;241;43m.\u001b[39;49m\u001b[43m_bounded_sols_iter\u001b[49m\u001b[43m(\u001b[49m\u001b[43mthreshold\u001b[49m\u001b[43m,\u001b[49m\u001b[43m \u001b[49m\u001b[38;5;241;43m*\u001b[39;49m\u001b[43margs\u001b[49m\u001b[43m)\u001b[49m\u001b[43m)\u001b[49m\n",
      "File \u001b[0;32m~/code/bds/bds/utils.py:176\u001b[0m, in \u001b[0;36mcount_iter\u001b[0;34m(it)\u001b[0m\n\u001b[1;32m    171\u001b[0m \u001b[38;5;250m\u001b[39m\u001b[38;5;124;03m\"\"\"counter the number of elements in an iterable\u001b[39;00m\n\u001b[1;32m    172\u001b[0m \n\u001b[1;32m    173\u001b[0m \u001b[38;5;124;03mreference: https://stackoverflow.com/a/15112059/557067\u001b[39;00m\n\u001b[1;32m    174\u001b[0m \u001b[38;5;124;03m\"\"\"\u001b[39;00m\n\u001b[1;32m    175\u001b[0m counter \u001b[38;5;241m=\u001b[39m itertools\u001b[38;5;241m.\u001b[39mcount()\n\u001b[0;32m--> 176\u001b[0m \u001b[43mdeque\u001b[49m\u001b[43m(\u001b[49m\u001b[38;5;28;43mzip\u001b[39;49m\u001b[43m(\u001b[49m\u001b[43mit\u001b[49m\u001b[43m,\u001b[49m\u001b[43m \u001b[49m\u001b[43mcounter\u001b[49m\u001b[43m)\u001b[49m\u001b[43m,\u001b[49m\u001b[43m \u001b[49m\u001b[43mmaxlen\u001b[49m\u001b[38;5;241;43m=\u001b[39;49m\u001b[38;5;241;43m0\u001b[39;49m\u001b[43m)\u001b[49m\n\u001b[1;32m    177\u001b[0m \u001b[38;5;28;01mreturn\u001b[39;00m \u001b[38;5;28mnext\u001b[39m(counter)\n",
      "File \u001b[0;32m~/code/bds/bds/bb.py:120\u001b[0m, in \u001b[0;36mBranchAndBoundGeneric.run\u001b[0;34m(self, return_objective, *args)\u001b[0m\n\u001b[1;32m    118\u001b[0m \u001b[38;5;28;01mwhile\u001b[39;00m \u001b[38;5;129;01mnot\u001b[39;00m \u001b[38;5;28mself\u001b[39m\u001b[38;5;241m.\u001b[39mqueue\u001b[38;5;241m.\u001b[39mis_empty:\n\u001b[1;32m    119\u001b[0m     queue_item \u001b[38;5;241m=\u001b[39m \u001b[38;5;28mself\u001b[39m\u001b[38;5;241m.\u001b[39mqueue\u001b[38;5;241m.\u001b[39mpop()\n\u001b[0;32m--> 120\u001b[0m     \u001b[38;5;28;01myield from\u001b[39;00m \u001b[38;5;28mself\u001b[39m\u001b[38;5;241m.\u001b[39m_loop(\u001b[38;5;241m*\u001b[39mqueue_item, return_objective\u001b[38;5;241m=\u001b[39mreturn_objective)\n",
      "File \u001b[0;32m~/code/bds/bds/cbb.py:199\u001b[0m, in \u001b[0;36mConstrainedBranchAndBoundNaive._loop\u001b[0;34m(self, parent_node, parent_not_captured, u, s, z, return_objective)\u001b[0m\n\u001b[1;32m    197\u001b[0m \u001b[38;5;66;03m# here we assume the rule ids are consecutive integers\u001b[39;00m\n\u001b[1;32m    198\u001b[0m \u001b[38;5;28;01mfor\u001b[39;00m rule \u001b[38;5;129;01min\u001b[39;00m \u001b[38;5;28mself\u001b[39m\u001b[38;5;241m.\u001b[39mrules[parent_node\u001b[38;5;241m.\u001b[39mrule_id :]:\n\u001b[0;32m--> 199\u001b[0m     captured \u001b[38;5;241m=\u001b[39m \u001b[38;5;28;43mself\u001b[39;49m\u001b[38;5;241;43m.\u001b[39;49m\u001b[43m_captured_by_rule\u001b[49m\u001b[43m(\u001b[49m\u001b[43mrule\u001b[49m\u001b[43m,\u001b[49m\u001b[43m \u001b[49m\u001b[43mparent_not_captured\u001b[49m\u001b[43m)\u001b[49m\n\u001b[1;32m    200\u001b[0m     lb \u001b[38;5;241m=\u001b[39m parent_lb \u001b[38;5;241m+\u001b[39m \u001b[38;5;28mself\u001b[39m\u001b[38;5;241m.\u001b[39m_incremental_update_lb(captured, \u001b[38;5;28mself\u001b[39m\u001b[38;5;241m.\u001b[39my) \u001b[38;5;241m+\u001b[39m \u001b[38;5;28mself\u001b[39m\u001b[38;5;241m.\u001b[39mlmbd\n\u001b[1;32m    201\u001b[0m     \u001b[38;5;28;01mif\u001b[39;00m lb \u001b[38;5;241m<\u001b[39m\u001b[38;5;241m=\u001b[39m \u001b[38;5;28mself\u001b[39m\u001b[38;5;241m.\u001b[39mub:\n",
      "File \u001b[0;32m~/code/bds/bds/bb.py:112\u001b[0m, in \u001b[0;36mBranchAndBoundGeneric._captured_by_rule\u001b[0;34m(self, rule, parent_not_captured)\u001b[0m\n\u001b[1;32m    110\u001b[0m \u001b[38;5;28;01mdef\u001b[39;00m \u001b[38;5;21m_captured_by_rule\u001b[39m(\u001b[38;5;28mself\u001b[39m, rule: Rule, parent_not_captured: mpz):\n\u001b[1;32m    111\u001b[0m \u001b[38;5;250m    \u001b[39m\u001b[38;5;124;03m\"\"\"return the captured array for the rule in the context of parent\"\"\"\u001b[39;00m\n\u001b[0;32m--> 112\u001b[0m     \u001b[38;5;28;01mreturn\u001b[39;00m parent_not_captured \u001b[38;5;241m&\u001b[39m \u001b[43mrule\u001b[49m\u001b[38;5;241;43m.\u001b[39;49m\u001b[43mtruthtable\u001b[49m\n",
      "\u001b[0;31mKeyboardInterrupt\u001b[0m: "
     ]
    }
   ],
   "source": [
    "num_rules_list = reversed([25, 50, 75, 100, 200])\n",
    "\n",
    "res_rows = []\n",
    "for num_rules in num_rules_list:\n",
    "    rules = [Rule.random(i + 1, num_pts) for i in range(num_rules)]\n",
    "    y = bin_random(num_pts)\n",
    "\n",
    "    s = time()\n",
    "    cnt = approx_mc2(\n",
    "        rules,\n",
    "        y,\n",
    "        lmbd=lmbd,\n",
    "        ub=ub,\n",
    "        delta=delta,\n",
    "        eps=eps,\n",
    "        rand_seed=rand_seed,\n",
    "        show_progress=show_progres,\n",
    "    )\n",
    "    elapsed = time() - s\n",
    "    res_rows.append((num_rules, elapsed, cnt))"
   ]
  },
  {
   "cell_type": "code",
   "execution_count": null,
   "id": "2e6710c7",
   "metadata": {},
   "outputs": [],
   "source": []
  },
  {
   "cell_type": "code",
   "execution_count": null,
   "id": "2b6b7a36",
   "metadata": {},
   "outputs": [],
   "source": []
  },
  {
   "cell_type": "code",
   "execution_count": null,
   "id": "27c399cd",
   "metadata": {},
   "outputs": [],
   "source": []
  },
  {
   "cell_type": "code",
   "execution_count": null,
   "id": "fc853e4b",
   "metadata": {},
   "outputs": [],
   "source": []
  },
  {
   "cell_type": "code",
   "execution_count": 10,
   "id": "1360dd5d",
   "metadata": {},
   "outputs": [
    {
     "data": {
      "text/plain": [
       "[(10, 0.24122285842895508, 102), (20, 2.877434015274048, 1096)]"
      ]
     },
     "execution_count": 10,
     "metadata": {},
     "output_type": "execute_result"
    }
   ],
   "source": [
    "res_rows"
   ]
  },
  {
   "cell_type": "code",
   "execution_count": 1,
   "id": "de5eff79",
   "metadata": {
    "collapsed": true
   },
   "outputs": [
    {
     "ename": "NameError",
     "evalue": "name 'approx_mc2_core' is not defined",
     "output_type": "error",
     "traceback": [
      "\u001b[0;31m---------------------------------------------------------------------------\u001b[0m",
      "\u001b[0;31mNameError\u001b[0m                                 Traceback (most recent call last)",
      "Cell \u001b[0;32mIn[1], line 1\u001b[0m\n\u001b[0;32m----> 1\u001b[0m num_cells, num_sols \u001b[38;5;241m=\u001b[39m \u001b[43mapprox_mc2_core\u001b[49m(\n\u001b[1;32m      2\u001b[0m     rules, y,\n\u001b[1;32m      3\u001b[0m     lmbd\u001b[38;5;241m=\u001b[39mlmbd, ub\u001b[38;5;241m=\u001b[39mub,\n\u001b[1;32m      4\u001b[0m     thresh\u001b[38;5;241m=\u001b[39m\u001b[38;5;241m50\u001b[39m,\n\u001b[1;32m      5\u001b[0m     prev_num_cells\u001b[38;5;241m=\u001b[39m\u001b[38;5;241m2\u001b[39m,\n\u001b[1;32m      6\u001b[0m     rand_seed\u001b[38;5;241m=\u001b[39m\u001b[38;5;241m12345\u001b[39m\n\u001b[1;32m      7\u001b[0m )\n",
      "\u001b[0;31mNameError\u001b[0m: name 'approx_mc2_core' is not defined"
     ]
    }
   ],
   "source": [
    "# approx_mc2_core(\n",
    "#     rules, y,\n",
    "#     lmbd=lmbd, ub=ub,\n",
    "#     thresh=100,\n",
    "#     prev_num_cells=2,\n",
    "#     rand_seed=12345\n",
    "# )"
   ]
  }
 ],
 "metadata": {
  "kernelspec": {
   "display_name": "Python 3 (ipykernel)",
   "language": "python",
   "name": "python3"
  },
  "language_info": {
   "codemirror_mode": {
    "name": "ipython",
    "version": 3
   },
   "file_extension": ".py",
   "mimetype": "text/x-python",
   "name": "python",
   "nbconvert_exporter": "python",
   "pygments_lexer": "ipython3",
   "version": "3.9.16"
  }
 },
 "nbformat": 4,
 "nbformat_minor": 5
}
