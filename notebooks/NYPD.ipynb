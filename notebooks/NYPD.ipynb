{
 "cells": [
  {
   "cell_type": "code",
   "execution_count": 39,
   "id": "27a27ba0",
   "metadata": {},
   "outputs": [
    {
     "name": "stdout",
     "output_type": "stream",
     "text": [
      "/u/50/ciaperm1/unix\n"
     ]
    }
   ],
   "source": [
    "import logging\n",
    "import sys\n",
    "import os\n",
    "%cd ..\n",
    "from bds.meel import approx_mc2, approx_mc2_core\n",
    "from bds.rule import Rule\n",
    "from bds.utils import bin_random , bin_array, randints, solutions_to_dict\n",
    "\n",
    "#from bds.bb import BranchAndBoundNaive, BranchAndBoundV1, BranchAndBoundV0, BranchAndBoundV2\n",
    "from logzero import logger\n",
    "import gmpy2 as gmp\n",
    "from gmpy2 import mpz , mpfr\n",
    "from bds.sat.min_freq import construct_min_freq_program\n",
    "from bds.sat.solver import construct_solver\n",
    "from bds.gf2 import GF\n",
    "from bds.rule import Rule\n",
    "from bds.utils import mpz_set_bits\n",
    "from tests.utils import assert_dict_allclose, assert_close_mpfr\n",
    "\n",
    "#from bds.bounds_utils import find_equivalence_classes\n",
    "import numpy as np \n",
    "\n",
    "from bds.cbb_v2 import * \n",
    "from bds.cbb_v2 import (\n",
    "    ConstrainedBranchAndBound,\n",
    "    count_added_pivots,\n",
    "    ensure_no_violation,\n",
    "    ensure_satisfiability,\n",
    ")\n",
    "\n",
    "logger.setLevel(logging.DEBUG)\n",
    "\n",
    "num_pts = 500\n",
    "\n",
    "show_progres = True\n",
    "rand_seed = 1234"
   ]
  },
  {
   "cell_type": "code",
   "execution_count": 40,
   "id": "3558a4e6",
   "metadata": {},
   "outputs": [
    {
     "ename": "FileNotFoundError",
     "evalue": "[Errno 2] No such file or directory: 'data/sqf-2016.csv'",
     "output_type": "error",
     "traceback": [
      "\u001b[0;31m---------------------------------------------------------------------------\u001b[0m",
      "\u001b[0;31mFileNotFoundError\u001b[0m                         Traceback (most recent call last)",
      "Cell \u001b[0;32mIn[40], line 3\u001b[0m\n\u001b[1;32m      1\u001b[0m \u001b[38;5;66;03m# Load the CSV file using Pandas\u001b[39;00m\n\u001b[1;32m      2\u001b[0m \u001b[38;5;28;01mimport\u001b[39;00m \u001b[38;5;21;01mpandas\u001b[39;00m \u001b[38;5;28;01mas\u001b[39;00m \u001b[38;5;21;01mpd\u001b[39;00m\n\u001b[0;32m----> 3\u001b[0m df \u001b[38;5;241m=\u001b[39m \u001b[43mpd\u001b[49m\u001b[38;5;241;43m.\u001b[39;49m\u001b[43mread_csv\u001b[49m\u001b[43m(\u001b[49m\u001b[38;5;124;43m'\u001b[39;49m\u001b[38;5;124;43mdata/sqf-2016.csv\u001b[39;49m\u001b[38;5;124;43m'\u001b[39;49m\u001b[43m)\u001b[49m\n",
      "File \u001b[0;32m~/anaconda3/envs/mynewenvnewest/lib/python3.9/site-packages/pandas/io/parsers/readers.py:912\u001b[0m, in \u001b[0;36mread_csv\u001b[0;34m(filepath_or_buffer, sep, delimiter, header, names, index_col, usecols, dtype, engine, converters, true_values, false_values, skipinitialspace, skiprows, skipfooter, nrows, na_values, keep_default_na, na_filter, verbose, skip_blank_lines, parse_dates, infer_datetime_format, keep_date_col, date_parser, date_format, dayfirst, cache_dates, iterator, chunksize, compression, thousands, decimal, lineterminator, quotechar, quoting, doublequote, escapechar, comment, encoding, encoding_errors, dialect, on_bad_lines, delim_whitespace, low_memory, memory_map, float_precision, storage_options, dtype_backend)\u001b[0m\n\u001b[1;32m    899\u001b[0m kwds_defaults \u001b[38;5;241m=\u001b[39m _refine_defaults_read(\n\u001b[1;32m    900\u001b[0m     dialect,\n\u001b[1;32m    901\u001b[0m     delimiter,\n\u001b[0;32m   (...)\u001b[0m\n\u001b[1;32m    908\u001b[0m     dtype_backend\u001b[38;5;241m=\u001b[39mdtype_backend,\n\u001b[1;32m    909\u001b[0m )\n\u001b[1;32m    910\u001b[0m kwds\u001b[38;5;241m.\u001b[39mupdate(kwds_defaults)\n\u001b[0;32m--> 912\u001b[0m \u001b[38;5;28;01mreturn\u001b[39;00m \u001b[43m_read\u001b[49m\u001b[43m(\u001b[49m\u001b[43mfilepath_or_buffer\u001b[49m\u001b[43m,\u001b[49m\u001b[43m \u001b[49m\u001b[43mkwds\u001b[49m\u001b[43m)\u001b[49m\n",
      "File \u001b[0;32m~/anaconda3/envs/mynewenvnewest/lib/python3.9/site-packages/pandas/io/parsers/readers.py:577\u001b[0m, in \u001b[0;36m_read\u001b[0;34m(filepath_or_buffer, kwds)\u001b[0m\n\u001b[1;32m    574\u001b[0m _validate_names(kwds\u001b[38;5;241m.\u001b[39mget(\u001b[38;5;124m\"\u001b[39m\u001b[38;5;124mnames\u001b[39m\u001b[38;5;124m\"\u001b[39m, \u001b[38;5;28;01mNone\u001b[39;00m))\n\u001b[1;32m    576\u001b[0m \u001b[38;5;66;03m# Create the parser.\u001b[39;00m\n\u001b[0;32m--> 577\u001b[0m parser \u001b[38;5;241m=\u001b[39m \u001b[43mTextFileReader\u001b[49m\u001b[43m(\u001b[49m\u001b[43mfilepath_or_buffer\u001b[49m\u001b[43m,\u001b[49m\u001b[43m \u001b[49m\u001b[38;5;241;43m*\u001b[39;49m\u001b[38;5;241;43m*\u001b[39;49m\u001b[43mkwds\u001b[49m\u001b[43m)\u001b[49m\n\u001b[1;32m    579\u001b[0m \u001b[38;5;28;01mif\u001b[39;00m chunksize \u001b[38;5;129;01mor\u001b[39;00m iterator:\n\u001b[1;32m    580\u001b[0m     \u001b[38;5;28;01mreturn\u001b[39;00m parser\n",
      "File \u001b[0;32m~/anaconda3/envs/mynewenvnewest/lib/python3.9/site-packages/pandas/io/parsers/readers.py:1407\u001b[0m, in \u001b[0;36mTextFileReader.__init__\u001b[0;34m(self, f, engine, **kwds)\u001b[0m\n\u001b[1;32m   1404\u001b[0m     \u001b[38;5;28mself\u001b[39m\u001b[38;5;241m.\u001b[39moptions[\u001b[38;5;124m\"\u001b[39m\u001b[38;5;124mhas_index_names\u001b[39m\u001b[38;5;124m\"\u001b[39m] \u001b[38;5;241m=\u001b[39m kwds[\u001b[38;5;124m\"\u001b[39m\u001b[38;5;124mhas_index_names\u001b[39m\u001b[38;5;124m\"\u001b[39m]\n\u001b[1;32m   1406\u001b[0m \u001b[38;5;28mself\u001b[39m\u001b[38;5;241m.\u001b[39mhandles: IOHandles \u001b[38;5;241m|\u001b[39m \u001b[38;5;28;01mNone\u001b[39;00m \u001b[38;5;241m=\u001b[39m \u001b[38;5;28;01mNone\u001b[39;00m\n\u001b[0;32m-> 1407\u001b[0m \u001b[38;5;28mself\u001b[39m\u001b[38;5;241m.\u001b[39m_engine \u001b[38;5;241m=\u001b[39m \u001b[38;5;28;43mself\u001b[39;49m\u001b[38;5;241;43m.\u001b[39;49m\u001b[43m_make_engine\u001b[49m\u001b[43m(\u001b[49m\u001b[43mf\u001b[49m\u001b[43m,\u001b[49m\u001b[43m \u001b[49m\u001b[38;5;28;43mself\u001b[39;49m\u001b[38;5;241;43m.\u001b[39;49m\u001b[43mengine\u001b[49m\u001b[43m)\u001b[49m\n",
      "File \u001b[0;32m~/anaconda3/envs/mynewenvnewest/lib/python3.9/site-packages/pandas/io/parsers/readers.py:1661\u001b[0m, in \u001b[0;36mTextFileReader._make_engine\u001b[0;34m(self, f, engine)\u001b[0m\n\u001b[1;32m   1659\u001b[0m     \u001b[38;5;28;01mif\u001b[39;00m \u001b[38;5;124m\"\u001b[39m\u001b[38;5;124mb\u001b[39m\u001b[38;5;124m\"\u001b[39m \u001b[38;5;129;01mnot\u001b[39;00m \u001b[38;5;129;01min\u001b[39;00m mode:\n\u001b[1;32m   1660\u001b[0m         mode \u001b[38;5;241m+\u001b[39m\u001b[38;5;241m=\u001b[39m \u001b[38;5;124m\"\u001b[39m\u001b[38;5;124mb\u001b[39m\u001b[38;5;124m\"\u001b[39m\n\u001b[0;32m-> 1661\u001b[0m \u001b[38;5;28mself\u001b[39m\u001b[38;5;241m.\u001b[39mhandles \u001b[38;5;241m=\u001b[39m \u001b[43mget_handle\u001b[49m\u001b[43m(\u001b[49m\n\u001b[1;32m   1662\u001b[0m \u001b[43m    \u001b[49m\u001b[43mf\u001b[49m\u001b[43m,\u001b[49m\n\u001b[1;32m   1663\u001b[0m \u001b[43m    \u001b[49m\u001b[43mmode\u001b[49m\u001b[43m,\u001b[49m\n\u001b[1;32m   1664\u001b[0m \u001b[43m    \u001b[49m\u001b[43mencoding\u001b[49m\u001b[38;5;241;43m=\u001b[39;49m\u001b[38;5;28;43mself\u001b[39;49m\u001b[38;5;241;43m.\u001b[39;49m\u001b[43moptions\u001b[49m\u001b[38;5;241;43m.\u001b[39;49m\u001b[43mget\u001b[49m\u001b[43m(\u001b[49m\u001b[38;5;124;43m\"\u001b[39;49m\u001b[38;5;124;43mencoding\u001b[39;49m\u001b[38;5;124;43m\"\u001b[39;49m\u001b[43m,\u001b[49m\u001b[43m \u001b[49m\u001b[38;5;28;43;01mNone\u001b[39;49;00m\u001b[43m)\u001b[49m\u001b[43m,\u001b[49m\n\u001b[1;32m   1665\u001b[0m \u001b[43m    \u001b[49m\u001b[43mcompression\u001b[49m\u001b[38;5;241;43m=\u001b[39;49m\u001b[38;5;28;43mself\u001b[39;49m\u001b[38;5;241;43m.\u001b[39;49m\u001b[43moptions\u001b[49m\u001b[38;5;241;43m.\u001b[39;49m\u001b[43mget\u001b[49m\u001b[43m(\u001b[49m\u001b[38;5;124;43m\"\u001b[39;49m\u001b[38;5;124;43mcompression\u001b[39;49m\u001b[38;5;124;43m\"\u001b[39;49m\u001b[43m,\u001b[49m\u001b[43m \u001b[49m\u001b[38;5;28;43;01mNone\u001b[39;49;00m\u001b[43m)\u001b[49m\u001b[43m,\u001b[49m\n\u001b[1;32m   1666\u001b[0m \u001b[43m    \u001b[49m\u001b[43mmemory_map\u001b[49m\u001b[38;5;241;43m=\u001b[39;49m\u001b[38;5;28;43mself\u001b[39;49m\u001b[38;5;241;43m.\u001b[39;49m\u001b[43moptions\u001b[49m\u001b[38;5;241;43m.\u001b[39;49m\u001b[43mget\u001b[49m\u001b[43m(\u001b[49m\u001b[38;5;124;43m\"\u001b[39;49m\u001b[38;5;124;43mmemory_map\u001b[39;49m\u001b[38;5;124;43m\"\u001b[39;49m\u001b[43m,\u001b[49m\u001b[43m \u001b[49m\u001b[38;5;28;43;01mFalse\u001b[39;49;00m\u001b[43m)\u001b[49m\u001b[43m,\u001b[49m\n\u001b[1;32m   1667\u001b[0m \u001b[43m    \u001b[49m\u001b[43mis_text\u001b[49m\u001b[38;5;241;43m=\u001b[39;49m\u001b[43mis_text\u001b[49m\u001b[43m,\u001b[49m\n\u001b[1;32m   1668\u001b[0m \u001b[43m    \u001b[49m\u001b[43merrors\u001b[49m\u001b[38;5;241;43m=\u001b[39;49m\u001b[38;5;28;43mself\u001b[39;49m\u001b[38;5;241;43m.\u001b[39;49m\u001b[43moptions\u001b[49m\u001b[38;5;241;43m.\u001b[39;49m\u001b[43mget\u001b[49m\u001b[43m(\u001b[49m\u001b[38;5;124;43m\"\u001b[39;49m\u001b[38;5;124;43mencoding_errors\u001b[39;49m\u001b[38;5;124;43m\"\u001b[39;49m\u001b[43m,\u001b[49m\u001b[43m \u001b[49m\u001b[38;5;124;43m\"\u001b[39;49m\u001b[38;5;124;43mstrict\u001b[39;49m\u001b[38;5;124;43m\"\u001b[39;49m\u001b[43m)\u001b[49m\u001b[43m,\u001b[49m\n\u001b[1;32m   1669\u001b[0m \u001b[43m    \u001b[49m\u001b[43mstorage_options\u001b[49m\u001b[38;5;241;43m=\u001b[39;49m\u001b[38;5;28;43mself\u001b[39;49m\u001b[38;5;241;43m.\u001b[39;49m\u001b[43moptions\u001b[49m\u001b[38;5;241;43m.\u001b[39;49m\u001b[43mget\u001b[49m\u001b[43m(\u001b[49m\u001b[38;5;124;43m\"\u001b[39;49m\u001b[38;5;124;43mstorage_options\u001b[39;49m\u001b[38;5;124;43m\"\u001b[39;49m\u001b[43m,\u001b[49m\u001b[43m \u001b[49m\u001b[38;5;28;43;01mNone\u001b[39;49;00m\u001b[43m)\u001b[49m\u001b[43m,\u001b[49m\n\u001b[1;32m   1670\u001b[0m \u001b[43m\u001b[49m\u001b[43m)\u001b[49m\n\u001b[1;32m   1671\u001b[0m \u001b[38;5;28;01massert\u001b[39;00m \u001b[38;5;28mself\u001b[39m\u001b[38;5;241m.\u001b[39mhandles \u001b[38;5;129;01mis\u001b[39;00m \u001b[38;5;129;01mnot\u001b[39;00m \u001b[38;5;28;01mNone\u001b[39;00m\n\u001b[1;32m   1672\u001b[0m f \u001b[38;5;241m=\u001b[39m \u001b[38;5;28mself\u001b[39m\u001b[38;5;241m.\u001b[39mhandles\u001b[38;5;241m.\u001b[39mhandle\n",
      "File \u001b[0;32m~/anaconda3/envs/mynewenvnewest/lib/python3.9/site-packages/pandas/io/common.py:859\u001b[0m, in \u001b[0;36mget_handle\u001b[0;34m(path_or_buf, mode, encoding, compression, memory_map, is_text, errors, storage_options)\u001b[0m\n\u001b[1;32m    854\u001b[0m \u001b[38;5;28;01melif\u001b[39;00m \u001b[38;5;28misinstance\u001b[39m(handle, \u001b[38;5;28mstr\u001b[39m):\n\u001b[1;32m    855\u001b[0m     \u001b[38;5;66;03m# Check whether the filename is to be opened in binary mode.\u001b[39;00m\n\u001b[1;32m    856\u001b[0m     \u001b[38;5;66;03m# Binary mode does not support 'encoding' and 'newline'.\u001b[39;00m\n\u001b[1;32m    857\u001b[0m     \u001b[38;5;28;01mif\u001b[39;00m ioargs\u001b[38;5;241m.\u001b[39mencoding \u001b[38;5;129;01mand\u001b[39;00m \u001b[38;5;124m\"\u001b[39m\u001b[38;5;124mb\u001b[39m\u001b[38;5;124m\"\u001b[39m \u001b[38;5;129;01mnot\u001b[39;00m \u001b[38;5;129;01min\u001b[39;00m ioargs\u001b[38;5;241m.\u001b[39mmode:\n\u001b[1;32m    858\u001b[0m         \u001b[38;5;66;03m# Encoding\u001b[39;00m\n\u001b[0;32m--> 859\u001b[0m         handle \u001b[38;5;241m=\u001b[39m \u001b[38;5;28;43mopen\u001b[39;49m\u001b[43m(\u001b[49m\n\u001b[1;32m    860\u001b[0m \u001b[43m            \u001b[49m\u001b[43mhandle\u001b[49m\u001b[43m,\u001b[49m\n\u001b[1;32m    861\u001b[0m \u001b[43m            \u001b[49m\u001b[43mioargs\u001b[49m\u001b[38;5;241;43m.\u001b[39;49m\u001b[43mmode\u001b[49m\u001b[43m,\u001b[49m\n\u001b[1;32m    862\u001b[0m \u001b[43m            \u001b[49m\u001b[43mencoding\u001b[49m\u001b[38;5;241;43m=\u001b[39;49m\u001b[43mioargs\u001b[49m\u001b[38;5;241;43m.\u001b[39;49m\u001b[43mencoding\u001b[49m\u001b[43m,\u001b[49m\n\u001b[1;32m    863\u001b[0m \u001b[43m            \u001b[49m\u001b[43merrors\u001b[49m\u001b[38;5;241;43m=\u001b[39;49m\u001b[43merrors\u001b[49m\u001b[43m,\u001b[49m\n\u001b[1;32m    864\u001b[0m \u001b[43m            \u001b[49m\u001b[43mnewline\u001b[49m\u001b[38;5;241;43m=\u001b[39;49m\u001b[38;5;124;43m\"\u001b[39;49m\u001b[38;5;124;43m\"\u001b[39;49m\u001b[43m,\u001b[49m\n\u001b[1;32m    865\u001b[0m \u001b[43m        \u001b[49m\u001b[43m)\u001b[49m\n\u001b[1;32m    866\u001b[0m     \u001b[38;5;28;01melse\u001b[39;00m:\n\u001b[1;32m    867\u001b[0m         \u001b[38;5;66;03m# Binary mode\u001b[39;00m\n\u001b[1;32m    868\u001b[0m         handle \u001b[38;5;241m=\u001b[39m \u001b[38;5;28mopen\u001b[39m(handle, ioargs\u001b[38;5;241m.\u001b[39mmode)\n",
      "\u001b[0;31mFileNotFoundError\u001b[0m: [Errno 2] No such file or directory: 'data/sqf-2016.csv'"
     ]
    }
   ],
   "source": [
    "# Load the CSV file using Pandas\n",
    "import pandas as pd\n",
    "df = pd.read_csv('data/sqf-2016.csv')\n"
   ]
  },
  {
   "cell_type": "code",
   "execution_count": null,
   "id": "f17e8a22",
   "metadata": {},
   "outputs": [],
   "source": [
    "toexcl = ['riflshot',\n",
    " 'asltweap',\n",
    " 'knifcuti',\n",
    " 'machgun',\n",
    " 'othrweap',\n",
    " 'pf_hands',\n",
    " 'pf_wall',\n",
    " 'pf_grnd',\n",
    " 'pf_drwep',\n",
    " 'pf_ptwep',\n",
    " 'pf_baton',\n",
    " 'pf_hcuff',\n",
    " 'pf_pepsp',\n",
    " 'pf_other',\n",
    " 'radio',\n",
    " 'ac_rept',\n",
    " 'ac_inves',\n",
    " 'rf_vcrim',\n",
    " 'rf_othsw',\n",
    " 'ac_proxm',\n",
    " 'rf_attir',\n",
    " 'cs_objcs',\n",
    " 'cs_descr',\n",
    " 'cs_casng',\n",
    " 'cs_lkout',\n",
    " 'rf_vcact',\n",
    " 'cs_cloth',\n",
    " 'cs_drgtr',\n",
    " 'ac_evasv',\n",
    " 'ac_assoc',\n",
    " 'cs_furtv',\n",
    " 'rf_rfcmp',\n",
    " 'ac_cgdir',\n",
    " 'rf_verbl',\n",
    " 'cs_vcrim',\n",
    " 'cs_bulge',\n",
    " 'cs_other',\n",
    " 'ac_incid',\n",
    " 'ac_time',\n",
    " 'rf_knowl',\n",
    " 'ac_stsnd',\n",
    " 'ac_other',\n",
    " 'sb_hdobj',\n",
    " 'sb_outln',\n",
    " 'sb_admis',\n",
    " 'sb_other',\n",
    " 'rf_furt',\n",
    " 'rf_bulg',\n",
    " 'offverb',\n",
    " 'offshld',\n",
    " 'dettypCM',\n",
    " 'lineCM']"
   ]
  },
  {
   "cell_type": "code",
   "execution_count": null,
   "id": "84e322e0",
   "metadata": {},
   "outputs": [],
   "source": [
    "to_keep = [] \n",
    "for col in df.columns: \n",
    "    \n",
    "    if col == \"pistol\": \n",
    "        y = np.array(df[col])\n",
    "        continue \n",
    "        \n",
    "\n",
    "    \n",
    "    if col!=\"year\" and col not in toexcl:\n",
    "        l = len(df[col].unique())\n",
    "        if l <= 3 and l>1 : \n",
    "            to_keep.append(col) "
   ]
  },
  {
   "cell_type": "code",
   "execution_count": 41,
   "id": "cab1c0f9",
   "metadata": {},
   "outputs": [
    {
     "data": {
      "text/plain": [
       "['recstat',\n",
       " 'inout',\n",
       " 'explnstp',\n",
       " 'othpers',\n",
       " 'arstmade',\n",
       " 'sumissue',\n",
       " 'compyear',\n",
       " 'comppct',\n",
       " 'offunif',\n",
       " 'officrid',\n",
       " 'frisked',\n",
       " 'searched',\n",
       " 'contrabn',\n",
       " 'adtlrept']"
      ]
     },
     "execution_count": 41,
     "metadata": {},
     "output_type": "execute_result"
    }
   ],
   "source": [
    "to_keep"
   ]
  },
  {
   "cell_type": "code",
   "execution_count": 42,
   "id": "e0134438",
   "metadata": {},
   "outputs": [],
   "source": [
    "df2 = df[to_keep] \n",
    "df_categorical = df2.select_dtypes(include='object')  # Select columns of type 'object' (categorical)\n",
    "df_encoded = pd.get_dummies(df_categorical)"
   ]
  },
  {
   "cell_type": "code",
   "execution_count": 43,
   "id": "4efda191",
   "metadata": {},
   "outputs": [
    {
     "data": {
      "text/plain": [
       "(12405, 40)"
      ]
     },
     "execution_count": 43,
     "metadata": {},
     "output_type": "execute_result"
    }
   ],
   "source": [
    "df_encoded.shape"
   ]
  },
  {
   "cell_type": "code",
   "execution_count": 44,
   "id": "e68d383b",
   "metadata": {},
   "outputs": [
    {
     "data": {
      "text/plain": [
       "(500,)"
      ]
     },
     "execution_count": 44,
     "metadata": {},
     "output_type": "execute_result"
    }
   ],
   "source": [
    "y.shape"
   ]
  },
  {
   "cell_type": "code",
   "execution_count": 45,
   "id": "10504b75",
   "metadata": {},
   "outputs": [],
   "source": [
    "from bds.fpgrowth import preprocess_transaction_list, build_fptree, fpgrowth_on_tree"
   ]
  },
  {
   "cell_type": "code",
   "execution_count": 46,
   "id": "ccb44dc4",
   "metadata": {},
   "outputs": [],
   "source": [
    "X = df_encoded.to_numpy().astype(bool)"
   ]
  },
  {
   "cell_type": "code",
   "execution_count": 47,
   "id": "3a2f40ed",
   "metadata": {},
   "outputs": [],
   "source": [
    "np.unique(y)\n",
    "new = [] \n",
    "for x in y: \n",
    "    \n",
    "    if x ==\"N\": \n",
    "        new.append(0) \n",
    "    else: \n",
    "        new.append(1) \n",
    "        \n",
    "y = np.array(new).astype(bool)"
   ]
  },
  {
   "cell_type": "code",
   "execution_count": 48,
   "id": "01ce01ab",
   "metadata": {},
   "outputs": [],
   "source": [
    "lmbd = 0.1\n",
    "min_support = 450\n",
    "\n",
    "# now we need to extract rules \n",
    "X_bag = [set([j for j, x in enumerate(row) if x]) for row in X]\n",
    "\n",
    "ordered_input_data = preprocess_transaction_list(\n",
    "    X_bag, min_support\n",
    ")\n",
    "tree = build_fptree(ordered_input_data)\n",
    "frequent_itemsets = set(fpgrowth_on_tree(tree, set(), min_support))"
   ]
  },
  {
   "cell_type": "code",
   "execution_count": 49,
   "id": "e5d4b266",
   "metadata": {},
   "outputs": [],
   "source": [
    "from bds.rule import Rule\n",
    "from time import time\n",
    "\n",
    "def compute_truthtable(X,itemset): \n",
    "    ''' poorly optimized function '''\n",
    "    support_list = [] \n",
    "    for i in range(X.shape[0]): \n",
    "        if sum([X[i][j] for j in itemset]) == len(itemset): \n",
    "            support_list.append(i)\n",
    "                \n",
    "    truthtable = mpz_set_bits(mpz(), support_list)\n",
    "    \n",
    "    return truthtable"
   ]
  },
  {
   "cell_type": "code",
   "execution_count": null,
   "id": "a1f45be0",
   "metadata": {},
   "outputs": [],
   "source": [
    "# Now create rules \n",
    "rules = [] \n",
    "for i,itemset in enumerate(frequent_itemsets):\n",
    "    tt = compute_truthtable(X,itemset)\n",
    "    this_Rule = Rule(id = i+1, name = \"rule_\" + str(i), cardinality=len(itemset), truthtable=tt)\n",
    "    # we need the truthtable for this itemset \n",
    "    rules.append(this_Rule) \n",
    "    "
   ]
  },
  {
   "cell_type": "code",
   "execution_count": null,
   "id": "dec2dc91",
   "metadata": {},
   "outputs": [],
   "source": [
    "len(rules)"
   ]
  },
  {
   "cell_type": "code",
   "execution_count": null,
   "id": "b2f4e81c",
   "metadata": {},
   "outputs": [],
   "source": [
    "import pickle \n",
    "pickle.dump(rules, open(\"rules_NYPD_\" + str(len(rules)), \"wb\" ))"
   ]
  },
  {
   "cell_type": "code",
   "execution_count": 19,
   "id": "da5db8ef",
   "metadata": {},
   "outputs": [],
   "source": [
    "from bds.cbb_v2 import (\n",
    "    ConstrainedBranchAndBound,\n",
    "    count_added_pivots,\n",
    "    ensure_no_violation,\n",
    "    ensure_satisfiability,\n",
    ")"
   ]
  },
  {
   "cell_type": "code",
   "execution_count": 20,
   "id": "838a83ea",
   "metadata": {},
   "outputs": [
    {
     "name": "stderr",
     "output_type": "stream",
     "text": [
      "[D 230620 20:23:03 bb:53] calling ConstrainedBranchAndBoundNaive with ub=0.4, lmbd=0.1\n",
      "[D 230620 20:23:03 bb:53] calling ConstrainedBranchAndBound with ub=0.4, lmbd=0.1\n"
     ]
    }
   ],
   "source": [
    "lmbd = 0.1\n",
    "ub = 0.4 \n",
    "cbb = ConstrainedBranchAndBoundNaive(rules, ub, y, lmbd)\n",
    "cbb_v2 = ConstrainedBranchAndBound(rules, ub, y, lmbd)"
   ]
  },
  {
   "cell_type": "code",
   "execution_count": 21,
   "id": "7719e669",
   "metadata": {},
   "outputs": [],
   "source": [
    "import time "
   ]
  },
  {
   "cell_type": "code",
   "execution_count": null,
   "id": "49344341",
   "metadata": {},
   "outputs": [],
   "source": []
  },
  {
   "cell_type": "code",
   "execution_count": 36,
   "id": "04296887",
   "metadata": {},
   "outputs": [
    {
     "name": "stderr",
     "output_type": "stream",
     "text": [
      "[D 230620 20:27:13 bb:53] calling ConstrainedBranchAndBoundNaive with ub=0.5, lmbd=0.1\n",
      "[D 230620 20:27:13 bb:53] calling ConstrainedBranchAndBound with ub=0.5, lmbd=0.1\n",
      "[D 230620 20:27:13 cbb:160] setting up the parity constraint system\n",
      "[D 230620 20:27:13 cbb:129] simplifying A x = t using rref\n",
      "[D 230620 20:27:13 cbb:136] density(A_rref) = 47.717% (from 54.0%)\n",
      "[D 230620 20:27:13 cbb:160] setting up the parity constraint system\n",
      "[D 230620 20:27:13 cbb:129] simplifying A x = t using rref\n",
      "[D 230620 20:27:13 cbb:136] density(A_rref) = 47.717% (from 54.0%)\n",
      "[D 230620 20:27:13 meel:358] calling approx_mc2 with eps = 0.12 and delta=0.12\n",
      "[D 230620 20:27:13 meel:361] thresh = 886.60\n",
      "[D 230620 20:27:13 bb:53] calling BranchAndBoundNaive with ub=0.5, lmbd=0.1\n",
      "[D 230620 20:27:13 meel:372] BB solving (thresh=886) takes 0.00 secs\n",
      "    and gave 0 solutions\n",
      "[D 230620 20:27:13 meel:377] exit since number of solutions 0 < 886\n",
      "[D 230620 20:27:13 bb:53] calling ConstrainedBranchAndBoundNaive with ub=0.5, lmbd=0.1\n",
      "[D 230620 20:27:13 bb:53] calling ConstrainedBranchAndBound with ub=0.5, lmbd=0.1\n",
      "[D 230620 20:27:13 cbb:160] setting up the parity constraint system\n",
      "[D 230620 20:27:13 cbb:129] simplifying A x = t using rref\n",
      "[D 230620 20:27:13 cbb:136] density(A_rref) = 47.717% (from 54.0%)\n",
      "[D 230620 20:27:13 cbb:160] setting up the parity constraint system\n",
      "[D 230620 20:27:13 cbb:129] simplifying A x = t using rref\n",
      "[D 230620 20:27:13 cbb:136] density(A_rref) = 47.717% (from 54.0%)\n",
      "[D 230620 20:27:13 meel:358] calling approx_mc2 with eps = 0.12 and delta=0.12\n",
      "[D 230620 20:27:13 meel:361] thresh = 886.60\n",
      "[D 230620 20:27:13 bb:53] calling BranchAndBoundNaive with ub=0.5, lmbd=0.1\n",
      "[D 230620 20:27:13 meel:372] BB solving (thresh=886) takes 0.00 secs\n",
      "    and gave 0 solutions\n",
      "[D 230620 20:27:13 meel:377] exit since number of solutions 0 < 886\n"
     ]
    },
    {
     "name": "stdout",
     "output_type": "stream",
     "text": [
      "127\n",
      "127\n"
     ]
    },
    {
     "name": "stderr",
     "output_type": "stream",
     "text": [
      "[D 230620 20:27:13 bb:53] calling ConstrainedBranchAndBoundNaive with ub=0.5, lmbd=0.1\n",
      "[D 230620 20:27:13 bb:53] calling ConstrainedBranchAndBound with ub=0.5, lmbd=0.1\n",
      "[D 230620 20:27:13 cbb:160] setting up the parity constraint system\n",
      "[D 230620 20:27:13 cbb:129] simplifying A x = t using rref\n",
      "[D 230620 20:27:13 cbb:136] density(A_rref) = 48.350% (from 53.2%)\n",
      "[D 230620 20:27:13 cbb:160] setting up the parity constraint system\n",
      "[D 230620 20:27:13 cbb:129] simplifying A x = t using rref\n",
      "[D 230620 20:27:13 cbb:136] density(A_rref) = 48.350% (from 53.2%)\n",
      "[D 230620 20:27:13 meel:358] calling approx_mc2 with eps = 0.12 and delta=0.12\n",
      "[D 230620 20:27:13 meel:361] thresh = 886.60\n",
      "[D 230620 20:27:13 bb:53] calling BranchAndBoundNaive with ub=0.5, lmbd=0.1\n",
      "[D 230620 20:27:13 meel:372] BB solving (thresh=886) takes 0.00 secs\n",
      "    and gave 0 solutions\n",
      "[D 230620 20:27:13 meel:377] exit since number of solutions 0 < 886\n"
     ]
    },
    {
     "name": "stdout",
     "output_type": "stream",
     "text": [
      "103\n"
     ]
    }
   ],
   "source": [
    "ordered_input_data = preprocess_transaction_list(\n",
    "    X_bag, min_support\n",
    ")\n",
    "tree = build_fptree(ordered_input_data)\n",
    "\n",
    "all_times_naive = [] \n",
    "all_times = [] \n",
    "all_times_approx_mc2= []\n",
    "\n",
    "eps = 0.125\n",
    "delta = 0.125\n",
    "\n",
    "for min_support in [350, 400, 450]:  \n",
    "    \n",
    "    \n",
    "    #print(\"min support \" + str(min_support)) \n",
    "    #print(\"tree \" + str(tree))\n",
    "\n",
    "    frequent_itemsets = set(fpgrowth_on_tree(tree, set(), min_support))\n",
    "    # Now create rules \n",
    "    rules = [] \n",
    "    for i,itemset in enumerate(frequent_itemsets):\n",
    "        tt = compute_truthtable(X,itemset)\n",
    "        this_Rule = Rule(id = i+1, name = \"rule_\" + str(i), cardinality=len(itemset), truthtable=tt)\n",
    "        # we need the truthtable for this itemset \n",
    "        rules.append(this_Rule) \n",
    "    \n",
    "    #    \n",
    "    #\n",
    "    \n",
    "    print(len(rules))\n",
    "    \n",
    "    pickle.dump(rules, open(\"rules_NYPD_\" + str(len(rules)), \"wb\" ))\n",
    "\n",
    "    lmbd = 0.1\n",
    "    ub = 0.5\n",
    "    cbb = ConstrainedBranchAndBoundNaive(rules, ub, y, lmbd)\n",
    "    cbb_v2 = ConstrainedBranchAndBound(rules, ub, y, lmbd)\n",
    "    \n",
    "    #\n",
    "    #\n",
    "    \n",
    "    rand_seed = 12\n",
    "    num_constraints = 5\n",
    "    num_rules = len(rules)\n",
    "    \n",
    "    from bds.random_hash import generate_h_and_alpha\n",
    "    A, t = generate_h_and_alpha(\n",
    "    num_rules, num_constraints, rand_seed, as_numpy=True\n",
    "    )\n",
    "    \n",
    "    start_time = time.time() \n",
    "    actual_sols = solutions_to_dict(\n",
    "    list(cbb_v2.run(return_objective=True, A=A, t=t)))\n",
    "    all_times.append(time.time() - start_time)\n",
    "    \n",
    "    \n",
    "    start_time = time.time() \n",
    "    actual_sols = solutions_to_dict(\n",
    "    list(cbb.run(return_objective=True, A=A, t=t)))\n",
    "    all_times_naive.append(time.time() - start_time)\n",
    "    \n",
    "    \n",
    "    thresh = 72\n",
    "    prev_m = 1\n",
    "    start_time = time.time() \n",
    "    est = approx_mc2( rules =  rules,\n",
    "    y=y,\n",
    "    lmbd = lmbd,\n",
    "    ub = ub,\n",
    "    delta =delta,\n",
    "    eps =  eps)\n",
    "    all_times_approx_mc2.append(time.time() - start_time)"
   ]
  },
  {
   "cell_type": "code",
   "execution_count": 37,
   "id": "65a931f3",
   "metadata": {},
   "outputs": [
    {
     "data": {
      "text/plain": [
       "[0.0034508705139160156, 0.0034492015838623047, 0.003145456314086914]"
      ]
     },
     "execution_count": 37,
     "metadata": {},
     "output_type": "execute_result"
    }
   ],
   "source": [
    "all_times_approx_mc2"
   ]
  },
  {
   "cell_type": "code",
   "execution_count": 29,
   "id": "d84d7e52",
   "metadata": {},
   "outputs": [
    {
     "data": {
      "image/png": "[encoded data removed]",
      "text/plain": [
       "<Figure size 638x370 with 1 Axes>"
      ]
     },
     "metadata": {},
     "output_type": "display_data"
    }
   ],
   "source": [
    "import matplotlib.pyplot as plt \n",
    "fig, ax = plt.subplots(1, 1, figsize=(6.38, 3.7))\n",
    "colors = ['#1f77b4', '#ff7f0e', '#2ca02c', '#d62728', '#9467bd', '#8c564b', '#e377c2', '#7f7f7f']\n",
    "\n",
    "all_n_rules = [127, 103]\n",
    "\n",
    "plt.plot(all_n_rules, all_times_naive[1:], label=\"CBB-Naive\", marker = \"o\", linewidth=1.5 , color = colors[0],  markersize = 12 , markeredgewidth=0.5, markeredgecolor= \"grey\"  , alpha = 0.7) \n",
    "plt.plot(all_n_rules, all_times[1:], label=\"CBB\", marker = \"^\", linewidth=1.5 , color = colors[1],   markersize = 12 , markeredgewidth=0.5, markeredgecolor= \"grey\"  , alpha = 0.7) \n",
    "plt.plot(all_n_rules, all_times_approx_mc2[1:], label=\"ApproxMC2\", marker = \"^\", linewidth=1.5 , color = colors[2],   markersize = 12 , markeredgewidth=0.5, markeredgecolor= \"grey\"  , alpha = 0.7) \n",
    "\n",
    "plt.title(\"CBB vs CBB-Naive\") \n",
    "plt.xlabel(\"# Rules\", fontsize = 18)\n",
    "plt.ylabel(\"Runtime (s)\", fontsize = 18)\n",
    "plt.legend()\n",
    "plt.grid()\n",
    "plt.tight_layout() \n",
    "plt.yscale(\"log\")\n",
    "plt.savefig(\"plots/comparison_naive_and_v2_nypd_approx_mc_095\" + \".pdf\" )\n",
    "plt.show()"
   ]
  },
  {
   "cell_type": "code",
   "execution_count": null,
   "id": "779792d5",
   "metadata": {},
   "outputs": [],
   "source": []
  }
 ],
 "metadata": {
  "kernelspec": {
   "display_name": "Python 3 (ipykernel)",
   "language": "python",
   "name": "python3"
  },
  "language_info": {
   "codemirror_mode": {
    "name": "ipython",
    "version": 3
   },
   "file_extension": ".py",
   "mimetype": "text/x-python",
   "name": "python",
   "nbconvert_exporter": "python",
   "pygments_lexer": "ipython3",
   "version": "3.9.16"
  }
 },
 "nbformat": 4,
 "nbformat_minor": 5
}
