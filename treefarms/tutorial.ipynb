{
 "cells": [
  {
   "cell_type": "code",
   "execution_count": 7,
   "metadata": {},
   "outputs": [],
   "source": [
    "import pandas as pd\n",
    "import numpy as np\n",
    "import pathlib\n",
    "from sklearn.ensemble import GradientBoostingClassifier\n",
    "from sklearn.model_selection import train_test_split\n",
    "from treefarms.model.threshold_guess import compute_thresholds, cut\n",
    "from treefarms import TREEFARMS\n",
    "from treefarms.model.model_set import ModelSetContainer"
   ]
  },
  {
   "cell_type": "markdown",
   "metadata": {},
   "source": [
    "# Example\n",
    "\n",
    "In this example, we run TREEFARMS on COMPAS, a recidivism dataset. The COMPAS dataset contains 6907 samples and 7 continuous features. We visualize the Rashomon set using `timbertrek` package, as well as show the way to obtain individual trees from the Rashomon set.\n"
   ]
  },
  {
   "cell_type": "code",
   "execution_count": null,
   "metadata": {},
   "outputs": [],
   "source": [
    "# read the dataset\n",
    "df = pd.read_csv(\"../experiments/datasets/compas/binned.csv\")\n",
    "X, y = df.iloc[:, :-1], df.iloc[:, -1]\n",
    "h = df.columns[:-1]\n",
    "df\n"
   ]
  },
  {
   "cell_type": "markdown",
   "metadata": {},
   "source": [
    "We fit the Rashomon set on the COMPAS dataset.\n"
   ]
  },
  {
   "cell_type": "code",
   "execution_count": null,
   "metadata": {},
   "outputs": [],
   "source": [
    "# train TREEFARMS model\n",
    "config = {\n",
    "    \"regularization\": 0.01,  # regularization penalizes the tree with more leaves. We recommend to set it to relative high value to find a sparse tree.\n",
    "    \"rashomon_bound_multiplier\": 0.05,  # rashomon bound multiplier indicates how large of a Rashomon set would you like to get\n",
    "}\n",
    "\n",
    "model = TREEFARMS(config)\n",
    "\n",
    "model.fit(X, y)\n"
   ]
  },
  {
   "cell_type": "markdown",
   "metadata": {},
   "source": [
    "We then visualize the Rashomon set. "
   ]
  },
  {
   "cell_type": "code",
   "execution_count": null,
   "metadata": {},
   "outputs": [],
   "source": [
    "# # TREEFARMS will attempt to obtain feature names from the DataFrame columns.\n",
    "# # However, it is also possible to manually set this value, such as the\n",
    "# # commented code snippet below\n",
    "\n",
    "# feature_names = df.columns\n",
    "\n",
    "# feature_description = {\n",
    "#     \"sex\": {\"info\": \"Sex\", \"type\": \"is\", \"short\": \"Sex\"},\n",
    "#     \"age\": {\"info\": \"Age\", \"type\": \"count\", \"short\": \"Age\"},\n",
    "#     \"juvenile-felonies\": {\n",
    "#         \"info\": \"Number of juvenile felonies\",\n",
    "#         \"type\": \"count\",\n",
    "#         \"short\": \"Juv felony\",\n",
    "#     },\n",
    "#     \"juvenile-misdemeanors\": {\n",
    "#         \"info\": \"Number of juvenile misdemeanors\",\n",
    "#         \"type\": \"count\",\n",
    "#         \"short\": \"Juv misdemeanor\",\n",
    "#     },\n",
    "#     \"juvenile-crimes\": {\n",
    "#         \"info\": \"Number of juvenile crimes\",\n",
    "#         \"type\": \"count\",\n",
    "#         \"short\": \"Juv crime\",\n",
    "#     },\n",
    "#     \"priors\": {\n",
    "#         \"info\": \"Number of prior crimes\",\n",
    "#         \"type\": \"count\",\n",
    "#         \"short\": \"Prior crime\",\n",
    "#     },\n",
    "#     \"recidivate-within-two-years\": {\n",
    "#         \"info\": \"Has recidivated within two years\",\n",
    "#         \"type\": \"yes\",\n",
    "#         \"short\": \"Recidivated\",\n",
    "#     },\n",
    "# }\n",
    "# model.visualize(feature_names, feature_description)\n",
    "\n",
    "model.visualize()\n"
   ]
  },
  {
   "cell_type": "markdown",
   "metadata": {},
   "source": [
    "It is also possible to obtain individual trees from the Rashomon set. The following cell demonstrates getting the accuracy of the first tree in the Rashomon set as well as printing out its structure."
   ]
  },
  {
   "cell_type": "code",
   "execution_count": null,
   "metadata": {},
   "outputs": [],
   "source": [
    "first_tree = model[0]\n",
    "print(f'The accuracy of the first tree on the data is: {first_tree.score(X, y)}')\n",
    "print(model[0])"
   ]
  },
  {
   "cell_type": "markdown",
   "metadata": {},
   "source": [
    "Thank you for reading our tutorial. Please do try out our methods with different parameters and datasets. Happy tree farming!\n"
   ]
  }
 ],
 "metadata": {
  "kernelspec": {
   "display_name": "Python 3.8.13 ('gosdt')",
   "language": "python",
   "name": "python3"
  },
  "language_info": {
   "codemirror_mode": {
    "name": "ipython",
    "version": 3
   },
   "file_extension": ".py",
   "mimetype": "text/x-python",
   "name": "python",
   "nbconvert_exporter": "python",
   "pygments_lexer": "ipython3",
   "version": "3.8.13"
  },
  "vscode": {
   "interpreter": {
    "hash": "4c3c3f64da95a59853a098320396a9255cc0464439ce0191cb810800c64ab010"
   }
  }
 },
 "nbformat": 4,
 "nbformat_minor": 2
}
